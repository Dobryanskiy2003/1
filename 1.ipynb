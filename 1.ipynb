{
  "nbformat": 4,
  "nbformat_minor": 0,
  "metadata": {
    "colab": {
      "provenance": []
    },
    "kernelspec": {
      "name": "python3",
      "display_name": "Python 3"
    },
    "language_info": {
      "name": "python"
    }
  },
  "cells": [
    {
      "cell_type": "markdown",
      "source": [
        "# Модуль А\n",
        "\n",
        "Требуется предобработать данные для последующего использования их в модели."
      ],
      "metadata": {
        "id": "ltieA99Z0dW3"
      }
    },
    {
      "cell_type": "code",
      "execution_count": null,
      "metadata": {
        "id": "2W5N9wbNxkPq"
      },
      "outputs": [],
      "source": [
        "import numpy as np\n",
        "import pandas as pd\n",
        "import matplotlib.pyplot as plt\n",
        "import seaborn as sns"
      ]
    },
    {
      "cell_type": "markdown",
      "source": [
        "### Загрузка данных"
      ],
      "metadata": {
        "id": "gsZ_mnYF09m_"
      }
    },
    {
      "cell_type": "code",
      "source": [
        "df = pd.read_csv('pump.csv')\n",
        "df.head()"
      ],
      "metadata": {
        "colab": {
          "base_uri": "https://localhost:8080/",
          "height": 490
        },
        "id": "mDF5HnG71GQv",
        "outputId": "172f34b6-6f57-41ee-8e6d-76531f16af65"
      },
      "execution_count": null,
      "outputs": [
        {
          "output_type": "execute_result",
          "data": {
            "text/plain": [
              "   Unnamed: 0            timestamp  sensor_00  sensor_01  sensor_02  \\\n",
              "0           0  2018-04-01 00:00:00   2.465394   47.09201    53.2118   \n",
              "1           1  2018-04-01 00:01:00   2.465394   47.09201    53.2118   \n",
              "2           2  2018-04-01 00:02:00   2.444734   47.35243    53.2118   \n",
              "3           3  2018-04-01 00:03:00   2.460474   47.09201    53.1684   \n",
              "4           4  2018-04-01 00:04:00   2.445718   47.13541    53.2118   \n",
              "\n",
              "   sensor_03  sensor_04  sensor_05  sensor_06  sensor_07  ...  sensor_43  \\\n",
              "0  46.310760   634.3750   76.45975   13.41146   16.13136  ...   41.92708   \n",
              "1  46.310760   634.3750   76.45975   13.41146   16.13136  ...   41.92708   \n",
              "2  46.397570   638.8889   73.54598   13.32465   16.03733  ...   41.66666   \n",
              "3  46.397568   628.1250   76.98898   13.31742   16.24711  ...   40.88541   \n",
              "4  46.397568   636.4583   76.58897   13.35359   16.21094  ...   41.40625   \n",
              "\n",
              "   sensor_44  sensor_45  sensor_46  sensor_47  sensor_48  sensor_49  \\\n",
              "0  39.641200   65.68287   50.92593  38.194440   157.9861   67.70834   \n",
              "1  39.641200   65.68287   50.92593  38.194440   157.9861   67.70834   \n",
              "2  39.351852   65.39352   51.21528  38.194443   155.9606   67.12963   \n",
              "3  39.062500   64.81481   51.21528  38.194440   155.9606   66.84028   \n",
              "4  38.773150   65.10416   51.79398  38.773150   158.2755   66.55093   \n",
              "\n",
              "   sensor_50  sensor_51  machine_status  \n",
              "0   243.0556   201.3889          NORMAL  \n",
              "1   243.0556   201.3889          NORMAL  \n",
              "2   241.3194   203.7037          NORMAL  \n",
              "3   240.4514   203.1250          NORMAL  \n",
              "4   242.1875   201.3889          NORMAL  \n",
              "\n",
              "[5 rows x 55 columns]"
            ],
            "text/html": [
              "\n",
              "  <div id=\"df-8c344e59-a079-4190-8984-6b3cfdd39c1b\">\n",
              "    <div class=\"colab-df-container\">\n",
              "      <div>\n",
              "<style scoped>\n",
              "    .dataframe tbody tr th:only-of-type {\n",
              "        vertical-align: middle;\n",
              "    }\n",
              "\n",
              "    .dataframe tbody tr th {\n",
              "        vertical-align: top;\n",
              "    }\n",
              "\n",
              "    .dataframe thead th {\n",
              "        text-align: right;\n",
              "    }\n",
              "</style>\n",
              "<table border=\"1\" class=\"dataframe\">\n",
              "  <thead>\n",
              "    <tr style=\"text-align: right;\">\n",
              "      <th></th>\n",
              "      <th>Unnamed: 0</th>\n",
              "      <th>timestamp</th>\n",
              "      <th>sensor_00</th>\n",
              "      <th>sensor_01</th>\n",
              "      <th>sensor_02</th>\n",
              "      <th>sensor_03</th>\n",
              "      <th>sensor_04</th>\n",
              "      <th>sensor_05</th>\n",
              "      <th>sensor_06</th>\n",
              "      <th>sensor_07</th>\n",
              "      <th>...</th>\n",
              "      <th>sensor_43</th>\n",
              "      <th>sensor_44</th>\n",
              "      <th>sensor_45</th>\n",
              "      <th>sensor_46</th>\n",
              "      <th>sensor_47</th>\n",
              "      <th>sensor_48</th>\n",
              "      <th>sensor_49</th>\n",
              "      <th>sensor_50</th>\n",
              "      <th>sensor_51</th>\n",
              "      <th>machine_status</th>\n",
              "    </tr>\n",
              "  </thead>\n",
              "  <tbody>\n",
              "    <tr>\n",
              "      <th>0</th>\n",
              "      <td>0</td>\n",
              "      <td>2018-04-01 00:00:00</td>\n",
              "      <td>2.465394</td>\n",
              "      <td>47.09201</td>\n",
              "      <td>53.2118</td>\n",
              "      <td>46.310760</td>\n",
              "      <td>634.3750</td>\n",
              "      <td>76.45975</td>\n",
              "      <td>13.41146</td>\n",
              "      <td>16.13136</td>\n",
              "      <td>...</td>\n",
              "      <td>41.92708</td>\n",
              "      <td>39.641200</td>\n",
              "      <td>65.68287</td>\n",
              "      <td>50.92593</td>\n",
              "      <td>38.194440</td>\n",
              "      <td>157.9861</td>\n",
              "      <td>67.70834</td>\n",
              "      <td>243.0556</td>\n",
              "      <td>201.3889</td>\n",
              "      <td>NORMAL</td>\n",
              "    </tr>\n",
              "    <tr>\n",
              "      <th>1</th>\n",
              "      <td>1</td>\n",
              "      <td>2018-04-01 00:01:00</td>\n",
              "      <td>2.465394</td>\n",
              "      <td>47.09201</td>\n",
              "      <td>53.2118</td>\n",
              "      <td>46.310760</td>\n",
              "      <td>634.3750</td>\n",
              "      <td>76.45975</td>\n",
              "      <td>13.41146</td>\n",
              "      <td>16.13136</td>\n",
              "      <td>...</td>\n",
              "      <td>41.92708</td>\n",
              "      <td>39.641200</td>\n",
              "      <td>65.68287</td>\n",
              "      <td>50.92593</td>\n",
              "      <td>38.194440</td>\n",
              "      <td>157.9861</td>\n",
              "      <td>67.70834</td>\n",
              "      <td>243.0556</td>\n",
              "      <td>201.3889</td>\n",
              "      <td>NORMAL</td>\n",
              "    </tr>\n",
              "    <tr>\n",
              "      <th>2</th>\n",
              "      <td>2</td>\n",
              "      <td>2018-04-01 00:02:00</td>\n",
              "      <td>2.444734</td>\n",
              "      <td>47.35243</td>\n",
              "      <td>53.2118</td>\n",
              "      <td>46.397570</td>\n",
              "      <td>638.8889</td>\n",
              "      <td>73.54598</td>\n",
              "      <td>13.32465</td>\n",
              "      <td>16.03733</td>\n",
              "      <td>...</td>\n",
              "      <td>41.66666</td>\n",
              "      <td>39.351852</td>\n",
              "      <td>65.39352</td>\n",
              "      <td>51.21528</td>\n",
              "      <td>38.194443</td>\n",
              "      <td>155.9606</td>\n",
              "      <td>67.12963</td>\n",
              "      <td>241.3194</td>\n",
              "      <td>203.7037</td>\n",
              "      <td>NORMAL</td>\n",
              "    </tr>\n",
              "    <tr>\n",
              "      <th>3</th>\n",
              "      <td>3</td>\n",
              "      <td>2018-04-01 00:03:00</td>\n",
              "      <td>2.460474</td>\n",
              "      <td>47.09201</td>\n",
              "      <td>53.1684</td>\n",
              "      <td>46.397568</td>\n",
              "      <td>628.1250</td>\n",
              "      <td>76.98898</td>\n",
              "      <td>13.31742</td>\n",
              "      <td>16.24711</td>\n",
              "      <td>...</td>\n",
              "      <td>40.88541</td>\n",
              "      <td>39.062500</td>\n",
              "      <td>64.81481</td>\n",
              "      <td>51.21528</td>\n",
              "      <td>38.194440</td>\n",
              "      <td>155.9606</td>\n",
              "      <td>66.84028</td>\n",
              "      <td>240.4514</td>\n",
              "      <td>203.1250</td>\n",
              "      <td>NORMAL</td>\n",
              "    </tr>\n",
              "    <tr>\n",
              "      <th>4</th>\n",
              "      <td>4</td>\n",
              "      <td>2018-04-01 00:04:00</td>\n",
              "      <td>2.445718</td>\n",
              "      <td>47.13541</td>\n",
              "      <td>53.2118</td>\n",
              "      <td>46.397568</td>\n",
              "      <td>636.4583</td>\n",
              "      <td>76.58897</td>\n",
              "      <td>13.35359</td>\n",
              "      <td>16.21094</td>\n",
              "      <td>...</td>\n",
              "      <td>41.40625</td>\n",
              "      <td>38.773150</td>\n",
              "      <td>65.10416</td>\n",
              "      <td>51.79398</td>\n",
              "      <td>38.773150</td>\n",
              "      <td>158.2755</td>\n",
              "      <td>66.55093</td>\n",
              "      <td>242.1875</td>\n",
              "      <td>201.3889</td>\n",
              "      <td>NORMAL</td>\n",
              "    </tr>\n",
              "  </tbody>\n",
              "</table>\n",
              "<p>5 rows × 55 columns</p>\n",
              "</div>\n",
              "      <button class=\"colab-df-convert\" onclick=\"convertToInteractive('df-8c344e59-a079-4190-8984-6b3cfdd39c1b')\"\n",
              "              title=\"Convert this dataframe to an interactive table.\"\n",
              "              style=\"display:none;\">\n",
              "        \n",
              "  <svg xmlns=\"http://www.w3.org/2000/svg\" height=\"24px\"viewBox=\"0 0 24 24\"\n",
              "       width=\"24px\">\n",
              "    <path d=\"M0 0h24v24H0V0z\" fill=\"none\"/>\n",
              "    <path d=\"M18.56 5.44l.94 2.06.94-2.06 2.06-.94-2.06-.94-.94-2.06-.94 2.06-2.06.94zm-11 1L8.5 8.5l.94-2.06 2.06-.94-2.06-.94L8.5 2.5l-.94 2.06-2.06.94zm10 10l.94 2.06.94-2.06 2.06-.94-2.06-.94-.94-2.06-.94 2.06-2.06.94z\"/><path d=\"M17.41 7.96l-1.37-1.37c-.4-.4-.92-.59-1.43-.59-.52 0-1.04.2-1.43.59L10.3 9.45l-7.72 7.72c-.78.78-.78 2.05 0 2.83L4 21.41c.39.39.9.59 1.41.59.51 0 1.02-.2 1.41-.59l7.78-7.78 2.81-2.81c.8-.78.8-2.07 0-2.86zM5.41 20L4 18.59l7.72-7.72 1.47 1.35L5.41 20z\"/>\n",
              "  </svg>\n",
              "      </button>\n",
              "      \n",
              "  <style>\n",
              "    .colab-df-container {\n",
              "      display:flex;\n",
              "      flex-wrap:wrap;\n",
              "      gap: 12px;\n",
              "    }\n",
              "\n",
              "    .colab-df-convert {\n",
              "      background-color: #E8F0FE;\n",
              "      border: none;\n",
              "      border-radius: 50%;\n",
              "      cursor: pointer;\n",
              "      display: none;\n",
              "      fill: #1967D2;\n",
              "      height: 32px;\n",
              "      padding: 0 0 0 0;\n",
              "      width: 32px;\n",
              "    }\n",
              "\n",
              "    .colab-df-convert:hover {\n",
              "      background-color: #E2EBFA;\n",
              "      box-shadow: 0px 1px 2px rgba(60, 64, 67, 0.3), 0px 1px 3px 1px rgba(60, 64, 67, 0.15);\n",
              "      fill: #174EA6;\n",
              "    }\n",
              "\n",
              "    [theme=dark] .colab-df-convert {\n",
              "      background-color: #3B4455;\n",
              "      fill: #D2E3FC;\n",
              "    }\n",
              "\n",
              "    [theme=dark] .colab-df-convert:hover {\n",
              "      background-color: #434B5C;\n",
              "      box-shadow: 0px 1px 3px 1px rgba(0, 0, 0, 0.15);\n",
              "      filter: drop-shadow(0px 1px 2px rgba(0, 0, 0, 0.3));\n",
              "      fill: #FFFFFF;\n",
              "    }\n",
              "  </style>\n",
              "\n",
              "      <script>\n",
              "        const buttonEl =\n",
              "          document.querySelector('#df-8c344e59-a079-4190-8984-6b3cfdd39c1b button.colab-df-convert');\n",
              "        buttonEl.style.display =\n",
              "          google.colab.kernel.accessAllowed ? 'block' : 'none';\n",
              "\n",
              "        async function convertToInteractive(key) {\n",
              "          const element = document.querySelector('#df-8c344e59-a079-4190-8984-6b3cfdd39c1b');\n",
              "          const dataTable =\n",
              "            await google.colab.kernel.invokeFunction('convertToInteractive',\n",
              "                                                     [key], {});\n",
              "          if (!dataTable) return;\n",
              "\n",
              "          const docLinkHtml = 'Like what you see? Visit the ' +\n",
              "            '<a target=\"_blank\" href=https://colab.research.google.com/notebooks/data_table.ipynb>data table notebook</a>'\n",
              "            + ' to learn more about interactive tables.';\n",
              "          element.innerHTML = '';\n",
              "          dataTable['output_type'] = 'display_data';\n",
              "          await google.colab.output.renderOutput(dataTable, element);\n",
              "          const docLink = document.createElement('div');\n",
              "          docLink.innerHTML = docLinkHtml;\n",
              "          element.appendChild(docLink);\n",
              "        }\n",
              "      </script>\n",
              "    </div>\n",
              "  </div>\n",
              "  "
            ]
          },
          "metadata": {},
          "execution_count": 60
        }
      ]
    },
    {
      "cell_type": "markdown",
      "source": [
        "### Обработка данных"
      ],
      "metadata": {
        "id": "EwYdI3j05bEV"
      }
    },
    {
      "cell_type": "markdown",
      "source": [
        "##### Удалим Unnamed: 0, ведь это просто лишние индексы"
      ],
      "metadata": {
        "id": "RNcpsIxN25mH"
      }
    },
    {
      "cell_type": "code",
      "source": [
        "df = df.drop('Unnamed: 0', axis=1)\n",
        "df.head()"
      ],
      "metadata": {
        "colab": {
          "base_uri": "https://localhost:8080/",
          "height": 473
        },
        "id": "gQqUH_qa2umn",
        "outputId": "8a2a6088-ff0e-491b-ab7f-ab3d52e0e066"
      },
      "execution_count": null,
      "outputs": [
        {
          "output_type": "execute_result",
          "data": {
            "text/plain": [
              "             timestamp  sensor_00  sensor_01  sensor_02  sensor_03  sensor_04  \\\n",
              "0  2018-04-01 00:00:00   2.465394   47.09201    53.2118  46.310760   634.3750   \n",
              "1  2018-04-01 00:01:00   2.465394   47.09201    53.2118  46.310760   634.3750   \n",
              "2  2018-04-01 00:02:00   2.444734   47.35243    53.2118  46.397570   638.8889   \n",
              "3  2018-04-01 00:03:00   2.460474   47.09201    53.1684  46.397568   628.1250   \n",
              "4  2018-04-01 00:04:00   2.445718   47.13541    53.2118  46.397568   636.4583   \n",
              "\n",
              "   sensor_05  sensor_06  sensor_07  sensor_08  ...  sensor_43  sensor_44  \\\n",
              "0   76.45975   13.41146   16.13136   15.56713  ...   41.92708  39.641200   \n",
              "1   76.45975   13.41146   16.13136   15.56713  ...   41.92708  39.641200   \n",
              "2   73.54598   13.32465   16.03733   15.61777  ...   41.66666  39.351852   \n",
              "3   76.98898   13.31742   16.24711   15.69734  ...   40.88541  39.062500   \n",
              "4   76.58897   13.35359   16.21094   15.69734  ...   41.40625  38.773150   \n",
              "\n",
              "   sensor_45  sensor_46  sensor_47  sensor_48  sensor_49  sensor_50  \\\n",
              "0   65.68287   50.92593  38.194440   157.9861   67.70834   243.0556   \n",
              "1   65.68287   50.92593  38.194440   157.9861   67.70834   243.0556   \n",
              "2   65.39352   51.21528  38.194443   155.9606   67.12963   241.3194   \n",
              "3   64.81481   51.21528  38.194440   155.9606   66.84028   240.4514   \n",
              "4   65.10416   51.79398  38.773150   158.2755   66.55093   242.1875   \n",
              "\n",
              "   sensor_51  machine_status  \n",
              "0   201.3889          NORMAL  \n",
              "1   201.3889          NORMAL  \n",
              "2   203.7037          NORMAL  \n",
              "3   203.1250          NORMAL  \n",
              "4   201.3889          NORMAL  \n",
              "\n",
              "[5 rows x 54 columns]"
            ],
            "text/html": [
              "\n",
              "  <div id=\"df-07554fb7-ccb8-4185-bb87-6434385b0fd3\">\n",
              "    <div class=\"colab-df-container\">\n",
              "      <div>\n",
              "<style scoped>\n",
              "    .dataframe tbody tr th:only-of-type {\n",
              "        vertical-align: middle;\n",
              "    }\n",
              "\n",
              "    .dataframe tbody tr th {\n",
              "        vertical-align: top;\n",
              "    }\n",
              "\n",
              "    .dataframe thead th {\n",
              "        text-align: right;\n",
              "    }\n",
              "</style>\n",
              "<table border=\"1\" class=\"dataframe\">\n",
              "  <thead>\n",
              "    <tr style=\"text-align: right;\">\n",
              "      <th></th>\n",
              "      <th>timestamp</th>\n",
              "      <th>sensor_00</th>\n",
              "      <th>sensor_01</th>\n",
              "      <th>sensor_02</th>\n",
              "      <th>sensor_03</th>\n",
              "      <th>sensor_04</th>\n",
              "      <th>sensor_05</th>\n",
              "      <th>sensor_06</th>\n",
              "      <th>sensor_07</th>\n",
              "      <th>sensor_08</th>\n",
              "      <th>...</th>\n",
              "      <th>sensor_43</th>\n",
              "      <th>sensor_44</th>\n",
              "      <th>sensor_45</th>\n",
              "      <th>sensor_46</th>\n",
              "      <th>sensor_47</th>\n",
              "      <th>sensor_48</th>\n",
              "      <th>sensor_49</th>\n",
              "      <th>sensor_50</th>\n",
              "      <th>sensor_51</th>\n",
              "      <th>machine_status</th>\n",
              "    </tr>\n",
              "  </thead>\n",
              "  <tbody>\n",
              "    <tr>\n",
              "      <th>0</th>\n",
              "      <td>2018-04-01 00:00:00</td>\n",
              "      <td>2.465394</td>\n",
              "      <td>47.09201</td>\n",
              "      <td>53.2118</td>\n",
              "      <td>46.310760</td>\n",
              "      <td>634.3750</td>\n",
              "      <td>76.45975</td>\n",
              "      <td>13.41146</td>\n",
              "      <td>16.13136</td>\n",
              "      <td>15.56713</td>\n",
              "      <td>...</td>\n",
              "      <td>41.92708</td>\n",
              "      <td>39.641200</td>\n",
              "      <td>65.68287</td>\n",
              "      <td>50.92593</td>\n",
              "      <td>38.194440</td>\n",
              "      <td>157.9861</td>\n",
              "      <td>67.70834</td>\n",
              "      <td>243.0556</td>\n",
              "      <td>201.3889</td>\n",
              "      <td>NORMAL</td>\n",
              "    </tr>\n",
              "    <tr>\n",
              "      <th>1</th>\n",
              "      <td>2018-04-01 00:01:00</td>\n",
              "      <td>2.465394</td>\n",
              "      <td>47.09201</td>\n",
              "      <td>53.2118</td>\n",
              "      <td>46.310760</td>\n",
              "      <td>634.3750</td>\n",
              "      <td>76.45975</td>\n",
              "      <td>13.41146</td>\n",
              "      <td>16.13136</td>\n",
              "      <td>15.56713</td>\n",
              "      <td>...</td>\n",
              "      <td>41.92708</td>\n",
              "      <td>39.641200</td>\n",
              "      <td>65.68287</td>\n",
              "      <td>50.92593</td>\n",
              "      <td>38.194440</td>\n",
              "      <td>157.9861</td>\n",
              "      <td>67.70834</td>\n",
              "      <td>243.0556</td>\n",
              "      <td>201.3889</td>\n",
              "      <td>NORMAL</td>\n",
              "    </tr>\n",
              "    <tr>\n",
              "      <th>2</th>\n",
              "      <td>2018-04-01 00:02:00</td>\n",
              "      <td>2.444734</td>\n",
              "      <td>47.35243</td>\n",
              "      <td>53.2118</td>\n",
              "      <td>46.397570</td>\n",
              "      <td>638.8889</td>\n",
              "      <td>73.54598</td>\n",
              "      <td>13.32465</td>\n",
              "      <td>16.03733</td>\n",
              "      <td>15.61777</td>\n",
              "      <td>...</td>\n",
              "      <td>41.66666</td>\n",
              "      <td>39.351852</td>\n",
              "      <td>65.39352</td>\n",
              "      <td>51.21528</td>\n",
              "      <td>38.194443</td>\n",
              "      <td>155.9606</td>\n",
              "      <td>67.12963</td>\n",
              "      <td>241.3194</td>\n",
              "      <td>203.7037</td>\n",
              "      <td>NORMAL</td>\n",
              "    </tr>\n",
              "    <tr>\n",
              "      <th>3</th>\n",
              "      <td>2018-04-01 00:03:00</td>\n",
              "      <td>2.460474</td>\n",
              "      <td>47.09201</td>\n",
              "      <td>53.1684</td>\n",
              "      <td>46.397568</td>\n",
              "      <td>628.1250</td>\n",
              "      <td>76.98898</td>\n",
              "      <td>13.31742</td>\n",
              "      <td>16.24711</td>\n",
              "      <td>15.69734</td>\n",
              "      <td>...</td>\n",
              "      <td>40.88541</td>\n",
              "      <td>39.062500</td>\n",
              "      <td>64.81481</td>\n",
              "      <td>51.21528</td>\n",
              "      <td>38.194440</td>\n",
              "      <td>155.9606</td>\n",
              "      <td>66.84028</td>\n",
              "      <td>240.4514</td>\n",
              "      <td>203.1250</td>\n",
              "      <td>NORMAL</td>\n",
              "    </tr>\n",
              "    <tr>\n",
              "      <th>4</th>\n",
              "      <td>2018-04-01 00:04:00</td>\n",
              "      <td>2.445718</td>\n",
              "      <td>47.13541</td>\n",
              "      <td>53.2118</td>\n",
              "      <td>46.397568</td>\n",
              "      <td>636.4583</td>\n",
              "      <td>76.58897</td>\n",
              "      <td>13.35359</td>\n",
              "      <td>16.21094</td>\n",
              "      <td>15.69734</td>\n",
              "      <td>...</td>\n",
              "      <td>41.40625</td>\n",
              "      <td>38.773150</td>\n",
              "      <td>65.10416</td>\n",
              "      <td>51.79398</td>\n",
              "      <td>38.773150</td>\n",
              "      <td>158.2755</td>\n",
              "      <td>66.55093</td>\n",
              "      <td>242.1875</td>\n",
              "      <td>201.3889</td>\n",
              "      <td>NORMAL</td>\n",
              "    </tr>\n",
              "  </tbody>\n",
              "</table>\n",
              "<p>5 rows × 54 columns</p>\n",
              "</div>\n",
              "      <button class=\"colab-df-convert\" onclick=\"convertToInteractive('df-07554fb7-ccb8-4185-bb87-6434385b0fd3')\"\n",
              "              title=\"Convert this dataframe to an interactive table.\"\n",
              "              style=\"display:none;\">\n",
              "        \n",
              "  <svg xmlns=\"http://www.w3.org/2000/svg\" height=\"24px\"viewBox=\"0 0 24 24\"\n",
              "       width=\"24px\">\n",
              "    <path d=\"M0 0h24v24H0V0z\" fill=\"none\"/>\n",
              "    <path d=\"M18.56 5.44l.94 2.06.94-2.06 2.06-.94-2.06-.94-.94-2.06-.94 2.06-2.06.94zm-11 1L8.5 8.5l.94-2.06 2.06-.94-2.06-.94L8.5 2.5l-.94 2.06-2.06.94zm10 10l.94 2.06.94-2.06 2.06-.94-2.06-.94-.94-2.06-.94 2.06-2.06.94z\"/><path d=\"M17.41 7.96l-1.37-1.37c-.4-.4-.92-.59-1.43-.59-.52 0-1.04.2-1.43.59L10.3 9.45l-7.72 7.72c-.78.78-.78 2.05 0 2.83L4 21.41c.39.39.9.59 1.41.59.51 0 1.02-.2 1.41-.59l7.78-7.78 2.81-2.81c.8-.78.8-2.07 0-2.86zM5.41 20L4 18.59l7.72-7.72 1.47 1.35L5.41 20z\"/>\n",
              "  </svg>\n",
              "      </button>\n",
              "      \n",
              "  <style>\n",
              "    .colab-df-container {\n",
              "      display:flex;\n",
              "      flex-wrap:wrap;\n",
              "      gap: 12px;\n",
              "    }\n",
              "\n",
              "    .colab-df-convert {\n",
              "      background-color: #E8F0FE;\n",
              "      border: none;\n",
              "      border-radius: 50%;\n",
              "      cursor: pointer;\n",
              "      display: none;\n",
              "      fill: #1967D2;\n",
              "      height: 32px;\n",
              "      padding: 0 0 0 0;\n",
              "      width: 32px;\n",
              "    }\n",
              "\n",
              "    .colab-df-convert:hover {\n",
              "      background-color: #E2EBFA;\n",
              "      box-shadow: 0px 1px 2px rgba(60, 64, 67, 0.3), 0px 1px 3px 1px rgba(60, 64, 67, 0.15);\n",
              "      fill: #174EA6;\n",
              "    }\n",
              "\n",
              "    [theme=dark] .colab-df-convert {\n",
              "      background-color: #3B4455;\n",
              "      fill: #D2E3FC;\n",
              "    }\n",
              "\n",
              "    [theme=dark] .colab-df-convert:hover {\n",
              "      background-color: #434B5C;\n",
              "      box-shadow: 0px 1px 3px 1px rgba(0, 0, 0, 0.15);\n",
              "      filter: drop-shadow(0px 1px 2px rgba(0, 0, 0, 0.3));\n",
              "      fill: #FFFFFF;\n",
              "    }\n",
              "  </style>\n",
              "\n",
              "      <script>\n",
              "        const buttonEl =\n",
              "          document.querySelector('#df-07554fb7-ccb8-4185-bb87-6434385b0fd3 button.colab-df-convert');\n",
              "        buttonEl.style.display =\n",
              "          google.colab.kernel.accessAllowed ? 'block' : 'none';\n",
              "\n",
              "        async function convertToInteractive(key) {\n",
              "          const element = document.querySelector('#df-07554fb7-ccb8-4185-bb87-6434385b0fd3');\n",
              "          const dataTable =\n",
              "            await google.colab.kernel.invokeFunction('convertToInteractive',\n",
              "                                                     [key], {});\n",
              "          if (!dataTable) return;\n",
              "\n",
              "          const docLinkHtml = 'Like what you see? Visit the ' +\n",
              "            '<a target=\"_blank\" href=https://colab.research.google.com/notebooks/data_table.ipynb>data table notebook</a>'\n",
              "            + ' to learn more about interactive tables.';\n",
              "          element.innerHTML = '';\n",
              "          dataTable['output_type'] = 'display_data';\n",
              "          await google.colab.output.renderOutput(dataTable, element);\n",
              "          const docLink = document.createElement('div');\n",
              "          docLink.innerHTML = docLinkHtml;\n",
              "          element.appendChild(docLink);\n",
              "        }\n",
              "      </script>\n",
              "    </div>\n",
              "  </div>\n",
              "  "
            ]
          },
          "metadata": {},
          "execution_count": 61
        }
      ]
    },
    {
      "cell_type": "markdown",
      "source": [
        "##### Изучим кол-во ненулевых данных и тип данных"
      ],
      "metadata": {
        "id": "MUDlMVrF3ieW"
      }
    },
    {
      "cell_type": "code",
      "source": [
        "df.isnull().sum()"
      ],
      "metadata": {
        "colab": {
          "base_uri": "https://localhost:8080/"
        },
        "id": "njkfi9-x7v9s",
        "outputId": "561937f3-eaab-4124-e189-ac454ad92e6e"
      },
      "execution_count": null,
      "outputs": [
        {
          "output_type": "execute_result",
          "data": {
            "text/plain": [
              "timestamp              0\n",
              "sensor_00          10208\n",
              "sensor_01            369\n",
              "sensor_02             19\n",
              "sensor_03             19\n",
              "sensor_04             19\n",
              "sensor_05             19\n",
              "sensor_06           4798\n",
              "sensor_07           5451\n",
              "sensor_08           5107\n",
              "sensor_09           4595\n",
              "sensor_10             19\n",
              "sensor_11             19\n",
              "sensor_12             19\n",
              "sensor_13             19\n",
              "sensor_14             21\n",
              "sensor_15         220320\n",
              "sensor_16             31\n",
              "sensor_17             46\n",
              "sensor_18             46\n",
              "sensor_19             16\n",
              "sensor_20             16\n",
              "sensor_21             16\n",
              "sensor_22             41\n",
              "sensor_23             16\n",
              "sensor_24             16\n",
              "sensor_25             36\n",
              "sensor_26             20\n",
              "sensor_27             16\n",
              "sensor_28             16\n",
              "sensor_29             72\n",
              "sensor_30            261\n",
              "sensor_31             16\n",
              "sensor_32             68\n",
              "sensor_33             16\n",
              "sensor_34             16\n",
              "sensor_35             16\n",
              "sensor_36             16\n",
              "sensor_37             16\n",
              "sensor_38             27\n",
              "sensor_39             27\n",
              "sensor_40             27\n",
              "sensor_41             27\n",
              "sensor_42             27\n",
              "sensor_43             27\n",
              "sensor_44             27\n",
              "sensor_45             27\n",
              "sensor_46             27\n",
              "sensor_47             27\n",
              "sensor_48             27\n",
              "sensor_49             27\n",
              "sensor_50          77017\n",
              "sensor_51          15383\n",
              "machine_status         0\n",
              "dtype: int64"
            ]
          },
          "metadata": {},
          "execution_count": 62
        }
      ]
    },
    {
      "cell_type": "code",
      "source": [
        "df.info()"
      ],
      "metadata": {
        "colab": {
          "base_uri": "https://localhost:8080/"
        },
        "id": "DNd4m3kE1Ma-",
        "outputId": "ce59148b-4738-4198-d213-998a0951f438"
      },
      "execution_count": null,
      "outputs": [
        {
          "output_type": "stream",
          "name": "stdout",
          "text": [
            "<class 'pandas.core.frame.DataFrame'>\n",
            "RangeIndex: 220320 entries, 0 to 220319\n",
            "Data columns (total 54 columns):\n",
            " #   Column          Non-Null Count   Dtype  \n",
            "---  ------          --------------   -----  \n",
            " 0   timestamp       220320 non-null  object \n",
            " 1   sensor_00       210112 non-null  float64\n",
            " 2   sensor_01       219951 non-null  float64\n",
            " 3   sensor_02       220301 non-null  float64\n",
            " 4   sensor_03       220301 non-null  float64\n",
            " 5   sensor_04       220301 non-null  float64\n",
            " 6   sensor_05       220301 non-null  float64\n",
            " 7   sensor_06       215522 non-null  float64\n",
            " 8   sensor_07       214869 non-null  float64\n",
            " 9   sensor_08       215213 non-null  float64\n",
            " 10  sensor_09       215725 non-null  float64\n",
            " 11  sensor_10       220301 non-null  float64\n",
            " 12  sensor_11       220301 non-null  float64\n",
            " 13  sensor_12       220301 non-null  float64\n",
            " 14  sensor_13       220301 non-null  float64\n",
            " 15  sensor_14       220299 non-null  float64\n",
            " 16  sensor_15       0 non-null       float64\n",
            " 17  sensor_16       220289 non-null  float64\n",
            " 18  sensor_17       220274 non-null  float64\n",
            " 19  sensor_18       220274 non-null  float64\n",
            " 20  sensor_19       220304 non-null  float64\n",
            " 21  sensor_20       220304 non-null  float64\n",
            " 22  sensor_21       220304 non-null  float64\n",
            " 23  sensor_22       220279 non-null  float64\n",
            " 24  sensor_23       220304 non-null  float64\n",
            " 25  sensor_24       220304 non-null  float64\n",
            " 26  sensor_25       220284 non-null  float64\n",
            " 27  sensor_26       220300 non-null  float64\n",
            " 28  sensor_27       220304 non-null  float64\n",
            " 29  sensor_28       220304 non-null  float64\n",
            " 30  sensor_29       220248 non-null  float64\n",
            " 31  sensor_30       220059 non-null  float64\n",
            " 32  sensor_31       220304 non-null  float64\n",
            " 33  sensor_32       220252 non-null  float64\n",
            " 34  sensor_33       220304 non-null  float64\n",
            " 35  sensor_34       220304 non-null  float64\n",
            " 36  sensor_35       220304 non-null  float64\n",
            " 37  sensor_36       220304 non-null  float64\n",
            " 38  sensor_37       220304 non-null  float64\n",
            " 39  sensor_38       220293 non-null  float64\n",
            " 40  sensor_39       220293 non-null  float64\n",
            " 41  sensor_40       220293 non-null  float64\n",
            " 42  sensor_41       220293 non-null  float64\n",
            " 43  sensor_42       220293 non-null  float64\n",
            " 44  sensor_43       220293 non-null  float64\n",
            " 45  sensor_44       220293 non-null  float64\n",
            " 46  sensor_45       220293 non-null  float64\n",
            " 47  sensor_46       220293 non-null  float64\n",
            " 48  sensor_47       220293 non-null  float64\n",
            " 49  sensor_48       220293 non-null  float64\n",
            " 50  sensor_49       220293 non-null  float64\n",
            " 51  sensor_50       143303 non-null  float64\n",
            " 52  sensor_51       204937 non-null  float64\n",
            " 53  machine_status  220320 non-null  object \n",
            "dtypes: float64(52), object(2)\n",
            "memory usage: 90.8+ MB\n"
          ]
        }
      ]
    },
    {
      "cell_type": "markdown",
      "source": [
        "##### Мы можем увидеть, то сенсор 15 выдает только пустые значения, а значит он не несет никакого смысла. Удалим этот столбец"
      ],
      "metadata": {
        "id": "uTr8RGGn3Qmm"
      }
    },
    {
      "cell_type": "code",
      "source": [
        "df = df.drop('sensor_15', axis=1)"
      ],
      "metadata": {
        "id": "0qyfeC7H2TGm"
      },
      "execution_count": null,
      "outputs": []
    },
    {
      "cell_type": "markdown",
      "source": [
        "##### Т.к. сенсоры фиксируют числовые значения помпы, то мы можем заменить их нулевые значения на mean (Можно было бы заменить на 0, если бы мы поняли, что отсутствие значение, могло бы означать, то что помпа не работает). Для сенсоров 0, 50 и 51 нужно рассмотреть детальнее, ведь пустых значений в них достаточно, чтобы неверная обработка могла испортить будущую модель."
      ],
      "metadata": {
        "id": "Uz6lfB8r36m9"
      }
    },
    {
      "cell_type": "code",
      "source": [
        "df['sensor_00'].describe()"
      ],
      "metadata": {
        "colab": {
          "base_uri": "https://localhost:8080/"
        },
        "id": "SfC3_0oo9IDv",
        "outputId": "c2eb2cbb-e867-4df2-e5bf-ae89bebe9a23"
      },
      "execution_count": null,
      "outputs": [
        {
          "output_type": "execute_result",
          "data": {
            "text/plain": [
              "count    210112.000000\n",
              "mean          2.372221\n",
              "std           0.412227\n",
              "min           0.000000\n",
              "25%           2.438831\n",
              "50%           2.456539\n",
              "75%           2.499826\n",
              "max           2.549016\n",
              "Name: sensor_00, dtype: float64"
            ]
          },
          "metadata": {},
          "execution_count": 65
        }
      ]
    },
    {
      "cell_type": "markdown",
      "source": [
        "##### Мы видим нулевые значения, а значит нужно взглянуть на кол-во таких данных. Если их будет достаточно много, то пустые значения стоит будет сделать нулями"
      ],
      "metadata": {
        "id": "sV_u5JoZ-HGy"
      }
    },
    {
      "cell_type": "code",
      "source": [
        "len(df[df['sensor_00'] == 0])"
      ],
      "metadata": {
        "colab": {
          "base_uri": "https://localhost:8080/"
        },
        "id": "EMxXNCVxA7Ra",
        "outputId": "fba447db-c3ff-47e6-980f-6128cd113f8f"
      },
      "execution_count": null,
      "outputs": [
        {
          "output_type": "execute_result",
          "data": {
            "text/plain": [
              "19"
            ]
          },
          "metadata": {},
          "execution_count": 66
        }
      ]
    },
    {
      "cell_type": "markdown",
      "source": [
        "##### Значений всего 19, а значит мы тоже заменим на среднее значения. Повторим процедуру для 50 и 51 сенсоров"
      ],
      "metadata": {
        "id": "HF3LUE0NBFsZ"
      }
    },
    {
      "cell_type": "code",
      "source": [
        "df['sensor_50'].describe()"
      ],
      "metadata": {
        "colab": {
          "base_uri": "https://localhost:8080/"
        },
        "id": "WfBllxIG-kNC",
        "outputId": "cd070595-0c3d-4d55-b463-5b4c73106c28"
      },
      "execution_count": null,
      "outputs": [
        {
          "output_type": "execute_result",
          "data": {
            "text/plain": [
              "count    143303.000000\n",
              "mean        183.049260\n",
              "std          65.258650\n",
              "min          27.488426\n",
              "25%         167.534700\n",
              "50%         193.865700\n",
              "75%         219.907400\n",
              "max        1000.000000\n",
              "Name: sensor_50, dtype: float64"
            ]
          },
          "metadata": {},
          "execution_count": 67
        }
      ]
    },
    {
      "cell_type": "code",
      "source": [
        "df['sensor_51'].describe()"
      ],
      "metadata": {
        "colab": {
          "base_uri": "https://localhost:8080/"
        },
        "id": "AqvjK9kA_P4C",
        "outputId": "64eb604b-49be-4c72-824c-ac65041f5db7"
      },
      "execution_count": null,
      "outputs": [
        {
          "output_type": "execute_result",
          "data": {
            "text/plain": [
              "count    204937.000000\n",
              "mean        202.699667\n",
              "std         109.588607\n",
              "min          27.777779\n",
              "25%         179.108800\n",
              "50%         197.338000\n",
              "75%         216.724500\n",
              "max        1000.000000\n",
              "Name: sensor_51, dtype: float64"
            ]
          },
          "metadata": {},
          "execution_count": 68
        }
      ]
    },
    {
      "cell_type": "markdown",
      "source": [
        "##### Здесь нулевые значения вовсе не наблюдаются. Начнем избавляться от пустых значений"
      ],
      "metadata": {
        "id": "svq2SN7UBUKR"
      }
    },
    {
      "cell_type": "code",
      "source": [
        "cat_cols = ['timestamp', 'machine_status']\n",
        "num_cols = [col for col in df.columns.tolist() if col not in cat_cols]"
      ],
      "metadata": {
        "id": "H1MuNiAN5QeN"
      },
      "execution_count": null,
      "outputs": []
    },
    {
      "cell_type": "code",
      "source": [
        "df[num_cols] = df[num_cols].fillna(df[num_cols].mean())"
      ],
      "metadata": {
        "id": "NrISRIZS6gmF"
      },
      "execution_count": null,
      "outputs": []
    },
    {
      "cell_type": "code",
      "source": [
        "df.isnull().sum()"
      ],
      "metadata": {
        "colab": {
          "base_uri": "https://localhost:8080/"
        },
        "id": "2bR2M68tBoXp",
        "outputId": "346d8271-406c-4d5b-fcf7-804db0a82e6f"
      },
      "execution_count": null,
      "outputs": [
        {
          "output_type": "execute_result",
          "data": {
            "text/plain": [
              "timestamp         0\n",
              "sensor_00         0\n",
              "sensor_01         0\n",
              "sensor_02         0\n",
              "sensor_03         0\n",
              "sensor_04         0\n",
              "sensor_05         0\n",
              "sensor_06         0\n",
              "sensor_07         0\n",
              "sensor_08         0\n",
              "sensor_09         0\n",
              "sensor_10         0\n",
              "sensor_11         0\n",
              "sensor_12         0\n",
              "sensor_13         0\n",
              "sensor_14         0\n",
              "sensor_16         0\n",
              "sensor_17         0\n",
              "sensor_18         0\n",
              "sensor_19         0\n",
              "sensor_20         0\n",
              "sensor_21         0\n",
              "sensor_22         0\n",
              "sensor_23         0\n",
              "sensor_24         0\n",
              "sensor_25         0\n",
              "sensor_26         0\n",
              "sensor_27         0\n",
              "sensor_28         0\n",
              "sensor_29         0\n",
              "sensor_30         0\n",
              "sensor_31         0\n",
              "sensor_32         0\n",
              "sensor_33         0\n",
              "sensor_34         0\n",
              "sensor_35         0\n",
              "sensor_36         0\n",
              "sensor_37         0\n",
              "sensor_38         0\n",
              "sensor_39         0\n",
              "sensor_40         0\n",
              "sensor_41         0\n",
              "sensor_42         0\n",
              "sensor_43         0\n",
              "sensor_44         0\n",
              "sensor_45         0\n",
              "sensor_46         0\n",
              "sensor_47         0\n",
              "sensor_48         0\n",
              "sensor_49         0\n",
              "sensor_50         0\n",
              "sensor_51         0\n",
              "machine_status    0\n",
              "dtype: int64"
            ]
          },
          "metadata": {},
          "execution_count": 71
        }
      ]
    },
    {
      "cell_type": "markdown",
      "source": [
        "##### Удалим дубликаты в следующем модуле, когда удалим timestamp при подготвке данных к обучению модели"
      ],
      "metadata": {
        "id": "1_sQMtocL2-9"
      }
    },
    {
      "cell_type": "markdown",
      "source": [
        "##### Для того, чтобы понять, что еще потребуется в предобработке начнем составлять графики"
      ],
      "metadata": {
        "id": "LmnHGZyDByvJ"
      }
    },
    {
      "cell_type": "markdown",
      "source": [
        "## Предварительное изучение"
      ],
      "metadata": {
        "id": "2tbXLlfUCBiR"
      }
    },
    {
      "cell_type": "markdown",
      "source": [
        "##### Начнем со статического анализа переменных"
      ],
      "metadata": {
        "id": "uiclAKwfE74n"
      }
    },
    {
      "cell_type": "code",
      "source": [
        "df.describe()"
      ],
      "metadata": {
        "colab": {
          "base_uri": "https://localhost:8080/",
          "height": 393
        },
        "id": "Wg-llkdCFBpq",
        "outputId": "d1e0c27b-e660-4a18-8a9d-90dde74a3438"
      },
      "execution_count": null,
      "outputs": [
        {
          "output_type": "execute_result",
          "data": {
            "text/plain": [
              "           sensor_00      sensor_01      sensor_02      sensor_03  \\\n",
              "count  220320.000000  220320.000000  220320.000000  220320.000000   \n",
              "mean        2.372221      47.591611      50.867392      43.752481   \n",
              "std         0.402564       3.293904       3.666662       2.418782   \n",
              "min         0.000000       0.000000      33.159720      31.640620   \n",
              "25%         2.419155      46.310760      50.390620      42.838539   \n",
              "50%         2.455556      48.133678      51.649300      44.227428   \n",
              "75%         2.499826      49.479160      52.777770      45.312500   \n",
              "max         2.549016      56.727430      56.032990      48.220490   \n",
              "\n",
              "           sensor_04      sensor_05      sensor_06      sensor_07  \\\n",
              "count  220320.000000  220320.000000  220320.000000  220320.000000   \n",
              "mean      590.673936      73.396414      13.501537      15.843152   \n",
              "std       144.017702      17.297501       2.140046       2.173755   \n",
              "min         2.798032       0.000000       0.014468       0.000000   \n",
              "25%       626.620400      69.977213      13.346350      15.856480   \n",
              "50%       632.638916      75.576145      13.628470      16.167530   \n",
              "75%       637.615723      80.911770      14.539930      16.427950   \n",
              "max       800.000000      99.999880      22.251160      23.596640   \n",
              "\n",
              "           sensor_08      sensor_09  ...      sensor_42      sensor_43  \\\n",
              "count  220320.000000  220320.000000  ...  220320.000000  220320.000000   \n",
              "mean       15.200721      14.799210  ...      35.453455      43.879591   \n",
              "std         2.013639       2.070033  ...      10.258892      11.043727   \n",
              "min         0.028935       0.000000  ...      22.135416      24.479166   \n",
              "25%        15.183740      15.010130  ...      32.812500      39.583330   \n",
              "50%        15.451390      15.082470  ...      35.156250      42.968750   \n",
              "75%        15.697340      15.118630  ...      36.979164      46.614580   \n",
              "max        24.348960      25.000000  ...     374.218800     408.593700   \n",
              "\n",
              "           sensor_44      sensor_45      sensor_46      sensor_47  \\\n",
              "count  220320.000000  220320.000000  220320.000000  220320.000000   \n",
              "mean       42.656877      43.094984      48.018585      44.340903   \n",
              "std        11.575646      12.836733      15.640325      10.441797   \n",
              "min        25.752316      26.331018      26.331018      27.199070   \n",
              "25%        36.747684      36.747684      40.509258      39.062500   \n",
              "50%        40.509260      40.219910      44.849540      42.534720   \n",
              "75%        45.138890      44.849540      51.215280      46.585650   \n",
              "max      1000.000000     320.312500     370.370400     303.530100   \n",
              "\n",
              "           sensor_48      sensor_49      sensor_50      sensor_51  \n",
              "count  220320.000000  220320.000000  220320.000000  220320.000000  \n",
              "mean      150.889044      57.119968     183.049260     202.699667  \n",
              "std        82.239917      19.142425      52.630590     105.693568  \n",
              "min        26.331018      26.620370      27.488426      27.777779  \n",
              "25%        83.912030      47.743060     182.581000     180.555600  \n",
              "50%       138.020800      52.662040     183.049260     199.942100  \n",
              "75%       208.333300      60.763890     204.571800     214.699100  \n",
              "max       561.632000     464.409700    1000.000000    1000.000000  \n",
              "\n",
              "[8 rows x 51 columns]"
            ],
            "text/html": [
              "\n",
              "  <div id=\"df-99500f66-238a-4e94-ab0c-5890b8aa6ae6\">\n",
              "    <div class=\"colab-df-container\">\n",
              "      <div>\n",
              "<style scoped>\n",
              "    .dataframe tbody tr th:only-of-type {\n",
              "        vertical-align: middle;\n",
              "    }\n",
              "\n",
              "    .dataframe tbody tr th {\n",
              "        vertical-align: top;\n",
              "    }\n",
              "\n",
              "    .dataframe thead th {\n",
              "        text-align: right;\n",
              "    }\n",
              "</style>\n",
              "<table border=\"1\" class=\"dataframe\">\n",
              "  <thead>\n",
              "    <tr style=\"text-align: right;\">\n",
              "      <th></th>\n",
              "      <th>sensor_00</th>\n",
              "      <th>sensor_01</th>\n",
              "      <th>sensor_02</th>\n",
              "      <th>sensor_03</th>\n",
              "      <th>sensor_04</th>\n",
              "      <th>sensor_05</th>\n",
              "      <th>sensor_06</th>\n",
              "      <th>sensor_07</th>\n",
              "      <th>sensor_08</th>\n",
              "      <th>sensor_09</th>\n",
              "      <th>...</th>\n",
              "      <th>sensor_42</th>\n",
              "      <th>sensor_43</th>\n",
              "      <th>sensor_44</th>\n",
              "      <th>sensor_45</th>\n",
              "      <th>sensor_46</th>\n",
              "      <th>sensor_47</th>\n",
              "      <th>sensor_48</th>\n",
              "      <th>sensor_49</th>\n",
              "      <th>sensor_50</th>\n",
              "      <th>sensor_51</th>\n",
              "    </tr>\n",
              "  </thead>\n",
              "  <tbody>\n",
              "    <tr>\n",
              "      <th>count</th>\n",
              "      <td>220320.000000</td>\n",
              "      <td>220320.000000</td>\n",
              "      <td>220320.000000</td>\n",
              "      <td>220320.000000</td>\n",
              "      <td>220320.000000</td>\n",
              "      <td>220320.000000</td>\n",
              "      <td>220320.000000</td>\n",
              "      <td>220320.000000</td>\n",
              "      <td>220320.000000</td>\n",
              "      <td>220320.000000</td>\n",
              "      <td>...</td>\n",
              "      <td>220320.000000</td>\n",
              "      <td>220320.000000</td>\n",
              "      <td>220320.000000</td>\n",
              "      <td>220320.000000</td>\n",
              "      <td>220320.000000</td>\n",
              "      <td>220320.000000</td>\n",
              "      <td>220320.000000</td>\n",
              "      <td>220320.000000</td>\n",
              "      <td>220320.000000</td>\n",
              "      <td>220320.000000</td>\n",
              "    </tr>\n",
              "    <tr>\n",
              "      <th>mean</th>\n",
              "      <td>2.372221</td>\n",
              "      <td>47.591611</td>\n",
              "      <td>50.867392</td>\n",
              "      <td>43.752481</td>\n",
              "      <td>590.673936</td>\n",
              "      <td>73.396414</td>\n",
              "      <td>13.501537</td>\n",
              "      <td>15.843152</td>\n",
              "      <td>15.200721</td>\n",
              "      <td>14.799210</td>\n",
              "      <td>...</td>\n",
              "      <td>35.453455</td>\n",
              "      <td>43.879591</td>\n",
              "      <td>42.656877</td>\n",
              "      <td>43.094984</td>\n",
              "      <td>48.018585</td>\n",
              "      <td>44.340903</td>\n",
              "      <td>150.889044</td>\n",
              "      <td>57.119968</td>\n",
              "      <td>183.049260</td>\n",
              "      <td>202.699667</td>\n",
              "    </tr>\n",
              "    <tr>\n",
              "      <th>std</th>\n",
              "      <td>0.402564</td>\n",
              "      <td>3.293904</td>\n",
              "      <td>3.666662</td>\n",
              "      <td>2.418782</td>\n",
              "      <td>144.017702</td>\n",
              "      <td>17.297501</td>\n",
              "      <td>2.140046</td>\n",
              "      <td>2.173755</td>\n",
              "      <td>2.013639</td>\n",
              "      <td>2.070033</td>\n",
              "      <td>...</td>\n",
              "      <td>10.258892</td>\n",
              "      <td>11.043727</td>\n",
              "      <td>11.575646</td>\n",
              "      <td>12.836733</td>\n",
              "      <td>15.640325</td>\n",
              "      <td>10.441797</td>\n",
              "      <td>82.239917</td>\n",
              "      <td>19.142425</td>\n",
              "      <td>52.630590</td>\n",
              "      <td>105.693568</td>\n",
              "    </tr>\n",
              "    <tr>\n",
              "      <th>min</th>\n",
              "      <td>0.000000</td>\n",
              "      <td>0.000000</td>\n",
              "      <td>33.159720</td>\n",
              "      <td>31.640620</td>\n",
              "      <td>2.798032</td>\n",
              "      <td>0.000000</td>\n",
              "      <td>0.014468</td>\n",
              "      <td>0.000000</td>\n",
              "      <td>0.028935</td>\n",
              "      <td>0.000000</td>\n",
              "      <td>...</td>\n",
              "      <td>22.135416</td>\n",
              "      <td>24.479166</td>\n",
              "      <td>25.752316</td>\n",
              "      <td>26.331018</td>\n",
              "      <td>26.331018</td>\n",
              "      <td>27.199070</td>\n",
              "      <td>26.331018</td>\n",
              "      <td>26.620370</td>\n",
              "      <td>27.488426</td>\n",
              "      <td>27.777779</td>\n",
              "    </tr>\n",
              "    <tr>\n",
              "      <th>25%</th>\n",
              "      <td>2.419155</td>\n",
              "      <td>46.310760</td>\n",
              "      <td>50.390620</td>\n",
              "      <td>42.838539</td>\n",
              "      <td>626.620400</td>\n",
              "      <td>69.977213</td>\n",
              "      <td>13.346350</td>\n",
              "      <td>15.856480</td>\n",
              "      <td>15.183740</td>\n",
              "      <td>15.010130</td>\n",
              "      <td>...</td>\n",
              "      <td>32.812500</td>\n",
              "      <td>39.583330</td>\n",
              "      <td>36.747684</td>\n",
              "      <td>36.747684</td>\n",
              "      <td>40.509258</td>\n",
              "      <td>39.062500</td>\n",
              "      <td>83.912030</td>\n",
              "      <td>47.743060</td>\n",
              "      <td>182.581000</td>\n",
              "      <td>180.555600</td>\n",
              "    </tr>\n",
              "    <tr>\n",
              "      <th>50%</th>\n",
              "      <td>2.455556</td>\n",
              "      <td>48.133678</td>\n",
              "      <td>51.649300</td>\n",
              "      <td>44.227428</td>\n",
              "      <td>632.638916</td>\n",
              "      <td>75.576145</td>\n",
              "      <td>13.628470</td>\n",
              "      <td>16.167530</td>\n",
              "      <td>15.451390</td>\n",
              "      <td>15.082470</td>\n",
              "      <td>...</td>\n",
              "      <td>35.156250</td>\n",
              "      <td>42.968750</td>\n",
              "      <td>40.509260</td>\n",
              "      <td>40.219910</td>\n",
              "      <td>44.849540</td>\n",
              "      <td>42.534720</td>\n",
              "      <td>138.020800</td>\n",
              "      <td>52.662040</td>\n",
              "      <td>183.049260</td>\n",
              "      <td>199.942100</td>\n",
              "    </tr>\n",
              "    <tr>\n",
              "      <th>75%</th>\n",
              "      <td>2.499826</td>\n",
              "      <td>49.479160</td>\n",
              "      <td>52.777770</td>\n",
              "      <td>45.312500</td>\n",
              "      <td>637.615723</td>\n",
              "      <td>80.911770</td>\n",
              "      <td>14.539930</td>\n",
              "      <td>16.427950</td>\n",
              "      <td>15.697340</td>\n",
              "      <td>15.118630</td>\n",
              "      <td>...</td>\n",
              "      <td>36.979164</td>\n",
              "      <td>46.614580</td>\n",
              "      <td>45.138890</td>\n",
              "      <td>44.849540</td>\n",
              "      <td>51.215280</td>\n",
              "      <td>46.585650</td>\n",
              "      <td>208.333300</td>\n",
              "      <td>60.763890</td>\n",
              "      <td>204.571800</td>\n",
              "      <td>214.699100</td>\n",
              "    </tr>\n",
              "    <tr>\n",
              "      <th>max</th>\n",
              "      <td>2.549016</td>\n",
              "      <td>56.727430</td>\n",
              "      <td>56.032990</td>\n",
              "      <td>48.220490</td>\n",
              "      <td>800.000000</td>\n",
              "      <td>99.999880</td>\n",
              "      <td>22.251160</td>\n",
              "      <td>23.596640</td>\n",
              "      <td>24.348960</td>\n",
              "      <td>25.000000</td>\n",
              "      <td>...</td>\n",
              "      <td>374.218800</td>\n",
              "      <td>408.593700</td>\n",
              "      <td>1000.000000</td>\n",
              "      <td>320.312500</td>\n",
              "      <td>370.370400</td>\n",
              "      <td>303.530100</td>\n",
              "      <td>561.632000</td>\n",
              "      <td>464.409700</td>\n",
              "      <td>1000.000000</td>\n",
              "      <td>1000.000000</td>\n",
              "    </tr>\n",
              "  </tbody>\n",
              "</table>\n",
              "<p>8 rows × 51 columns</p>\n",
              "</div>\n",
              "      <button class=\"colab-df-convert\" onclick=\"convertToInteractive('df-99500f66-238a-4e94-ab0c-5890b8aa6ae6')\"\n",
              "              title=\"Convert this dataframe to an interactive table.\"\n",
              "              style=\"display:none;\">\n",
              "        \n",
              "  <svg xmlns=\"http://www.w3.org/2000/svg\" height=\"24px\"viewBox=\"0 0 24 24\"\n",
              "       width=\"24px\">\n",
              "    <path d=\"M0 0h24v24H0V0z\" fill=\"none\"/>\n",
              "    <path d=\"M18.56 5.44l.94 2.06.94-2.06 2.06-.94-2.06-.94-.94-2.06-.94 2.06-2.06.94zm-11 1L8.5 8.5l.94-2.06 2.06-.94-2.06-.94L8.5 2.5l-.94 2.06-2.06.94zm10 10l.94 2.06.94-2.06 2.06-.94-2.06-.94-.94-2.06-.94 2.06-2.06.94z\"/><path d=\"M17.41 7.96l-1.37-1.37c-.4-.4-.92-.59-1.43-.59-.52 0-1.04.2-1.43.59L10.3 9.45l-7.72 7.72c-.78.78-.78 2.05 0 2.83L4 21.41c.39.39.9.59 1.41.59.51 0 1.02-.2 1.41-.59l7.78-7.78 2.81-2.81c.8-.78.8-2.07 0-2.86zM5.41 20L4 18.59l7.72-7.72 1.47 1.35L5.41 20z\"/>\n",
              "  </svg>\n",
              "      </button>\n",
              "      \n",
              "  <style>\n",
              "    .colab-df-container {\n",
              "      display:flex;\n",
              "      flex-wrap:wrap;\n",
              "      gap: 12px;\n",
              "    }\n",
              "\n",
              "    .colab-df-convert {\n",
              "      background-color: #E8F0FE;\n",
              "      border: none;\n",
              "      border-radius: 50%;\n",
              "      cursor: pointer;\n",
              "      display: none;\n",
              "      fill: #1967D2;\n",
              "      height: 32px;\n",
              "      padding: 0 0 0 0;\n",
              "      width: 32px;\n",
              "    }\n",
              "\n",
              "    .colab-df-convert:hover {\n",
              "      background-color: #E2EBFA;\n",
              "      box-shadow: 0px 1px 2px rgba(60, 64, 67, 0.3), 0px 1px 3px 1px rgba(60, 64, 67, 0.15);\n",
              "      fill: #174EA6;\n",
              "    }\n",
              "\n",
              "    [theme=dark] .colab-df-convert {\n",
              "      background-color: #3B4455;\n",
              "      fill: #D2E3FC;\n",
              "    }\n",
              "\n",
              "    [theme=dark] .colab-df-convert:hover {\n",
              "      background-color: #434B5C;\n",
              "      box-shadow: 0px 1px 3px 1px rgba(0, 0, 0, 0.15);\n",
              "      filter: drop-shadow(0px 1px 2px rgba(0, 0, 0, 0.3));\n",
              "      fill: #FFFFFF;\n",
              "    }\n",
              "  </style>\n",
              "\n",
              "      <script>\n",
              "        const buttonEl =\n",
              "          document.querySelector('#df-99500f66-238a-4e94-ab0c-5890b8aa6ae6 button.colab-df-convert');\n",
              "        buttonEl.style.display =\n",
              "          google.colab.kernel.accessAllowed ? 'block' : 'none';\n",
              "\n",
              "        async function convertToInteractive(key) {\n",
              "          const element = document.querySelector('#df-99500f66-238a-4e94-ab0c-5890b8aa6ae6');\n",
              "          const dataTable =\n",
              "            await google.colab.kernel.invokeFunction('convertToInteractive',\n",
              "                                                     [key], {});\n",
              "          if (!dataTable) return;\n",
              "\n",
              "          const docLinkHtml = 'Like what you see? Visit the ' +\n",
              "            '<a target=\"_blank\" href=https://colab.research.google.com/notebooks/data_table.ipynb>data table notebook</a>'\n",
              "            + ' to learn more about interactive tables.';\n",
              "          element.innerHTML = '';\n",
              "          dataTable['output_type'] = 'display_data';\n",
              "          await google.colab.output.renderOutput(dataTable, element);\n",
              "          const docLink = document.createElement('div');\n",
              "          docLink.innerHTML = docLinkHtml;\n",
              "          element.appendChild(docLink);\n",
              "        }\n",
              "      </script>\n",
              "    </div>\n",
              "  </div>\n",
              "  "
            ]
          },
          "metadata": {},
          "execution_count": 72
        }
      ]
    },
    {
      "cell_type": "code",
      "source": [
        "df.iloc[:, 21 :].describe()"
      ],
      "metadata": {
        "colab": {
          "base_uri": "https://localhost:8080/",
          "height": 393
        },
        "id": "FG20hZ9gLYzd",
        "outputId": "09d6ebb4-430d-461c-e76a-6f304c408bf9"
      },
      "execution_count": null,
      "outputs": [
        {
          "output_type": "execute_result",
          "data": {
            "text/plain": [
              "           sensor_21      sensor_22      sensor_23      sensor_24  \\\n",
              "count  220320.000000  220320.000000  220320.000000  220320.000000   \n",
              "mean      796.225942     459.792815     922.609264     556.235397   \n",
              "std       226.671085     154.513958     291.824683     182.291359   \n",
              "min        95.527660       0.000000       0.000000       0.000000   \n",
              "25%       875.461300     478.942500     950.919700     601.149500   \n",
              "50%       879.697300     531.854100     981.924500     625.872650   \n",
              "75%       882.129800     534.254400    1090.807250     628.607500   \n",
              "max      1107.526000     594.061100    1227.564000    1000.000000   \n",
              "\n",
              "           sensor_25      sensor_26      sensor_27      sensor_28  \\\n",
              "count  220320.000000  220320.000000  220320.000000  220320.000000   \n",
              "mean      649.144799     786.411781     501.506589     851.690339   \n",
              "std       220.847121     246.652412     169.817006     313.062664   \n",
              "min         0.000000      43.154790       0.000000       4.319347   \n",
              "25%       693.932600     790.343525     448.299675     782.685650   \n",
              "50%       740.199250     861.831750     494.475250     967.231500   \n",
              "75%       750.356125     919.098450     536.272050    1043.972000   \n",
              "max       839.575000    1214.420000    2000.000000    1841.146000   \n",
              "\n",
              "           sensor_29      sensor_30  ...      sensor_42      sensor_43  \\\n",
              "count  220320.000000  220320.000000  ...  220320.000000  220320.000000   \n",
              "mean      576.195305     614.596442  ...      35.453455      43.879591   \n",
              "std       225.727198     195.610904  ...      10.258892      11.043727   \n",
              "min         0.636574       0.000000  ...      22.135416      24.479166   \n",
              "25%       518.964700     627.777800  ...      32.812500      39.583330   \n",
              "50%       564.894700     668.981400  ...      35.156250      42.968750   \n",
              "75%       743.947000     697.222200  ...      36.979164      46.614580   \n",
              "max      1466.281000    1600.000000  ...     374.218800     408.593700   \n",
              "\n",
              "           sensor_44      sensor_45      sensor_46      sensor_47  \\\n",
              "count  220320.000000  220320.000000  220320.000000  220320.000000   \n",
              "mean       42.656877      43.094984      48.018585      44.340903   \n",
              "std        11.575646      12.836733      15.640325      10.441797   \n",
              "min        25.752316      26.331018      26.331018      27.199070   \n",
              "25%        36.747684      36.747684      40.509258      39.062500   \n",
              "50%        40.509260      40.219910      44.849540      42.534720   \n",
              "75%        45.138890      44.849540      51.215280      46.585650   \n",
              "max      1000.000000     320.312500     370.370400     303.530100   \n",
              "\n",
              "           sensor_48      sensor_49      sensor_50      sensor_51  \n",
              "count  220320.000000  220320.000000  220320.000000  220320.000000  \n",
              "mean      150.889044      57.119968     183.049260     202.699667  \n",
              "std        82.239917      19.142425      52.630590     105.693568  \n",
              "min        26.331018      26.620370      27.488426      27.777779  \n",
              "25%        83.912030      47.743060     182.581000     180.555600  \n",
              "50%       138.020800      52.662040     183.049260     199.942100  \n",
              "75%       208.333300      60.763890     204.571800     214.699100  \n",
              "max       561.632000     464.409700    1000.000000    1000.000000  \n",
              "\n",
              "[8 rows x 31 columns]"
            ],
            "text/html": [
              "\n",
              "  <div id=\"df-8ded1a6b-b9df-4279-a97f-e50a2234a09f\">\n",
              "    <div class=\"colab-df-container\">\n",
              "      <div>\n",
              "<style scoped>\n",
              "    .dataframe tbody tr th:only-of-type {\n",
              "        vertical-align: middle;\n",
              "    }\n",
              "\n",
              "    .dataframe tbody tr th {\n",
              "        vertical-align: top;\n",
              "    }\n",
              "\n",
              "    .dataframe thead th {\n",
              "        text-align: right;\n",
              "    }\n",
              "</style>\n",
              "<table border=\"1\" class=\"dataframe\">\n",
              "  <thead>\n",
              "    <tr style=\"text-align: right;\">\n",
              "      <th></th>\n",
              "      <th>sensor_21</th>\n",
              "      <th>sensor_22</th>\n",
              "      <th>sensor_23</th>\n",
              "      <th>sensor_24</th>\n",
              "      <th>sensor_25</th>\n",
              "      <th>sensor_26</th>\n",
              "      <th>sensor_27</th>\n",
              "      <th>sensor_28</th>\n",
              "      <th>sensor_29</th>\n",
              "      <th>sensor_30</th>\n",
              "      <th>...</th>\n",
              "      <th>sensor_42</th>\n",
              "      <th>sensor_43</th>\n",
              "      <th>sensor_44</th>\n",
              "      <th>sensor_45</th>\n",
              "      <th>sensor_46</th>\n",
              "      <th>sensor_47</th>\n",
              "      <th>sensor_48</th>\n",
              "      <th>sensor_49</th>\n",
              "      <th>sensor_50</th>\n",
              "      <th>sensor_51</th>\n",
              "    </tr>\n",
              "  </thead>\n",
              "  <tbody>\n",
              "    <tr>\n",
              "      <th>count</th>\n",
              "      <td>220320.000000</td>\n",
              "      <td>220320.000000</td>\n",
              "      <td>220320.000000</td>\n",
              "      <td>220320.000000</td>\n",
              "      <td>220320.000000</td>\n",
              "      <td>220320.000000</td>\n",
              "      <td>220320.000000</td>\n",
              "      <td>220320.000000</td>\n",
              "      <td>220320.000000</td>\n",
              "      <td>220320.000000</td>\n",
              "      <td>...</td>\n",
              "      <td>220320.000000</td>\n",
              "      <td>220320.000000</td>\n",
              "      <td>220320.000000</td>\n",
              "      <td>220320.000000</td>\n",
              "      <td>220320.000000</td>\n",
              "      <td>220320.000000</td>\n",
              "      <td>220320.000000</td>\n",
              "      <td>220320.000000</td>\n",
              "      <td>220320.000000</td>\n",
              "      <td>220320.000000</td>\n",
              "    </tr>\n",
              "    <tr>\n",
              "      <th>mean</th>\n",
              "      <td>796.225942</td>\n",
              "      <td>459.792815</td>\n",
              "      <td>922.609264</td>\n",
              "      <td>556.235397</td>\n",
              "      <td>649.144799</td>\n",
              "      <td>786.411781</td>\n",
              "      <td>501.506589</td>\n",
              "      <td>851.690339</td>\n",
              "      <td>576.195305</td>\n",
              "      <td>614.596442</td>\n",
              "      <td>...</td>\n",
              "      <td>35.453455</td>\n",
              "      <td>43.879591</td>\n",
              "      <td>42.656877</td>\n",
              "      <td>43.094984</td>\n",
              "      <td>48.018585</td>\n",
              "      <td>44.340903</td>\n",
              "      <td>150.889044</td>\n",
              "      <td>57.119968</td>\n",
              "      <td>183.049260</td>\n",
              "      <td>202.699667</td>\n",
              "    </tr>\n",
              "    <tr>\n",
              "      <th>std</th>\n",
              "      <td>226.671085</td>\n",
              "      <td>154.513958</td>\n",
              "      <td>291.824683</td>\n",
              "      <td>182.291359</td>\n",
              "      <td>220.847121</td>\n",
              "      <td>246.652412</td>\n",
              "      <td>169.817006</td>\n",
              "      <td>313.062664</td>\n",
              "      <td>225.727198</td>\n",
              "      <td>195.610904</td>\n",
              "      <td>...</td>\n",
              "      <td>10.258892</td>\n",
              "      <td>11.043727</td>\n",
              "      <td>11.575646</td>\n",
              "      <td>12.836733</td>\n",
              "      <td>15.640325</td>\n",
              "      <td>10.441797</td>\n",
              "      <td>82.239917</td>\n",
              "      <td>19.142425</td>\n",
              "      <td>52.630590</td>\n",
              "      <td>105.693568</td>\n",
              "    </tr>\n",
              "    <tr>\n",
              "      <th>min</th>\n",
              "      <td>95.527660</td>\n",
              "      <td>0.000000</td>\n",
              "      <td>0.000000</td>\n",
              "      <td>0.000000</td>\n",
              "      <td>0.000000</td>\n",
              "      <td>43.154790</td>\n",
              "      <td>0.000000</td>\n",
              "      <td>4.319347</td>\n",
              "      <td>0.636574</td>\n",
              "      <td>0.000000</td>\n",
              "      <td>...</td>\n",
              "      <td>22.135416</td>\n",
              "      <td>24.479166</td>\n",
              "      <td>25.752316</td>\n",
              "      <td>26.331018</td>\n",
              "      <td>26.331018</td>\n",
              "      <td>27.199070</td>\n",
              "      <td>26.331018</td>\n",
              "      <td>26.620370</td>\n",
              "      <td>27.488426</td>\n",
              "      <td>27.777779</td>\n",
              "    </tr>\n",
              "    <tr>\n",
              "      <th>25%</th>\n",
              "      <td>875.461300</td>\n",
              "      <td>478.942500</td>\n",
              "      <td>950.919700</td>\n",
              "      <td>601.149500</td>\n",
              "      <td>693.932600</td>\n",
              "      <td>790.343525</td>\n",
              "      <td>448.299675</td>\n",
              "      <td>782.685650</td>\n",
              "      <td>518.964700</td>\n",
              "      <td>627.777800</td>\n",
              "      <td>...</td>\n",
              "      <td>32.812500</td>\n",
              "      <td>39.583330</td>\n",
              "      <td>36.747684</td>\n",
              "      <td>36.747684</td>\n",
              "      <td>40.509258</td>\n",
              "      <td>39.062500</td>\n",
              "      <td>83.912030</td>\n",
              "      <td>47.743060</td>\n",
              "      <td>182.581000</td>\n",
              "      <td>180.555600</td>\n",
              "    </tr>\n",
              "    <tr>\n",
              "      <th>50%</th>\n",
              "      <td>879.697300</td>\n",
              "      <td>531.854100</td>\n",
              "      <td>981.924500</td>\n",
              "      <td>625.872650</td>\n",
              "      <td>740.199250</td>\n",
              "      <td>861.831750</td>\n",
              "      <td>494.475250</td>\n",
              "      <td>967.231500</td>\n",
              "      <td>564.894700</td>\n",
              "      <td>668.981400</td>\n",
              "      <td>...</td>\n",
              "      <td>35.156250</td>\n",
              "      <td>42.968750</td>\n",
              "      <td>40.509260</td>\n",
              "      <td>40.219910</td>\n",
              "      <td>44.849540</td>\n",
              "      <td>42.534720</td>\n",
              "      <td>138.020800</td>\n",
              "      <td>52.662040</td>\n",
              "      <td>183.049260</td>\n",
              "      <td>199.942100</td>\n",
              "    </tr>\n",
              "    <tr>\n",
              "      <th>75%</th>\n",
              "      <td>882.129800</td>\n",
              "      <td>534.254400</td>\n",
              "      <td>1090.807250</td>\n",
              "      <td>628.607500</td>\n",
              "      <td>750.356125</td>\n",
              "      <td>919.098450</td>\n",
              "      <td>536.272050</td>\n",
              "      <td>1043.972000</td>\n",
              "      <td>743.947000</td>\n",
              "      <td>697.222200</td>\n",
              "      <td>...</td>\n",
              "      <td>36.979164</td>\n",
              "      <td>46.614580</td>\n",
              "      <td>45.138890</td>\n",
              "      <td>44.849540</td>\n",
              "      <td>51.215280</td>\n",
              "      <td>46.585650</td>\n",
              "      <td>208.333300</td>\n",
              "      <td>60.763890</td>\n",
              "      <td>204.571800</td>\n",
              "      <td>214.699100</td>\n",
              "    </tr>\n",
              "    <tr>\n",
              "      <th>max</th>\n",
              "      <td>1107.526000</td>\n",
              "      <td>594.061100</td>\n",
              "      <td>1227.564000</td>\n",
              "      <td>1000.000000</td>\n",
              "      <td>839.575000</td>\n",
              "      <td>1214.420000</td>\n",
              "      <td>2000.000000</td>\n",
              "      <td>1841.146000</td>\n",
              "      <td>1466.281000</td>\n",
              "      <td>1600.000000</td>\n",
              "      <td>...</td>\n",
              "      <td>374.218800</td>\n",
              "      <td>408.593700</td>\n",
              "      <td>1000.000000</td>\n",
              "      <td>320.312500</td>\n",
              "      <td>370.370400</td>\n",
              "      <td>303.530100</td>\n",
              "      <td>561.632000</td>\n",
              "      <td>464.409700</td>\n",
              "      <td>1000.000000</td>\n",
              "      <td>1000.000000</td>\n",
              "    </tr>\n",
              "  </tbody>\n",
              "</table>\n",
              "<p>8 rows × 31 columns</p>\n",
              "</div>\n",
              "      <button class=\"colab-df-convert\" onclick=\"convertToInteractive('df-8ded1a6b-b9df-4279-a97f-e50a2234a09f')\"\n",
              "              title=\"Convert this dataframe to an interactive table.\"\n",
              "              style=\"display:none;\">\n",
              "        \n",
              "  <svg xmlns=\"http://www.w3.org/2000/svg\" height=\"24px\"viewBox=\"0 0 24 24\"\n",
              "       width=\"24px\">\n",
              "    <path d=\"M0 0h24v24H0V0z\" fill=\"none\"/>\n",
              "    <path d=\"M18.56 5.44l.94 2.06.94-2.06 2.06-.94-2.06-.94-.94-2.06-.94 2.06-2.06.94zm-11 1L8.5 8.5l.94-2.06 2.06-.94-2.06-.94L8.5 2.5l-.94 2.06-2.06.94zm10 10l.94 2.06.94-2.06 2.06-.94-2.06-.94-.94-2.06-.94 2.06-2.06.94z\"/><path d=\"M17.41 7.96l-1.37-1.37c-.4-.4-.92-.59-1.43-.59-.52 0-1.04.2-1.43.59L10.3 9.45l-7.72 7.72c-.78.78-.78 2.05 0 2.83L4 21.41c.39.39.9.59 1.41.59.51 0 1.02-.2 1.41-.59l7.78-7.78 2.81-2.81c.8-.78.8-2.07 0-2.86zM5.41 20L4 18.59l7.72-7.72 1.47 1.35L5.41 20z\"/>\n",
              "  </svg>\n",
              "      </button>\n",
              "      \n",
              "  <style>\n",
              "    .colab-df-container {\n",
              "      display:flex;\n",
              "      flex-wrap:wrap;\n",
              "      gap: 12px;\n",
              "    }\n",
              "\n",
              "    .colab-df-convert {\n",
              "      background-color: #E8F0FE;\n",
              "      border: none;\n",
              "      border-radius: 50%;\n",
              "      cursor: pointer;\n",
              "      display: none;\n",
              "      fill: #1967D2;\n",
              "      height: 32px;\n",
              "      padding: 0 0 0 0;\n",
              "      width: 32px;\n",
              "    }\n",
              "\n",
              "    .colab-df-convert:hover {\n",
              "      background-color: #E2EBFA;\n",
              "      box-shadow: 0px 1px 2px rgba(60, 64, 67, 0.3), 0px 1px 3px 1px rgba(60, 64, 67, 0.15);\n",
              "      fill: #174EA6;\n",
              "    }\n",
              "\n",
              "    [theme=dark] .colab-df-convert {\n",
              "      background-color: #3B4455;\n",
              "      fill: #D2E3FC;\n",
              "    }\n",
              "\n",
              "    [theme=dark] .colab-df-convert:hover {\n",
              "      background-color: #434B5C;\n",
              "      box-shadow: 0px 1px 3px 1px rgba(0, 0, 0, 0.15);\n",
              "      filter: drop-shadow(0px 1px 2px rgba(0, 0, 0, 0.3));\n",
              "      fill: #FFFFFF;\n",
              "    }\n",
              "  </style>\n",
              "\n",
              "      <script>\n",
              "        const buttonEl =\n",
              "          document.querySelector('#df-8ded1a6b-b9df-4279-a97f-e50a2234a09f button.colab-df-convert');\n",
              "        buttonEl.style.display =\n",
              "          google.colab.kernel.accessAllowed ? 'block' : 'none';\n",
              "\n",
              "        async function convertToInteractive(key) {\n",
              "          const element = document.querySelector('#df-8ded1a6b-b9df-4279-a97f-e50a2234a09f');\n",
              "          const dataTable =\n",
              "            await google.colab.kernel.invokeFunction('convertToInteractive',\n",
              "                                                     [key], {});\n",
              "          if (!dataTable) return;\n",
              "\n",
              "          const docLinkHtml = 'Like what you see? Visit the ' +\n",
              "            '<a target=\"_blank\" href=https://colab.research.google.com/notebooks/data_table.ipynb>data table notebook</a>'\n",
              "            + ' to learn more about interactive tables.';\n",
              "          element.innerHTML = '';\n",
              "          dataTable['output_type'] = 'display_data';\n",
              "          await google.colab.output.renderOutput(dataTable, element);\n",
              "          const docLink = document.createElement('div');\n",
              "          docLink.innerHTML = docLinkHtml;\n",
              "          element.appendChild(docLink);\n",
              "        }\n",
              "      </script>\n",
              "    </div>\n",
              "  </div>\n",
              "  "
            ]
          },
          "metadata": {},
          "execution_count": 73
        }
      ]
    },
    {
      "cell_type": "code",
      "source": [
        "df.iloc[:, 41 :].describe()"
      ],
      "metadata": {
        "colab": {
          "base_uri": "https://localhost:8080/",
          "height": 364
        },
        "id": "xoAKhaC8LkzE",
        "outputId": "4174a027-a16a-45be-8abc-340f7fd4813e"
      },
      "execution_count": null,
      "outputs": [
        {
          "output_type": "execute_result",
          "data": {
            "text/plain": [
              "           sensor_41      sensor_42      sensor_43      sensor_44  \\\n",
              "count  220320.000000  220320.000000  220320.000000  220320.000000   \n",
              "mean       35.365126      35.453455      43.879591      42.656877   \n",
              "std         7.898181      10.258892      11.043727      11.575646   \n",
              "min        20.833330      22.135416      24.479166      25.752316   \n",
              "25%        32.552080      32.812500      39.583330      36.747684   \n",
              "50%        34.895832      35.156250      42.968750      40.509260   \n",
              "75%        37.760410      36.979164      46.614580      45.138890   \n",
              "max       420.312500     374.218800     408.593700    1000.000000   \n",
              "\n",
              "           sensor_45      sensor_46      sensor_47      sensor_48  \\\n",
              "count  220320.000000  220320.000000  220320.000000  220320.000000   \n",
              "mean       43.094984      48.018585      44.340903     150.889044   \n",
              "std        12.836733      15.640325      10.441797      82.239917   \n",
              "min        26.331018      26.331018      27.199070      26.331018   \n",
              "25%        36.747684      40.509258      39.062500      83.912030   \n",
              "50%        40.219910      44.849540      42.534720     138.020800   \n",
              "75%        44.849540      51.215280      46.585650     208.333300   \n",
              "max       320.312500     370.370400     303.530100     561.632000   \n",
              "\n",
              "           sensor_49      sensor_50      sensor_51  \n",
              "count  220320.000000  220320.000000  220320.000000  \n",
              "mean       57.119968     183.049260     202.699667  \n",
              "std        19.142425      52.630590     105.693568  \n",
              "min        26.620370      27.488426      27.777779  \n",
              "25%        47.743060     182.581000     180.555600  \n",
              "50%        52.662040     183.049260     199.942100  \n",
              "75%        60.763890     204.571800     214.699100  \n",
              "max       464.409700    1000.000000    1000.000000  "
            ],
            "text/html": [
              "\n",
              "  <div id=\"df-b152ad8e-74f0-4b7a-8fac-4d0988949050\">\n",
              "    <div class=\"colab-df-container\">\n",
              "      <div>\n",
              "<style scoped>\n",
              "    .dataframe tbody tr th:only-of-type {\n",
              "        vertical-align: middle;\n",
              "    }\n",
              "\n",
              "    .dataframe tbody tr th {\n",
              "        vertical-align: top;\n",
              "    }\n",
              "\n",
              "    .dataframe thead th {\n",
              "        text-align: right;\n",
              "    }\n",
              "</style>\n",
              "<table border=\"1\" class=\"dataframe\">\n",
              "  <thead>\n",
              "    <tr style=\"text-align: right;\">\n",
              "      <th></th>\n",
              "      <th>sensor_41</th>\n",
              "      <th>sensor_42</th>\n",
              "      <th>sensor_43</th>\n",
              "      <th>sensor_44</th>\n",
              "      <th>sensor_45</th>\n",
              "      <th>sensor_46</th>\n",
              "      <th>sensor_47</th>\n",
              "      <th>sensor_48</th>\n",
              "      <th>sensor_49</th>\n",
              "      <th>sensor_50</th>\n",
              "      <th>sensor_51</th>\n",
              "    </tr>\n",
              "  </thead>\n",
              "  <tbody>\n",
              "    <tr>\n",
              "      <th>count</th>\n",
              "      <td>220320.000000</td>\n",
              "      <td>220320.000000</td>\n",
              "      <td>220320.000000</td>\n",
              "      <td>220320.000000</td>\n",
              "      <td>220320.000000</td>\n",
              "      <td>220320.000000</td>\n",
              "      <td>220320.000000</td>\n",
              "      <td>220320.000000</td>\n",
              "      <td>220320.000000</td>\n",
              "      <td>220320.000000</td>\n",
              "      <td>220320.000000</td>\n",
              "    </tr>\n",
              "    <tr>\n",
              "      <th>mean</th>\n",
              "      <td>35.365126</td>\n",
              "      <td>35.453455</td>\n",
              "      <td>43.879591</td>\n",
              "      <td>42.656877</td>\n",
              "      <td>43.094984</td>\n",
              "      <td>48.018585</td>\n",
              "      <td>44.340903</td>\n",
              "      <td>150.889044</td>\n",
              "      <td>57.119968</td>\n",
              "      <td>183.049260</td>\n",
              "      <td>202.699667</td>\n",
              "    </tr>\n",
              "    <tr>\n",
              "      <th>std</th>\n",
              "      <td>7.898181</td>\n",
              "      <td>10.258892</td>\n",
              "      <td>11.043727</td>\n",
              "      <td>11.575646</td>\n",
              "      <td>12.836733</td>\n",
              "      <td>15.640325</td>\n",
              "      <td>10.441797</td>\n",
              "      <td>82.239917</td>\n",
              "      <td>19.142425</td>\n",
              "      <td>52.630590</td>\n",
              "      <td>105.693568</td>\n",
              "    </tr>\n",
              "    <tr>\n",
              "      <th>min</th>\n",
              "      <td>20.833330</td>\n",
              "      <td>22.135416</td>\n",
              "      <td>24.479166</td>\n",
              "      <td>25.752316</td>\n",
              "      <td>26.331018</td>\n",
              "      <td>26.331018</td>\n",
              "      <td>27.199070</td>\n",
              "      <td>26.331018</td>\n",
              "      <td>26.620370</td>\n",
              "      <td>27.488426</td>\n",
              "      <td>27.777779</td>\n",
              "    </tr>\n",
              "    <tr>\n",
              "      <th>25%</th>\n",
              "      <td>32.552080</td>\n",
              "      <td>32.812500</td>\n",
              "      <td>39.583330</td>\n",
              "      <td>36.747684</td>\n",
              "      <td>36.747684</td>\n",
              "      <td>40.509258</td>\n",
              "      <td>39.062500</td>\n",
              "      <td>83.912030</td>\n",
              "      <td>47.743060</td>\n",
              "      <td>182.581000</td>\n",
              "      <td>180.555600</td>\n",
              "    </tr>\n",
              "    <tr>\n",
              "      <th>50%</th>\n",
              "      <td>34.895832</td>\n",
              "      <td>35.156250</td>\n",
              "      <td>42.968750</td>\n",
              "      <td>40.509260</td>\n",
              "      <td>40.219910</td>\n",
              "      <td>44.849540</td>\n",
              "      <td>42.534720</td>\n",
              "      <td>138.020800</td>\n",
              "      <td>52.662040</td>\n",
              "      <td>183.049260</td>\n",
              "      <td>199.942100</td>\n",
              "    </tr>\n",
              "    <tr>\n",
              "      <th>75%</th>\n",
              "      <td>37.760410</td>\n",
              "      <td>36.979164</td>\n",
              "      <td>46.614580</td>\n",
              "      <td>45.138890</td>\n",
              "      <td>44.849540</td>\n",
              "      <td>51.215280</td>\n",
              "      <td>46.585650</td>\n",
              "      <td>208.333300</td>\n",
              "      <td>60.763890</td>\n",
              "      <td>204.571800</td>\n",
              "      <td>214.699100</td>\n",
              "    </tr>\n",
              "    <tr>\n",
              "      <th>max</th>\n",
              "      <td>420.312500</td>\n",
              "      <td>374.218800</td>\n",
              "      <td>408.593700</td>\n",
              "      <td>1000.000000</td>\n",
              "      <td>320.312500</td>\n",
              "      <td>370.370400</td>\n",
              "      <td>303.530100</td>\n",
              "      <td>561.632000</td>\n",
              "      <td>464.409700</td>\n",
              "      <td>1000.000000</td>\n",
              "      <td>1000.000000</td>\n",
              "    </tr>\n",
              "  </tbody>\n",
              "</table>\n",
              "</div>\n",
              "      <button class=\"colab-df-convert\" onclick=\"convertToInteractive('df-b152ad8e-74f0-4b7a-8fac-4d0988949050')\"\n",
              "              title=\"Convert this dataframe to an interactive table.\"\n",
              "              style=\"display:none;\">\n",
              "        \n",
              "  <svg xmlns=\"http://www.w3.org/2000/svg\" height=\"24px\"viewBox=\"0 0 24 24\"\n",
              "       width=\"24px\">\n",
              "    <path d=\"M0 0h24v24H0V0z\" fill=\"none\"/>\n",
              "    <path d=\"M18.56 5.44l.94 2.06.94-2.06 2.06-.94-2.06-.94-.94-2.06-.94 2.06-2.06.94zm-11 1L8.5 8.5l.94-2.06 2.06-.94-2.06-.94L8.5 2.5l-.94 2.06-2.06.94zm10 10l.94 2.06.94-2.06 2.06-.94-2.06-.94-.94-2.06-.94 2.06-2.06.94z\"/><path d=\"M17.41 7.96l-1.37-1.37c-.4-.4-.92-.59-1.43-.59-.52 0-1.04.2-1.43.59L10.3 9.45l-7.72 7.72c-.78.78-.78 2.05 0 2.83L4 21.41c.39.39.9.59 1.41.59.51 0 1.02-.2 1.41-.59l7.78-7.78 2.81-2.81c.8-.78.8-2.07 0-2.86zM5.41 20L4 18.59l7.72-7.72 1.47 1.35L5.41 20z\"/>\n",
              "  </svg>\n",
              "      </button>\n",
              "      \n",
              "  <style>\n",
              "    .colab-df-container {\n",
              "      display:flex;\n",
              "      flex-wrap:wrap;\n",
              "      gap: 12px;\n",
              "    }\n",
              "\n",
              "    .colab-df-convert {\n",
              "      background-color: #E8F0FE;\n",
              "      border: none;\n",
              "      border-radius: 50%;\n",
              "      cursor: pointer;\n",
              "      display: none;\n",
              "      fill: #1967D2;\n",
              "      height: 32px;\n",
              "      padding: 0 0 0 0;\n",
              "      width: 32px;\n",
              "    }\n",
              "\n",
              "    .colab-df-convert:hover {\n",
              "      background-color: #E2EBFA;\n",
              "      box-shadow: 0px 1px 2px rgba(60, 64, 67, 0.3), 0px 1px 3px 1px rgba(60, 64, 67, 0.15);\n",
              "      fill: #174EA6;\n",
              "    }\n",
              "\n",
              "    [theme=dark] .colab-df-convert {\n",
              "      background-color: #3B4455;\n",
              "      fill: #D2E3FC;\n",
              "    }\n",
              "\n",
              "    [theme=dark] .colab-df-convert:hover {\n",
              "      background-color: #434B5C;\n",
              "      box-shadow: 0px 1px 3px 1px rgba(0, 0, 0, 0.15);\n",
              "      filter: drop-shadow(0px 1px 2px rgba(0, 0, 0, 0.3));\n",
              "      fill: #FFFFFF;\n",
              "    }\n",
              "  </style>\n",
              "\n",
              "      <script>\n",
              "        const buttonEl =\n",
              "          document.querySelector('#df-b152ad8e-74f0-4b7a-8fac-4d0988949050 button.colab-df-convert');\n",
              "        buttonEl.style.display =\n",
              "          google.colab.kernel.accessAllowed ? 'block' : 'none';\n",
              "\n",
              "        async function convertToInteractive(key) {\n",
              "          const element = document.querySelector('#df-b152ad8e-74f0-4b7a-8fac-4d0988949050');\n",
              "          const dataTable =\n",
              "            await google.colab.kernel.invokeFunction('convertToInteractive',\n",
              "                                                     [key], {});\n",
              "          if (!dataTable) return;\n",
              "\n",
              "          const docLinkHtml = 'Like what you see? Visit the ' +\n",
              "            '<a target=\"_blank\" href=https://colab.research.google.com/notebooks/data_table.ipynb>data table notebook</a>'\n",
              "            + ' to learn more about interactive tables.';\n",
              "          element.innerHTML = '';\n",
              "          dataTable['output_type'] = 'display_data';\n",
              "          await google.colab.output.renderOutput(dataTable, element);\n",
              "          const docLink = document.createElement('div');\n",
              "          docLink.innerHTML = docLinkHtml;\n",
              "          element.appendChild(docLink);\n",
              "        }\n",
              "      </script>\n",
              "    </div>\n",
              "  </div>\n",
              "  "
            ]
          },
          "metadata": {},
          "execution_count": 74
        }
      ]
    },
    {
      "cell_type": "markdown",
      "source": [
        "##### Воспользуемся матрице корреляции. Для наглядности воспользуемся тепловыми картами"
      ],
      "metadata": {
        "id": "cKuF3ZU2CFT5"
      }
    },
    {
      "cell_type": "code",
      "source": [
        "sns.heatmap(df.corr());"
      ],
      "metadata": {
        "colab": {
          "base_uri": "https://localhost:8080/",
          "height": 549
        },
        "id": "5_wf2AGPEU0Q",
        "outputId": "a33f9289-dee7-46bb-a4b7-db419bba52b2"
      },
      "execution_count": null,
      "outputs": [
        {
          "output_type": "stream",
          "name": "stderr",
          "text": [
            "<ipython-input-75-f044f2f5ad42>:1: FutureWarning: The default value of numeric_only in DataFrame.corr is deprecated. In a future version, it will default to False. Select only valid columns or specify the value of numeric_only to silence this warning.\n",
            "  sns.heatmap(df.corr());\n"
          ]
        },
        {
          "output_type": "display_data",
          "data": {
            "text/plain": [
              "<Figure size 640x480 with 2 Axes>"
            ],
            "image/png": "[encoded data removed]"
          },
          "metadata": {}
        }
      ]
    },
    {
      "cell_type": "code",
      "source": [
        "df_first_half = df.iloc[:, : 27]\n",
        "df_first_half.assign(e = df['machine_status'])\n",
        "df_second_half = df.iloc[:, 27 :]"
      ],
      "metadata": {
        "id": "60rYHI6kCuhp"
      },
      "execution_count": null,
      "outputs": []
    },
    {
      "cell_type": "code",
      "source": [
        "sns.heatmap(df_first_half.corr());"
      ],
      "metadata": {
        "colab": {
          "base_uri": "https://localhost:8080/",
          "height": 549
        },
        "id": "5f6IRpG3CE2B",
        "outputId": "c0c7edbe-37ab-4ee4-8e4c-d0c40566570e"
      },
      "execution_count": null,
      "outputs": [
        {
          "output_type": "stream",
          "name": "stderr",
          "text": [
            "<ipython-input-77-5b5782b1ba30>:1: FutureWarning: The default value of numeric_only in DataFrame.corr is deprecated. In a future version, it will default to False. Select only valid columns or specify the value of numeric_only to silence this warning.\n",
            "  sns.heatmap(df_first_half.corr());\n"
          ]
        },
        {
          "output_type": "display_data",
          "data": {
            "text/plain": [
              "<Figure size 640x480 with 2 Axes>"
            ],
            "image/png": "[encoded data removed]"
          },
          "metadata": {}
        }
      ]
    },
    {
      "cell_type": "code",
      "source": [
        "sns.heatmap(df_second_half.corr());"
      ],
      "metadata": {
        "colab": {
          "base_uri": "https://localhost:8080/",
          "height": 549
        },
        "id": "VMbu7DyVEOG3",
        "outputId": "6323211d-c572-484c-e50d-cd7c8c61651f"
      },
      "execution_count": null,
      "outputs": [
        {
          "output_type": "stream",
          "name": "stderr",
          "text": [
            "<ipython-input-78-90f64f9a927d>:1: FutureWarning: The default value of numeric_only in DataFrame.corr is deprecated. In a future version, it will default to False. Select only valid columns or specify the value of numeric_only to silence this warning.\n",
            "  sns.heatmap(df_second_half.corr());\n"
          ]
        },
        {
          "output_type": "display_data",
          "data": {
            "text/plain": [
              "<Figure size 640x480 with 2 Axes>"
            ],
            "image/png": "[encoded data removed]"
          },
          "metadata": {}
        }
      ]
    },
    {
      "cell_type": "markdown",
      "source": [
        "##### Благодаря матрице корреляции мы заметили, что сенсоры 14-26 имеют связь. Посмотрим как они зависимы. Так как они все зависят друг от друга, то нам достаточно взгянуть на график рассеяния для двух из них."
      ],
      "metadata": {
        "id": "yOBo5n4nEkyM"
      }
    },
    {
      "cell_type": "code",
      "source": [
        "plt.scatter(df['sensor_19'], df['sensor_20']);"
      ],
      "metadata": {
        "colab": {
          "base_uri": "https://localhost:8080/",
          "height": 430
        },
        "id": "SiD-FldOF_8D",
        "outputId": "7ba0dfcf-bc01-462c-cbbe-603141f4def4"
      },
      "execution_count": null,
      "outputs": [
        {
          "output_type": "display_data",
          "data": {
            "text/plain": [
              "<Figure size 640x480 with 1 Axes>"
            ],
            "image/png": "[encoded data removed]"
          },
          "metadata": {}
        }
      ]
    },
    {
      "cell_type": "markdown",
      "source": [
        "##### Мы можем наблюдать линейную зависимость между признаками 19 и 20, а значит и между признаками 14-26. Рассмотрим не настолько выделенные зависимости. К примеру разберем зависимость сенсора 17 от сенсора 18. Не смотря на то, что они связаны с другими сенсорами из группы 14-26, но немного отличаются"
      ],
      "metadata": {
        "id": "CvZoK9hCGOf-"
      }
    },
    {
      "cell_type": "code",
      "source": [
        "plt.plot(df['sensor_17'], df['sensor_18']);"
      ],
      "metadata": {
        "colab": {
          "base_uri": "https://localhost:8080/",
          "height": 430
        },
        "id": "a64mQoAbJkeu",
        "outputId": "b0e2875e-c03f-4e14-f674-84e24d892599"
      },
      "execution_count": null,
      "outputs": [
        {
          "output_type": "display_data",
          "data": {
            "text/plain": [
              "<Figure size 640x480 with 1 Axes>"
            ],
            "image/png": "[encoded data removed]"
          },
          "metadata": {}
        }
      ]
    },
    {
      "cell_type": "markdown",
      "source": [
        "##### Можем заметить квадратичную зависимость между этими данными. Рассмотрим распределения данных с помощью гистограммы у сенсора 13, ведь его отклонение близко к среднему значению, а значит он может иметь не нормальное распределение"
      ],
      "metadata": {
        "id": "KvREiMosJTvt"
      }
    },
    {
      "cell_type": "code",
      "source": [
        "plt.hist(df['sensor_13'], bins=40);"
      ],
      "metadata": {
        "colab": {
          "base_uri": "https://localhost:8080/",
          "height": 430
        },
        "id": "YrCmCEsmG3oI",
        "outputId": "80ace51b-320c-412b-8010-046fc6c10889"
      },
      "execution_count": null,
      "outputs": [
        {
          "output_type": "display_data",
          "data": {
            "text/plain": [
              "<Figure size 640x480 with 1 Axes>"
            ],
            "image/png": "[encoded data removed]"
          },
          "metadata": {}
        }
      ]
    },
    {
      "cell_type": "markdown",
      "source": [
        "Данное распределение похоже на показательное. Рассмотрим этот же сенсор с помощью коробки с усами"
      ],
      "metadata": {
        "id": "L0vRnnJhITcS"
      }
    },
    {
      "cell_type": "code",
      "source": [
        "plt.boxplot(df['sensor_13']);"
      ],
      "metadata": {
        "colab": {
          "base_uri": "https://localhost:8080/",
          "height": 430
        },
        "id": "H5vRYXVBIcf-",
        "outputId": "844bc29a-a9cd-4010-abe2-fb3fa65344ff"
      },
      "execution_count": null,
      "outputs": [
        {
          "output_type": "display_data",
          "data": {
            "text/plain": [
              "<Figure size 640x480 with 1 Axes>"
            ],
            "image/png": "[encoded data removed]"
          },
          "metadata": {}
        }
      ]
    },
    {
      "cell_type": "markdown",
      "source": [
        "# Модуль B"
      ],
      "metadata": {
        "id": "GPXwujhITk17"
      }
    },
    {
      "cell_type": "markdown",
      "source": [
        "## Отбор признаков"
      ],
      "metadata": {
        "id": "BPBTdgUXT32R"
      }
    },
    {
      "cell_type": "markdown",
      "source": [
        "##### Преобразуем целевой признак Label Encoder'ом, чтобы найти корреляцию между ним и сканерами"
      ],
      "metadata": {
        "id": "JVHdDjGpT9dJ"
      }
    },
    {
      "cell_type": "code",
      "source": [
        "from sklearn.preprocessing import LabelEncoder"
      ],
      "metadata": {
        "id": "Ftiu7CgkTxJq"
      },
      "execution_count": null,
      "outputs": []
    },
    {
      "cell_type": "code",
      "source": [
        "le = LabelEncoder()\n",
        "df['machine_status'] = le.fit_transform(df['machine_status'])\n",
        "df"
      ],
      "metadata": {
        "colab": {
          "base_uri": "https://localhost:8080/",
          "height": 834
        },
        "id": "0gbgx8CfUS0p",
        "outputId": "dfb1e9fc-652f-44f0-b443-7b52345aade0"
      },
      "execution_count": null,
      "outputs": [
        {
          "output_type": "execute_result",
          "data": {
            "text/plain": [
              "                  timestamp  sensor_00  sensor_01  sensor_02  sensor_03  \\\n",
              "0       2018-04-01 00:00:00   2.465394   47.09201  53.211800  46.310760   \n",
              "1       2018-04-01 00:01:00   2.465394   47.09201  53.211800  46.310760   \n",
              "2       2018-04-01 00:02:00   2.444734   47.35243  53.211800  46.397570   \n",
              "3       2018-04-01 00:03:00   2.460474   47.09201  53.168400  46.397568   \n",
              "4       2018-04-01 00:04:00   2.445718   47.13541  53.211800  46.397568   \n",
              "...                     ...        ...        ...        ...        ...   \n",
              "220315  2018-08-31 23:55:00   2.407350   47.69965  50.520830  43.142361   \n",
              "220316  2018-08-31 23:56:00   2.400463   47.69965  50.564240  43.142361   \n",
              "220317  2018-08-31 23:57:00   2.396528   47.69965  50.520830  43.142361   \n",
              "220318  2018-08-31 23:58:00   2.406366   47.69965  50.520832  43.142361   \n",
              "220319  2018-08-31 23:59:00   2.396528   47.69965  50.520832  43.142361   \n",
              "\n",
              "         sensor_04  sensor_05  sensor_06  sensor_07  sensor_08  ...  \\\n",
              "0       634.375000   76.45975   13.41146   16.13136   15.56713  ...   \n",
              "1       634.375000   76.45975   13.41146   16.13136   15.56713  ...   \n",
              "2       638.888900   73.54598   13.32465   16.03733   15.61777  ...   \n",
              "3       628.125000   76.98898   13.31742   16.24711   15.69734  ...   \n",
              "4       636.458300   76.58897   13.35359   16.21094   15.69734  ...   \n",
              "...            ...        ...        ...        ...        ...  ...   \n",
              "220315  634.722229   64.59095   15.11863   16.65220   15.65393  ...   \n",
              "220316  630.902771   65.83363   15.15480   16.70284   15.65393  ...   \n",
              "220317  625.925903   67.29445   15.08970   16.70284   15.69734  ...   \n",
              "220318  635.648100   65.09175   15.11863   16.56539   15.74074  ...   \n",
              "220319  639.814800   65.45634   15.11863   16.65220   15.65393  ...   \n",
              "\n",
              "        sensor_43  sensor_44  sensor_45  sensor_46  sensor_47  sensor_48  \\\n",
              "0        41.92708  39.641200   65.68287   50.92593  38.194440   157.9861   \n",
              "1        41.92708  39.641200   65.68287   50.92593  38.194440   157.9861   \n",
              "2        41.66666  39.351852   65.39352   51.21528  38.194443   155.9606   \n",
              "3        40.88541  39.062500   64.81481   51.21528  38.194440   155.9606   \n",
              "4        41.40625  38.773150   65.10416   51.79398  38.773150   158.2755   \n",
              "...           ...        ...        ...        ...        ...        ...   \n",
              "220315   38.28125  68.287030   52.37268   48.32176  41.087960   212.3843   \n",
              "220316   38.28125  66.840280   50.63657   48.03241  40.798610   213.8310   \n",
              "220317   39.06250  65.393520   48.90046   48.03241  40.798610   217.3032   \n",
              "220318   40.62500  64.236110   47.74306   48.32176  40.509258   222.5116   \n",
              "220319   41.40625  62.789350   46.29630   48.90046  40.219910   227.4306   \n",
              "\n",
              "        sensor_49  sensor_50  sensor_51  machine_status  \n",
              "0        67.70834  243.05560   201.3889               1  \n",
              "1        67.70834  243.05560   201.3889               1  \n",
              "2        67.12963  241.31940   203.7037               1  \n",
              "3        66.84028  240.45140   203.1250               1  \n",
              "4        66.55093  242.18750   201.3889               1  \n",
              "...           ...        ...        ...             ...  \n",
              "220315  153.64580  183.04926   231.1921               1  \n",
              "220316  156.25000  183.04926   231.1921               1  \n",
              "220317  155.38190  183.04926   232.0602               1  \n",
              "220318  153.93520  183.04926   234.0856               1  \n",
              "220319  150.46300  183.04926   234.0856               1  \n",
              "\n",
              "[220320 rows x 53 columns]"
            ],
            "text/html": [
              "\n",
              "  <div id=\"df-da051970-e937-44a6-9718-d97b6f332493\">\n",
              "    <div class=\"colab-df-container\">\n",
              "      <div>\n",
              "<style scoped>\n",
              "    .dataframe tbody tr th:only-of-type {\n",
              "        vertical-align: middle;\n",
              "    }\n",
              "\n",
              "    .dataframe tbody tr th {\n",
              "        vertical-align: top;\n",
              "    }\n",
              "\n",
              "    .dataframe thead th {\n",
              "        text-align: right;\n",
              "    }\n",
              "</style>\n",
              "<table border=\"1\" class=\"dataframe\">\n",
              "  <thead>\n",
              "    <tr style=\"text-align: right;\">\n",
              "      <th></th>\n",
              "      <th>timestamp</th>\n",
              "      <th>sensor_00</th>\n",
              "      <th>sensor_01</th>\n",
              "      <th>sensor_02</th>\n",
              "      <th>sensor_03</th>\n",
              "      <th>sensor_04</th>\n",
              "      <th>sensor_05</th>\n",
              "      <th>sensor_06</th>\n",
              "      <th>sensor_07</th>\n",
              "      <th>sensor_08</th>\n",
              "      <th>...</th>\n",
              "      <th>sensor_43</th>\n",
              "      <th>sensor_44</th>\n",
              "      <th>sensor_45</th>\n",
              "      <th>sensor_46</th>\n",
              "      <th>sensor_47</th>\n",
              "      <th>sensor_48</th>\n",
              "      <th>sensor_49</th>\n",
              "      <th>sensor_50</th>\n",
              "      <th>sensor_51</th>\n",
              "      <th>machine_status</th>\n",
              "    </tr>\n",
              "  </thead>\n",
              "  <tbody>\n",
              "    <tr>\n",
              "      <th>0</th>\n",
              "      <td>2018-04-01 00:00:00</td>\n",
              "      <td>2.465394</td>\n",
              "      <td>47.09201</td>\n",
              "      <td>53.211800</td>\n",
              "      <td>46.310760</td>\n",
              "      <td>634.375000</td>\n",
              "      <td>76.45975</td>\n",
              "      <td>13.41146</td>\n",
              "      <td>16.13136</td>\n",
              "      <td>15.56713</td>\n",
              "      <td>...</td>\n",
              "      <td>41.92708</td>\n",
              "      <td>39.641200</td>\n",
              "      <td>65.68287</td>\n",
              "      <td>50.92593</td>\n",
              "      <td>38.194440</td>\n",
              "      <td>157.9861</td>\n",
              "      <td>67.70834</td>\n",
              "      <td>243.05560</td>\n",
              "      <td>201.3889</td>\n",
              "      <td>1</td>\n",
              "    </tr>\n",
              "    <tr>\n",
              "      <th>1</th>\n",
              "      <td>2018-04-01 00:01:00</td>\n",
              "      <td>2.465394</td>\n",
              "      <td>47.09201</td>\n",
              "      <td>53.211800</td>\n",
              "      <td>46.310760</td>\n",
              "      <td>634.375000</td>\n",
              "      <td>76.45975</td>\n",
              "      <td>13.41146</td>\n",
              "      <td>16.13136</td>\n",
              "      <td>15.56713</td>\n",
              "      <td>...</td>\n",
              "      <td>41.92708</td>\n",
              "      <td>39.641200</td>\n",
              "      <td>65.68287</td>\n",
              "      <td>50.92593</td>\n",
              "      <td>38.194440</td>\n",
              "      <td>157.9861</td>\n",
              "      <td>67.70834</td>\n",
              "      <td>243.05560</td>\n",
              "      <td>201.3889</td>\n",
              "      <td>1</td>\n",
              "    </tr>\n",
              "    <tr>\n",
              "      <th>2</th>\n",
              "      <td>2018-04-01 00:02:00</td>\n",
              "      <td>2.444734</td>\n",
              "      <td>47.35243</td>\n",
              "      <td>53.211800</td>\n",
              "      <td>46.397570</td>\n",
              "      <td>638.888900</td>\n",
              "      <td>73.54598</td>\n",
              "      <td>13.32465</td>\n",
              "      <td>16.03733</td>\n",
              "      <td>15.61777</td>\n",
              "      <td>...</td>\n",
              "      <td>41.66666</td>\n",
              "      <td>39.351852</td>\n",
              "      <td>65.39352</td>\n",
              "      <td>51.21528</td>\n",
              "      <td>38.194443</td>\n",
              "      <td>155.9606</td>\n",
              "      <td>67.12963</td>\n",
              "      <td>241.31940</td>\n",
              "      <td>203.7037</td>\n",
              "      <td>1</td>\n",
              "    </tr>\n",
              "    <tr>\n",
              "      <th>3</th>\n",
              "      <td>2018-04-01 00:03:00</td>\n",
              "      <td>2.460474</td>\n",
              "      <td>47.09201</td>\n",
              "      <td>53.168400</td>\n",
              "      <td>46.397568</td>\n",
              "      <td>628.125000</td>\n",
              "      <td>76.98898</td>\n",
              "      <td>13.31742</td>\n",
              "      <td>16.24711</td>\n",
              "      <td>15.69734</td>\n",
              "      <td>...</td>\n",
              "      <td>40.88541</td>\n",
              "      <td>39.062500</td>\n",
              "      <td>64.81481</td>\n",
              "      <td>51.21528</td>\n",
              "      <td>38.194440</td>\n",
              "      <td>155.9606</td>\n",
              "      <td>66.84028</td>\n",
              "      <td>240.45140</td>\n",
              "      <td>203.1250</td>\n",
              "      <td>1</td>\n",
              "    </tr>\n",
              "    <tr>\n",
              "      <th>4</th>\n",
              "      <td>2018-04-01 00:04:00</td>\n",
              "      <td>2.445718</td>\n",
              "      <td>47.13541</td>\n",
              "      <td>53.211800</td>\n",
              "      <td>46.397568</td>\n",
              "      <td>636.458300</td>\n",
              "      <td>76.58897</td>\n",
              "      <td>13.35359</td>\n",
              "      <td>16.21094</td>\n",
              "      <td>15.69734</td>\n",
              "      <td>...</td>\n",
              "      <td>41.40625</td>\n",
              "      <td>38.773150</td>\n",
              "      <td>65.10416</td>\n",
              "      <td>51.79398</td>\n",
              "      <td>38.773150</td>\n",
              "      <td>158.2755</td>\n",
              "      <td>66.55093</td>\n",
              "      <td>242.18750</td>\n",
              "      <td>201.3889</td>\n",
              "      <td>1</td>\n",
              "    </tr>\n",
              "    <tr>\n",
              "      <th>...</th>\n",
              "      <td>...</td>\n",
              "      <td>...</td>\n",
              "      <td>...</td>\n",
              "      <td>...</td>\n",
              "      <td>...</td>\n",
              "      <td>...</td>\n",
              "      <td>...</td>\n",
              "      <td>...</td>\n",
              "      <td>...</td>\n",
              "      <td>...</td>\n",
              "      <td>...</td>\n",
              "      <td>...</td>\n",
              "      <td>...</td>\n",
              "      <td>...</td>\n",
              "      <td>...</td>\n",
              "      <td>...</td>\n",
              "      <td>...</td>\n",
              "      <td>...</td>\n",
              "      <td>...</td>\n",
              "      <td>...</td>\n",
              "      <td>...</td>\n",
              "    </tr>\n",
              "    <tr>\n",
              "      <th>220315</th>\n",
              "      <td>2018-08-31 23:55:00</td>\n",
              "      <td>2.407350</td>\n",
              "      <td>47.69965</td>\n",
              "      <td>50.520830</td>\n",
              "      <td>43.142361</td>\n",
              "      <td>634.722229</td>\n",
              "      <td>64.59095</td>\n",
              "      <td>15.11863</td>\n",
              "      <td>16.65220</td>\n",
              "      <td>15.65393</td>\n",
              "      <td>...</td>\n",
              "      <td>38.28125</td>\n",
              "      <td>68.287030</td>\n",
              "      <td>52.37268</td>\n",
              "      <td>48.32176</td>\n",
              "      <td>41.087960</td>\n",
              "      <td>212.3843</td>\n",
              "      <td>153.64580</td>\n",
              "      <td>183.04926</td>\n",
              "      <td>231.1921</td>\n",
              "      <td>1</td>\n",
              "    </tr>\n",
              "    <tr>\n",
              "      <th>220316</th>\n",
              "      <td>2018-08-31 23:56:00</td>\n",
              "      <td>2.400463</td>\n",
              "      <td>47.69965</td>\n",
              "      <td>50.564240</td>\n",
              "      <td>43.142361</td>\n",
              "      <td>630.902771</td>\n",
              "      <td>65.83363</td>\n",
              "      <td>15.15480</td>\n",
              "      <td>16.70284</td>\n",
              "      <td>15.65393</td>\n",
              "      <td>...</td>\n",
              "      <td>38.28125</td>\n",
              "      <td>66.840280</td>\n",
              "      <td>50.63657</td>\n",
              "      <td>48.03241</td>\n",
              "      <td>40.798610</td>\n",
              "      <td>213.8310</td>\n",
              "      <td>156.25000</td>\n",
              "      <td>183.04926</td>\n",
              "      <td>231.1921</td>\n",
              "      <td>1</td>\n",
              "    </tr>\n",
              "    <tr>\n",
              "      <th>220317</th>\n",
              "      <td>2018-08-31 23:57:00</td>\n",
              "      <td>2.396528</td>\n",
              "      <td>47.69965</td>\n",
              "      <td>50.520830</td>\n",
              "      <td>43.142361</td>\n",
              "      <td>625.925903</td>\n",
              "      <td>67.29445</td>\n",
              "      <td>15.08970</td>\n",
              "      <td>16.70284</td>\n",
              "      <td>15.69734</td>\n",
              "      <td>...</td>\n",
              "      <td>39.06250</td>\n",
              "      <td>65.393520</td>\n",
              "      <td>48.90046</td>\n",
              "      <td>48.03241</td>\n",
              "      <td>40.798610</td>\n",
              "      <td>217.3032</td>\n",
              "      <td>155.38190</td>\n",
              "      <td>183.04926</td>\n",
              "      <td>232.0602</td>\n",
              "      <td>1</td>\n",
              "    </tr>\n",
              "    <tr>\n",
              "      <th>220318</th>\n",
              "      <td>2018-08-31 23:58:00</td>\n",
              "      <td>2.406366</td>\n",
              "      <td>47.69965</td>\n",
              "      <td>50.520832</td>\n",
              "      <td>43.142361</td>\n",
              "      <td>635.648100</td>\n",
              "      <td>65.09175</td>\n",
              "      <td>15.11863</td>\n",
              "      <td>16.56539</td>\n",
              "      <td>15.74074</td>\n",
              "      <td>...</td>\n",
              "      <td>40.62500</td>\n",
              "      <td>64.236110</td>\n",
              "      <td>47.74306</td>\n",
              "      <td>48.32176</td>\n",
              "      <td>40.509258</td>\n",
              "      <td>222.5116</td>\n",
              "      <td>153.93520</td>\n",
              "      <td>183.04926</td>\n",
              "      <td>234.0856</td>\n",
              "      <td>1</td>\n",
              "    </tr>\n",
              "    <tr>\n",
              "      <th>220319</th>\n",
              "      <td>2018-08-31 23:59:00</td>\n",
              "      <td>2.396528</td>\n",
              "      <td>47.69965</td>\n",
              "      <td>50.520832</td>\n",
              "      <td>43.142361</td>\n",
              "      <td>639.814800</td>\n",
              "      <td>65.45634</td>\n",
              "      <td>15.11863</td>\n",
              "      <td>16.65220</td>\n",
              "      <td>15.65393</td>\n",
              "      <td>...</td>\n",
              "      <td>41.40625</td>\n",
              "      <td>62.789350</td>\n",
              "      <td>46.29630</td>\n",
              "      <td>48.90046</td>\n",
              "      <td>40.219910</td>\n",
              "      <td>227.4306</td>\n",
              "      <td>150.46300</td>\n",
              "      <td>183.04926</td>\n",
              "      <td>234.0856</td>\n",
              "      <td>1</td>\n",
              "    </tr>\n",
              "  </tbody>\n",
              "</table>\n",
              "<p>220320 rows × 53 columns</p>\n",
              "</div>\n",
              "      <button class=\"colab-df-convert\" onclick=\"convertToInteractive('df-da051970-e937-44a6-9718-d97b6f332493')\"\n",
              "              title=\"Convert this dataframe to an interactive table.\"\n",
              "              style=\"display:none;\">\n",
              "        \n",
              "  <svg xmlns=\"http://www.w3.org/2000/svg\" height=\"24px\"viewBox=\"0 0 24 24\"\n",
              "       width=\"24px\">\n",
              "    <path d=\"M0 0h24v24H0V0z\" fill=\"none\"/>\n",
              "    <path d=\"M18.56 5.44l.94 2.06.94-2.06 2.06-.94-2.06-.94-.94-2.06-.94 2.06-2.06.94zm-11 1L8.5 8.5l.94-2.06 2.06-.94-2.06-.94L8.5 2.5l-.94 2.06-2.06.94zm10 10l.94 2.06.94-2.06 2.06-.94-2.06-.94-.94-2.06-.94 2.06-2.06.94z\"/><path d=\"M17.41 7.96l-1.37-1.37c-.4-.4-.92-.59-1.43-.59-.52 0-1.04.2-1.43.59L10.3 9.45l-7.72 7.72c-.78.78-.78 2.05 0 2.83L4 21.41c.39.39.9.59 1.41.59.51 0 1.02-.2 1.41-.59l7.78-7.78 2.81-2.81c.8-.78.8-2.07 0-2.86zM5.41 20L4 18.59l7.72-7.72 1.47 1.35L5.41 20z\"/>\n",
              "  </svg>\n",
              "      </button>\n",
              "      \n",
              "  <style>\n",
              "    .colab-df-container {\n",
              "      display:flex;\n",
              "      flex-wrap:wrap;\n",
              "      gap: 12px;\n",
              "    }\n",
              "\n",
              "    .colab-df-convert {\n",
              "      background-color: #E8F0FE;\n",
              "      border: none;\n",
              "      border-radius: 50%;\n",
              "      cursor: pointer;\n",
              "      display: none;\n",
              "      fill: #1967D2;\n",
              "      height: 32px;\n",
              "      padding: 0 0 0 0;\n",
              "      width: 32px;\n",
              "    }\n",
              "\n",
              "    .colab-df-convert:hover {\n",
              "      background-color: #E2EBFA;\n",
              "      box-shadow: 0px 1px 2px rgba(60, 64, 67, 0.3), 0px 1px 3px 1px rgba(60, 64, 67, 0.15);\n",
              "      fill: #174EA6;\n",
              "    }\n",
              "\n",
              "    [theme=dark] .colab-df-convert {\n",
              "      background-color: #3B4455;\n",
              "      fill: #D2E3FC;\n",
              "    }\n",
              "\n",
              "    [theme=dark] .colab-df-convert:hover {\n",
              "      background-color: #434B5C;\n",
              "      box-shadow: 0px 1px 3px 1px rgba(0, 0, 0, 0.15);\n",
              "      filter: drop-shadow(0px 1px 2px rgba(0, 0, 0, 0.3));\n",
              "      fill: #FFFFFF;\n",
              "    }\n",
              "  </style>\n",
              "\n",
              "      <script>\n",
              "        const buttonEl =\n",
              "          document.querySelector('#df-da051970-e937-44a6-9718-d97b6f332493 button.colab-df-convert');\n",
              "        buttonEl.style.display =\n",
              "          google.colab.kernel.accessAllowed ? 'block' : 'none';\n",
              "\n",
              "        async function convertToInteractive(key) {\n",
              "          const element = document.querySelector('#df-da051970-e937-44a6-9718-d97b6f332493');\n",
              "          const dataTable =\n",
              "            await google.colab.kernel.invokeFunction('convertToInteractive',\n",
              "                                                     [key], {});\n",
              "          if (!dataTable) return;\n",
              "\n",
              "          const docLinkHtml = 'Like what you see? Visit the ' +\n",
              "            '<a target=\"_blank\" href=https://colab.research.google.com/notebooks/data_table.ipynb>data table notebook</a>'\n",
              "            + ' to learn more about interactive tables.';\n",
              "          element.innerHTML = '';\n",
              "          dataTable['output_type'] = 'display_data';\n",
              "          await google.colab.output.renderOutput(dataTable, element);\n",
              "          const docLink = document.createElement('div');\n",
              "          docLink.innerHTML = docLinkHtml;\n",
              "          element.appendChild(docLink);\n",
              "        }\n",
              "      </script>\n",
              "    </div>\n",
              "  </div>\n",
              "  "
            ]
          },
          "metadata": {},
          "execution_count": 84
        }
      ]
    },
    {
      "cell_type": "markdown",
      "source": [
        "##### Избавимся от первого признака, ведь он уникален для каждого из объектов"
      ],
      "metadata": {
        "id": "I9UNt6BbV4nB"
      }
    },
    {
      "cell_type": "code",
      "source": [
        "df = df.drop('timestamp', axis=1)\n",
        "df"
      ],
      "metadata": {
        "colab": {
          "base_uri": "https://localhost:8080/",
          "height": 487
        },
        "id": "jsqwDLRGWASf",
        "outputId": "59a7c9eb-dedc-4e74-8be6-e0a0c237c5ab"
      },
      "execution_count": null,
      "outputs": [
        {
          "output_type": "execute_result",
          "data": {
            "text/plain": [
              "        sensor_00  sensor_01  sensor_02  sensor_03   sensor_04  sensor_05  \\\n",
              "0        2.465394   47.09201  53.211800  46.310760  634.375000   76.45975   \n",
              "1        2.465394   47.09201  53.211800  46.310760  634.375000   76.45975   \n",
              "2        2.444734   47.35243  53.211800  46.397570  638.888900   73.54598   \n",
              "3        2.460474   47.09201  53.168400  46.397568  628.125000   76.98898   \n",
              "4        2.445718   47.13541  53.211800  46.397568  636.458300   76.58897   \n",
              "...           ...        ...        ...        ...         ...        ...   \n",
              "220315   2.407350   47.69965  50.520830  43.142361  634.722229   64.59095   \n",
              "220316   2.400463   47.69965  50.564240  43.142361  630.902771   65.83363   \n",
              "220317   2.396528   47.69965  50.520830  43.142361  625.925903   67.29445   \n",
              "220318   2.406366   47.69965  50.520832  43.142361  635.648100   65.09175   \n",
              "220319   2.396528   47.69965  50.520832  43.142361  639.814800   65.45634   \n",
              "\n",
              "        sensor_06  sensor_07  sensor_08  sensor_09  ...  sensor_43  sensor_44  \\\n",
              "0        13.41146   16.13136   15.56713   15.05353  ...   41.92708  39.641200   \n",
              "1        13.41146   16.13136   15.56713   15.05353  ...   41.92708  39.641200   \n",
              "2        13.32465   16.03733   15.61777   15.01013  ...   41.66666  39.351852   \n",
              "3        13.31742   16.24711   15.69734   15.08247  ...   40.88541  39.062500   \n",
              "4        13.35359   16.21094   15.69734   15.08247  ...   41.40625  38.773150   \n",
              "...           ...        ...        ...        ...  ...        ...        ...   \n",
              "220315   15.11863   16.65220   15.65393   15.16204  ...   38.28125  68.287030   \n",
              "220316   15.15480   16.70284   15.65393   15.11863  ...   38.28125  66.840280   \n",
              "220317   15.08970   16.70284   15.69734   15.11863  ...   39.06250  65.393520   \n",
              "220318   15.11863   16.56539   15.74074   15.11863  ...   40.62500  64.236110   \n",
              "220319   15.11863   16.65220   15.65393   15.01013  ...   41.40625  62.789350   \n",
              "\n",
              "        sensor_45  sensor_46  sensor_47  sensor_48  sensor_49  sensor_50  \\\n",
              "0        65.68287   50.92593  38.194440   157.9861   67.70834  243.05560   \n",
              "1        65.68287   50.92593  38.194440   157.9861   67.70834  243.05560   \n",
              "2        65.39352   51.21528  38.194443   155.9606   67.12963  241.31940   \n",
              "3        64.81481   51.21528  38.194440   155.9606   66.84028  240.45140   \n",
              "4        65.10416   51.79398  38.773150   158.2755   66.55093  242.18750   \n",
              "...           ...        ...        ...        ...        ...        ...   \n",
              "220315   52.37268   48.32176  41.087960   212.3843  153.64580  183.04926   \n",
              "220316   50.63657   48.03241  40.798610   213.8310  156.25000  183.04926   \n",
              "220317   48.90046   48.03241  40.798610   217.3032  155.38190  183.04926   \n",
              "220318   47.74306   48.32176  40.509258   222.5116  153.93520  183.04926   \n",
              "220319   46.29630   48.90046  40.219910   227.4306  150.46300  183.04926   \n",
              "\n",
              "        sensor_51  machine_status  \n",
              "0        201.3889               1  \n",
              "1        201.3889               1  \n",
              "2        203.7037               1  \n",
              "3        203.1250               1  \n",
              "4        201.3889               1  \n",
              "...           ...             ...  \n",
              "220315   231.1921               1  \n",
              "220316   231.1921               1  \n",
              "220317   232.0602               1  \n",
              "220318   234.0856               1  \n",
              "220319   234.0856               1  \n",
              "\n",
              "[220320 rows x 52 columns]"
            ],
            "text/html": [
              "\n",
              "  <div id=\"df-cfc11615-137c-4c83-bcdc-42e6b6f87fb4\">\n",
              "    <div class=\"colab-df-container\">\n",
              "      <div>\n",
              "<style scoped>\n",
              "    .dataframe tbody tr th:only-of-type {\n",
              "        vertical-align: middle;\n",
              "    }\n",
              "\n",
              "    .dataframe tbody tr th {\n",
              "        vertical-align: top;\n",
              "    }\n",
              "\n",
              "    .dataframe thead th {\n",
              "        text-align: right;\n",
              "    }\n",
              "</style>\n",
              "<table border=\"1\" class=\"dataframe\">\n",
              "  <thead>\n",
              "    <tr style=\"text-align: right;\">\n",
              "      <th></th>\n",
              "      <th>sensor_00</th>\n",
              "      <th>sensor_01</th>\n",
              "      <th>sensor_02</th>\n",
              "      <th>sensor_03</th>\n",
              "      <th>sensor_04</th>\n",
              "      <th>sensor_05</th>\n",
              "      <th>sensor_06</th>\n",
              "      <th>sensor_07</th>\n",
              "      <th>sensor_08</th>\n",
              "      <th>sensor_09</th>\n",
              "      <th>...</th>\n",
              "      <th>sensor_43</th>\n",
              "      <th>sensor_44</th>\n",
              "      <th>sensor_45</th>\n",
              "      <th>sensor_46</th>\n",
              "      <th>sensor_47</th>\n",
              "      <th>sensor_48</th>\n",
              "      <th>sensor_49</th>\n",
              "      <th>sensor_50</th>\n",
              "      <th>sensor_51</th>\n",
              "      <th>machine_status</th>\n",
              "    </tr>\n",
              "  </thead>\n",
              "  <tbody>\n",
              "    <tr>\n",
              "      <th>0</th>\n",
              "      <td>2.465394</td>\n",
              "      <td>47.09201</td>\n",
              "      <td>53.211800</td>\n",
              "      <td>46.310760</td>\n",
              "      <td>634.375000</td>\n",
              "      <td>76.45975</td>\n",
              "      <td>13.41146</td>\n",
              "      <td>16.13136</td>\n",
              "      <td>15.56713</td>\n",
              "      <td>15.05353</td>\n",
              "      <td>...</td>\n",
              "      <td>41.92708</td>\n",
              "      <td>39.641200</td>\n",
              "      <td>65.68287</td>\n",
              "      <td>50.92593</td>\n",
              "      <td>38.194440</td>\n",
              "      <td>157.9861</td>\n",
              "      <td>67.70834</td>\n",
              "      <td>243.05560</td>\n",
              "      <td>201.3889</td>\n",
              "      <td>1</td>\n",
              "    </tr>\n",
              "    <tr>\n",
              "      <th>1</th>\n",
              "      <td>2.465394</td>\n",
              "      <td>47.09201</td>\n",
              "      <td>53.211800</td>\n",
              "      <td>46.310760</td>\n",
              "      <td>634.375000</td>\n",
              "      <td>76.45975</td>\n",
              "      <td>13.41146</td>\n",
              "      <td>16.13136</td>\n",
              "      <td>15.56713</td>\n",
              "      <td>15.05353</td>\n",
              "      <td>...</td>\n",
              "      <td>41.92708</td>\n",
              "      <td>39.641200</td>\n",
              "      <td>65.68287</td>\n",
              "      <td>50.92593</td>\n",
              "      <td>38.194440</td>\n",
              "      <td>157.9861</td>\n",
              "      <td>67.70834</td>\n",
              "      <td>243.05560</td>\n",
              "      <td>201.3889</td>\n",
              "      <td>1</td>\n",
              "    </tr>\n",
              "    <tr>\n",
              "      <th>2</th>\n",
              "      <td>2.444734</td>\n",
              "      <td>47.35243</td>\n",
              "      <td>53.211800</td>\n",
              "      <td>46.397570</td>\n",
              "      <td>638.888900</td>\n",
              "      <td>73.54598</td>\n",
              "      <td>13.32465</td>\n",
              "      <td>16.03733</td>\n",
              "      <td>15.61777</td>\n",
              "      <td>15.01013</td>\n",
              "      <td>...</td>\n",
              "      <td>41.66666</td>\n",
              "      <td>39.351852</td>\n",
              "      <td>65.39352</td>\n",
              "      <td>51.21528</td>\n",
              "      <td>38.194443</td>\n",
              "      <td>155.9606</td>\n",
              "      <td>67.12963</td>\n",
              "      <td>241.31940</td>\n",
              "      <td>203.7037</td>\n",
              "      <td>1</td>\n",
              "    </tr>\n",
              "    <tr>\n",
              "      <th>3</th>\n",
              "      <td>2.460474</td>\n",
              "      <td>47.09201</td>\n",
              "      <td>53.168400</td>\n",
              "      <td>46.397568</td>\n",
              "      <td>628.125000</td>\n",
              "      <td>76.98898</td>\n",
              "      <td>13.31742</td>\n",
              "      <td>16.24711</td>\n",
              "      <td>15.69734</td>\n",
              "      <td>15.08247</td>\n",
              "      <td>...</td>\n",
              "      <td>40.88541</td>\n",
              "      <td>39.062500</td>\n",
              "      <td>64.81481</td>\n",
              "      <td>51.21528</td>\n",
              "      <td>38.194440</td>\n",
              "      <td>155.9606</td>\n",
              "      <td>66.84028</td>\n",
              "      <td>240.45140</td>\n",
              "      <td>203.1250</td>\n",
              "      <td>1</td>\n",
              "    </tr>\n",
              "    <tr>\n",
              "      <th>4</th>\n",
              "      <td>2.445718</td>\n",
              "      <td>47.13541</td>\n",
              "      <td>53.211800</td>\n",
              "      <td>46.397568</td>\n",
              "      <td>636.458300</td>\n",
              "      <td>76.58897</td>\n",
              "      <td>13.35359</td>\n",
              "      <td>16.21094</td>\n",
              "      <td>15.69734</td>\n",
              "      <td>15.08247</td>\n",
              "      <td>...</td>\n",
              "      <td>41.40625</td>\n",
              "      <td>38.773150</td>\n",
              "      <td>65.10416</td>\n",
              "      <td>51.79398</td>\n",
              "      <td>38.773150</td>\n",
              "      <td>158.2755</td>\n",
              "      <td>66.55093</td>\n",
              "      <td>242.18750</td>\n",
              "      <td>201.3889</td>\n",
              "      <td>1</td>\n",
              "    </tr>\n",
              "    <tr>\n",
              "      <th>...</th>\n",
              "      <td>...</td>\n",
              "      <td>...</td>\n",
              "      <td>...</td>\n",
              "      <td>...</td>\n",
              "      <td>...</td>\n",
              "      <td>...</td>\n",
              "      <td>...</td>\n",
              "      <td>...</td>\n",
              "      <td>...</td>\n",
              "      <td>...</td>\n",
              "      <td>...</td>\n",
              "      <td>...</td>\n",
              "      <td>...</td>\n",
              "      <td>...</td>\n",
              "      <td>...</td>\n",
              "      <td>...</td>\n",
              "      <td>...</td>\n",
              "      <td>...</td>\n",
              "      <td>...</td>\n",
              "      <td>...</td>\n",
              "      <td>...</td>\n",
              "    </tr>\n",
              "    <tr>\n",
              "      <th>220315</th>\n",
              "      <td>2.407350</td>\n",
              "      <td>47.69965</td>\n",
              "      <td>50.520830</td>\n",
              "      <td>43.142361</td>\n",
              "      <td>634.722229</td>\n",
              "      <td>64.59095</td>\n",
              "      <td>15.11863</td>\n",
              "      <td>16.65220</td>\n",
              "      <td>15.65393</td>\n",
              "      <td>15.16204</td>\n",
              "      <td>...</td>\n",
              "      <td>38.28125</td>\n",
              "      <td>68.287030</td>\n",
              "      <td>52.37268</td>\n",
              "      <td>48.32176</td>\n",
              "      <td>41.087960</td>\n",
              "      <td>212.3843</td>\n",
              "      <td>153.64580</td>\n",
              "      <td>183.04926</td>\n",
              "      <td>231.1921</td>\n",
              "      <td>1</td>\n",
              "    </tr>\n",
              "    <tr>\n",
              "      <th>220316</th>\n",
              "      <td>2.400463</td>\n",
              "      <td>47.69965</td>\n",
              "      <td>50.564240</td>\n",
              "      <td>43.142361</td>\n",
              "      <td>630.902771</td>\n",
              "      <td>65.83363</td>\n",
              "      <td>15.15480</td>\n",
              "      <td>16.70284</td>\n",
              "      <td>15.65393</td>\n",
              "      <td>15.11863</td>\n",
              "      <td>...</td>\n",
              "      <td>38.28125</td>\n",
              "      <td>66.840280</td>\n",
              "      <td>50.63657</td>\n",
              "      <td>48.03241</td>\n",
              "      <td>40.798610</td>\n",
              "      <td>213.8310</td>\n",
              "      <td>156.25000</td>\n",
              "      <td>183.04926</td>\n",
              "      <td>231.1921</td>\n",
              "      <td>1</td>\n",
              "    </tr>\n",
              "    <tr>\n",
              "      <th>220317</th>\n",
              "      <td>2.396528</td>\n",
              "      <td>47.69965</td>\n",
              "      <td>50.520830</td>\n",
              "      <td>43.142361</td>\n",
              "      <td>625.925903</td>\n",
              "      <td>67.29445</td>\n",
              "      <td>15.08970</td>\n",
              "      <td>16.70284</td>\n",
              "      <td>15.69734</td>\n",
              "      <td>15.11863</td>\n",
              "      <td>...</td>\n",
              "      <td>39.06250</td>\n",
              "      <td>65.393520</td>\n",
              "      <td>48.90046</td>\n",
              "      <td>48.03241</td>\n",
              "      <td>40.798610</td>\n",
              "      <td>217.3032</td>\n",
              "      <td>155.38190</td>\n",
              "      <td>183.04926</td>\n",
              "      <td>232.0602</td>\n",
              "      <td>1</td>\n",
              "    </tr>\n",
              "    <tr>\n",
              "      <th>220318</th>\n",
              "      <td>2.406366</td>\n",
              "      <td>47.69965</td>\n",
              "      <td>50.520832</td>\n",
              "      <td>43.142361</td>\n",
              "      <td>635.648100</td>\n",
              "      <td>65.09175</td>\n",
              "      <td>15.11863</td>\n",
              "      <td>16.56539</td>\n",
              "      <td>15.74074</td>\n",
              "      <td>15.11863</td>\n",
              "      <td>...</td>\n",
              "      <td>40.62500</td>\n",
              "      <td>64.236110</td>\n",
              "      <td>47.74306</td>\n",
              "      <td>48.32176</td>\n",
              "      <td>40.509258</td>\n",
              "      <td>222.5116</td>\n",
              "      <td>153.93520</td>\n",
              "      <td>183.04926</td>\n",
              "      <td>234.0856</td>\n",
              "      <td>1</td>\n",
              "    </tr>\n",
              "    <tr>\n",
              "      <th>220319</th>\n",
              "      <td>2.396528</td>\n",
              "      <td>47.69965</td>\n",
              "      <td>50.520832</td>\n",
              "      <td>43.142361</td>\n",
              "      <td>639.814800</td>\n",
              "      <td>65.45634</td>\n",
              "      <td>15.11863</td>\n",
              "      <td>16.65220</td>\n",
              "      <td>15.65393</td>\n",
              "      <td>15.01013</td>\n",
              "      <td>...</td>\n",
              "      <td>41.40625</td>\n",
              "      <td>62.789350</td>\n",
              "      <td>46.29630</td>\n",
              "      <td>48.90046</td>\n",
              "      <td>40.219910</td>\n",
              "      <td>227.4306</td>\n",
              "      <td>150.46300</td>\n",
              "      <td>183.04926</td>\n",
              "      <td>234.0856</td>\n",
              "      <td>1</td>\n",
              "    </tr>\n",
              "  </tbody>\n",
              "</table>\n",
              "<p>220320 rows × 52 columns</p>\n",
              "</div>\n",
              "      <button class=\"colab-df-convert\" onclick=\"convertToInteractive('df-cfc11615-137c-4c83-bcdc-42e6b6f87fb4')\"\n",
              "              title=\"Convert this dataframe to an interactive table.\"\n",
              "              style=\"display:none;\">\n",
              "        \n",
              "  <svg xmlns=\"http://www.w3.org/2000/svg\" height=\"24px\"viewBox=\"0 0 24 24\"\n",
              "       width=\"24px\">\n",
              "    <path d=\"M0 0h24v24H0V0z\" fill=\"none\"/>\n",
              "    <path d=\"M18.56 5.44l.94 2.06.94-2.06 2.06-.94-2.06-.94-.94-2.06-.94 2.06-2.06.94zm-11 1L8.5 8.5l.94-2.06 2.06-.94-2.06-.94L8.5 2.5l-.94 2.06-2.06.94zm10 10l.94 2.06.94-2.06 2.06-.94-2.06-.94-.94-2.06-.94 2.06-2.06.94z\"/><path d=\"M17.41 7.96l-1.37-1.37c-.4-.4-.92-.59-1.43-.59-.52 0-1.04.2-1.43.59L10.3 9.45l-7.72 7.72c-.78.78-.78 2.05 0 2.83L4 21.41c.39.39.9.59 1.41.59.51 0 1.02-.2 1.41-.59l7.78-7.78 2.81-2.81c.8-.78.8-2.07 0-2.86zM5.41 20L4 18.59l7.72-7.72 1.47 1.35L5.41 20z\"/>\n",
              "  </svg>\n",
              "      </button>\n",
              "      \n",
              "  <style>\n",
              "    .colab-df-container {\n",
              "      display:flex;\n",
              "      flex-wrap:wrap;\n",
              "      gap: 12px;\n",
              "    }\n",
              "\n",
              "    .colab-df-convert {\n",
              "      background-color: #E8F0FE;\n",
              "      border: none;\n",
              "      border-radius: 50%;\n",
              "      cursor: pointer;\n",
              "      display: none;\n",
              "      fill: #1967D2;\n",
              "      height: 32px;\n",
              "      padding: 0 0 0 0;\n",
              "      width: 32px;\n",
              "    }\n",
              "\n",
              "    .colab-df-convert:hover {\n",
              "      background-color: #E2EBFA;\n",
              "      box-shadow: 0px 1px 2px rgba(60, 64, 67, 0.3), 0px 1px 3px 1px rgba(60, 64, 67, 0.15);\n",
              "      fill: #174EA6;\n",
              "    }\n",
              "\n",
              "    [theme=dark] .colab-df-convert {\n",
              "      background-color: #3B4455;\n",
              "      fill: #D2E3FC;\n",
              "    }\n",
              "\n",
              "    [theme=dark] .colab-df-convert:hover {\n",
              "      background-color: #434B5C;\n",
              "      box-shadow: 0px 1px 3px 1px rgba(0, 0, 0, 0.15);\n",
              "      filter: drop-shadow(0px 1px 2px rgba(0, 0, 0, 0.3));\n",
              "      fill: #FFFFFF;\n",
              "    }\n",
              "  </style>\n",
              "\n",
              "      <script>\n",
              "        const buttonEl =\n",
              "          document.querySelector('#df-cfc11615-137c-4c83-bcdc-42e6b6f87fb4 button.colab-df-convert');\n",
              "        buttonEl.style.display =\n",
              "          google.colab.kernel.accessAllowed ? 'block' : 'none';\n",
              "\n",
              "        async function convertToInteractive(key) {\n",
              "          const element = document.querySelector('#df-cfc11615-137c-4c83-bcdc-42e6b6f87fb4');\n",
              "          const dataTable =\n",
              "            await google.colab.kernel.invokeFunction('convertToInteractive',\n",
              "                                                     [key], {});\n",
              "          if (!dataTable) return;\n",
              "\n",
              "          const docLinkHtml = 'Like what you see? Visit the ' +\n",
              "            '<a target=\"_blank\" href=https://colab.research.google.com/notebooks/data_table.ipynb>data table notebook</a>'\n",
              "            + ' to learn more about interactive tables.';\n",
              "          element.innerHTML = '';\n",
              "          dataTable['output_type'] = 'display_data';\n",
              "          await google.colab.output.renderOutput(dataTable, element);\n",
              "          const docLink = document.createElement('div');\n",
              "          docLink.innerHTML = docLinkHtml;\n",
              "          element.appendChild(docLink);\n",
              "        }\n",
              "      </script>\n",
              "    </div>\n",
              "  </div>\n",
              "  "
            ]
          },
          "metadata": {},
          "execution_count": 92
        }
      ]
    },
    {
      "cell_type": "markdown",
      "source": [
        "##### Найдем корреляцию"
      ],
      "metadata": {
        "id": "YaecQY40WKD2"
      }
    },
    {
      "cell_type": "code",
      "source": [
        "sns.heatmap(df.corr())"
      ],
      "metadata": {
        "colab": {
          "base_uri": "https://localhost:8080/",
          "height": 567
        },
        "id": "ou-yG0-mUtuJ",
        "outputId": "da413879-7f80-4194-b129-dae3089b0809"
      },
      "execution_count": null,
      "outputs": [
        {
          "output_type": "stream",
          "name": "stderr",
          "text": [
            "<ipython-input-85-aa4f4450a243>:1: FutureWarning: The default value of numeric_only in DataFrame.corr is deprecated. In a future version, it will default to False. Select only valid columns or specify the value of numeric_only to silence this warning.\n",
            "  sns.heatmap(df.corr())\n"
          ]
        },
        {
          "output_type": "execute_result",
          "data": {
            "text/plain": [
              "<Axes: >"
            ]
          },
          "metadata": {},
          "execution_count": 85
        },
        {
          "output_type": "display_data",
          "data": {
            "text/plain": [
              "<Figure size 640x480 with 2 Axes>"
            ],
            "image/png": "[encoded data removed]"
          },
          "metadata": {}
        }
      ]
    },
    {
      "cell_type": "markdown",
      "source": [
        "##### Воспользуемся хи-квадратом, чтобы узнать зависимы ли первые сенсоры с целевым признаком"
      ],
      "metadata": {
        "id": "ICGhoDQhVkya"
      }
    },
    {
      "cell_type": "code",
      "source": [
        "from sklearn.feature_selection import chi2"
      ],
      "metadata": {
        "id": "0ZC8U81CU8Xx"
      },
      "execution_count": null,
      "outputs": []
    },
    {
      "cell_type": "code",
      "source": [
        "chi2(df.iloc[:, : -1], df['machine_status'])"
      ],
      "metadata": {
        "colab": {
          "base_uri": "https://localhost:8080/"
        },
        "id": "s1ODwnQyWfkZ",
        "outputId": "fbb31bd1-4f40-45ca-9500-e766ebe0d6b9"
      },
      "execution_count": null,
      "outputs": [
        {
          "output_type": "execute_result",
          "data": {
            "text/plain": [
              "(array([3.07370377e+03, 2.27170621e+04, 3.64640572e+04, 1.23022705e+04,\n",
              "        6.49300832e+06, 1.69480620e+05, 3.06445552e+04, 2.05934626e+04,\n",
              "        1.58508854e+04, 1.74811847e+04, 5.91361409e+05, 6.07405391e+05,\n",
              "        4.45190340e+05, 1.07916208e+05, 6.29846820e+04, 6.68370665e+04,\n",
              "        4.86134693e+04, 2.42299883e+02, 1.15139127e+05, 4.81087555e+04,\n",
              "        1.01423891e+05, 7.21928348e+04, 1.86077299e+05, 1.28547263e+05,\n",
              "        1.01176490e+05, 9.85196840e+04, 1.35151230e+04, 1.04805359e+06,\n",
              "        5.51798913e+04, 1.79535156e+05, 5.15520107e+05, 3.45998363e+05,\n",
              "        1.12608226e+05, 1.14773880e+04, 8.61629480e+04, 1.17552199e+04,\n",
              "        2.37163893e+04, 6.45210742e+04, 1.37469736e+03, 2.06263386e+05,\n",
              "        4.29422837e+03, 9.28416133e+01, 8.69751546e+03, 3.84600070e+04,\n",
              "        3.45565728e+04, 4.60565958e+04, 3.52856933e+04, 1.32754093e+06,\n",
              "        1.15294090e+05, 1.71238474e+06, 5.34242971e+04]),\n",
              " array([0.00000000e+000, 0.00000000e+000, 0.00000000e+000, 0.00000000e+000,\n",
              "        0.00000000e+000, 0.00000000e+000, 0.00000000e+000, 0.00000000e+000,\n",
              "        0.00000000e+000, 0.00000000e+000, 0.00000000e+000, 0.00000000e+000,\n",
              "        0.00000000e+000, 0.00000000e+000, 0.00000000e+000, 0.00000000e+000,\n",
              "        0.00000000e+000, 2.42800148e-053, 0.00000000e+000, 0.00000000e+000,\n",
              "        0.00000000e+000, 0.00000000e+000, 0.00000000e+000, 0.00000000e+000,\n",
              "        0.00000000e+000, 0.00000000e+000, 0.00000000e+000, 0.00000000e+000,\n",
              "        0.00000000e+000, 0.00000000e+000, 0.00000000e+000, 0.00000000e+000,\n",
              "        0.00000000e+000, 0.00000000e+000, 0.00000000e+000, 0.00000000e+000,\n",
              "        0.00000000e+000, 0.00000000e+000, 3.07793959e-299, 0.00000000e+000,\n",
              "        0.00000000e+000, 6.91352974e-021, 0.00000000e+000, 0.00000000e+000,\n",
              "        0.00000000e+000, 0.00000000e+000, 0.00000000e+000, 0.00000000e+000,\n",
              "        0.00000000e+000, 0.00000000e+000, 0.00000000e+000]))"
            ]
          },
          "metadata": {},
          "execution_count": 102
        }
      ]
    },
    {
      "cell_type": "markdown",
      "source": [
        "##### Все сенсоры зависимы."
      ],
      "metadata": {
        "id": "SHiQs0isXtAQ"
      }
    },
    {
      "cell_type": "code",
      "source": [
        "from sklearn.decomposition import PCA"
      ],
      "metadata": {
        "id": "nLWDBE1lYDbH"
      },
      "execution_count": null,
      "outputs": []
    },
    {
      "cell_type": "code",
      "source": [
        "pca = PCA(n_components=10)\n",
        "X_pca = pca.fit_transform(df.iloc[:, : -1])\n",
        "X_pca"
      ],
      "metadata": {
        "colab": {
          "base_uri": "https://localhost:8080/"
        },
        "id": "UapJ462HYB5D",
        "outputId": "689c0a5d-555a-42f3-b2ce-84f82645dc74"
      },
      "execution_count": null,
      "outputs": [
        {
          "output_type": "execute_result",
          "data": {
            "text/plain": [
              "array([[ 6.99421815e+01,  2.65865297e+02, -4.29093874e+02, ...,\n",
              "         6.57809896e+00, -1.44138235e+01, -2.35000045e+01],\n",
              "       [ 6.99421815e+01,  2.65865297e+02, -4.29093874e+02, ...,\n",
              "         6.57809896e+00, -1.44138235e+01, -2.35000045e+01],\n",
              "       [ 2.82501110e+01,  2.83621565e+02, -4.00744476e+02, ...,\n",
              "         9.66644969e+00, -1.66869277e+01,  2.11966239e+01],\n",
              "       ...,\n",
              "       [-3.00199727e+02, -2.56921670e+02,  5.86005473e+01, ...,\n",
              "         1.35922282e+01,  3.15851087e+00, -3.23831519e+01],\n",
              "       [-2.85133341e+02, -2.63087081e+02,  6.30461136e+01, ...,\n",
              "         1.65761189e+01,  1.47212059e+01, -2.74071761e+01],\n",
              "       [-2.98173703e+02, -2.64531555e+02,  5.06820347e+01, ...,\n",
              "         1.63215530e+01, -2.39073753e-01, -3.14344303e+01]])"
            ]
          },
          "metadata": {},
          "execution_count": 107
        }
      ]
    },
    {
      "cell_type": "markdown",
      "source": [
        "##### Понижение размерности данных может быть целесообразно, т.к. мы имеем достаточно большое кол-во признаков, но это нужно смотреть на практике."
      ],
      "metadata": {
        "id": "AEYGA5pcYtLX"
      }
    },
    {
      "cell_type": "markdown",
      "source": [
        "## Визуализация"
      ],
      "metadata": {
        "id": "SrfYrOhxZmyX"
      }
    },
    {
      "cell_type": "markdown",
      "source": [
        "##### Для визуализации зависимости данных мы снова воспользуемся тепловой картой корреляций"
      ],
      "metadata": {
        "id": "upnLPupYZpLH"
      }
    },
    {
      "cell_type": "code",
      "source": [
        "sns.heatmap(df.corr())"
      ],
      "metadata": {
        "colab": {
          "base_uri": "https://localhost:8080/",
          "height": 510
        },
        "id": "ZMnwY7E7Zuww",
        "outputId": "28324bb8-4ea5-42e2-8b18-1c20a860c285"
      },
      "execution_count": null,
      "outputs": [
        {
          "output_type": "execute_result",
          "data": {
            "text/plain": [
              "<Axes: >"
            ]
          },
          "metadata": {},
          "execution_count": 111
        },
        {
          "output_type": "display_data",
          "data": {
            "text/plain": [
              "<Figure size 640x480 with 2 Axes>"
            ],
            "image/png": "[encoded data removed]"
          },
          "metadata": {}
        }
      ]
    },
    {
      "cell_type": "markdown",
      "source": [
        "##### Собирать каллаж из гистограмм или графиков рассеяния не имеет смысла, ведь те данные, которые имели интересные зависимости уже были представлены в модуле А"
      ],
      "metadata": {
        "id": "VM8Ay5bdaAzG"
      }
    },
    {
      "cell_type": "markdown",
      "source": [
        "##### Перед тем, как разбивать на подвыборки удалим лишние данные и проведем масштабирование"
      ],
      "metadata": {
        "id": "GzmV9T0gaVj3"
      }
    },
    {
      "cell_type": "code",
      "source": [
        "df.drop_duplicates()"
      ],
      "metadata": {
        "colab": {
          "base_uri": "https://localhost:8080/",
          "height": 487
        },
        "id": "-c_7AA_balu-",
        "outputId": "1df6df0e-d0d4-4ba7-dfdb-299d1df06b68"
      },
      "execution_count": null,
      "outputs": [
        {
          "output_type": "execute_result",
          "data": {
            "text/plain": [
              "        sensor_00  sensor_01  sensor_02  sensor_03   sensor_04  sensor_05  \\\n",
              "0        2.465394   47.09201  53.211800  46.310760  634.375000   76.45975   \n",
              "2        2.444734   47.35243  53.211800  46.397570  638.888900   73.54598   \n",
              "3        2.460474   47.09201  53.168400  46.397568  628.125000   76.98898   \n",
              "4        2.445718   47.13541  53.211800  46.397568  636.458300   76.58897   \n",
              "5        2.453588   47.09201  53.168400  46.397568  637.615700   78.18568   \n",
              "...           ...        ...        ...        ...         ...        ...   \n",
              "220315   2.407350   47.69965  50.520830  43.142361  634.722229   64.59095   \n",
              "220316   2.400463   47.69965  50.564240  43.142361  630.902771   65.83363   \n",
              "220317   2.396528   47.69965  50.520830  43.142361  625.925903   67.29445   \n",
              "220318   2.406366   47.69965  50.520832  43.142361  635.648100   65.09175   \n",
              "220319   2.396528   47.69965  50.520832  43.142361  639.814800   65.45634   \n",
              "\n",
              "        sensor_06  sensor_07  sensor_08  sensor_09  ...  sensor_43  sensor_44  \\\n",
              "0        13.41146   16.13136   15.56713   15.05353  ...   41.92708  39.641200   \n",
              "2        13.32465   16.03733   15.61777   15.01013  ...   41.66666  39.351852   \n",
              "3        13.31742   16.24711   15.69734   15.08247  ...   40.88541  39.062500   \n",
              "4        13.35359   16.21094   15.69734   15.08247  ...   41.40625  38.773150   \n",
              "5        13.41146   16.16753   15.89265   15.16204  ...   42.70833  38.773150   \n",
              "...           ...        ...        ...        ...  ...        ...        ...   \n",
              "220315   15.11863   16.65220   15.65393   15.16204  ...   38.28125  68.287030   \n",
              "220316   15.15480   16.70284   15.65393   15.11863  ...   38.28125  66.840280   \n",
              "220317   15.08970   16.70284   15.69734   15.11863  ...   39.06250  65.393520   \n",
              "220318   15.11863   16.56539   15.74074   15.11863  ...   40.62500  64.236110   \n",
              "220319   15.11863   16.65220   15.65393   15.01013  ...   41.40625  62.789350   \n",
              "\n",
              "        sensor_45  sensor_46  sensor_47  sensor_48  sensor_49  sensor_50  \\\n",
              "0        65.68287   50.92593  38.194440   157.9861   67.70834  243.05560   \n",
              "2        65.39352   51.21528  38.194443   155.9606   67.12963  241.31940   \n",
              "3        64.81481   51.21528  38.194440   155.9606   66.84028  240.45140   \n",
              "4        65.10416   51.79398  38.773150   158.2755   66.55093  242.18750   \n",
              "5        63.65741   51.79398  38.773150   164.6412   66.55093  241.60880   \n",
              "...           ...        ...        ...        ...        ...        ...   \n",
              "220315   52.37268   48.32176  41.087960   212.3843  153.64580  183.04926   \n",
              "220316   50.63657   48.03241  40.798610   213.8310  156.25000  183.04926   \n",
              "220317   48.90046   48.03241  40.798610   217.3032  155.38190  183.04926   \n",
              "220318   47.74306   48.32176  40.509258   222.5116  153.93520  183.04926   \n",
              "220319   46.29630   48.90046  40.219910   227.4306  150.46300  183.04926   \n",
              "\n",
              "        sensor_51  machine_status  \n",
              "0        201.3889               1  \n",
              "2        203.7037               1  \n",
              "3        203.1250               1  \n",
              "4        201.3889               1  \n",
              "5        201.6782               1  \n",
              "...           ...             ...  \n",
              "220315   231.1921               1  \n",
              "220316   231.1921               1  \n",
              "220317   232.0602               1  \n",
              "220318   234.0856               1  \n",
              "220319   234.0856               1  \n",
              "\n",
              "[217444 rows x 52 columns]"
            ],
            "text/html": [
              "\n",
              "  <div id=\"df-8feca192-0fb0-4149-a03d-8902f32bf16e\">\n",
              "    <div class=\"colab-df-container\">\n",
              "      <div>\n",
              "<style scoped>\n",
              "    .dataframe tbody tr th:only-of-type {\n",
              "        vertical-align: middle;\n",
              "    }\n",
              "\n",
              "    .dataframe tbody tr th {\n",
              "        vertical-align: top;\n",
              "    }\n",
              "\n",
              "    .dataframe thead th {\n",
              "        text-align: right;\n",
              "    }\n",
              "</style>\n",
              "<table border=\"1\" class=\"dataframe\">\n",
              "  <thead>\n",
              "    <tr style=\"text-align: right;\">\n",
              "      <th></th>\n",
              "      <th>sensor_00</th>\n",
              "      <th>sensor_01</th>\n",
              "      <th>sensor_02</th>\n",
              "      <th>sensor_03</th>\n",
              "      <th>sensor_04</th>\n",
              "      <th>sensor_05</th>\n",
              "      <th>sensor_06</th>\n",
              "      <th>sensor_07</th>\n",
              "      <th>sensor_08</th>\n",
              "      <th>sensor_09</th>\n",
              "      <th>...</th>\n",
              "      <th>sensor_43</th>\n",
              "      <th>sensor_44</th>\n",
              "      <th>sensor_45</th>\n",
              "      <th>sensor_46</th>\n",
              "      <th>sensor_47</th>\n",
              "      <th>sensor_48</th>\n",
              "      <th>sensor_49</th>\n",
              "      <th>sensor_50</th>\n",
              "      <th>sensor_51</th>\n",
              "      <th>machine_status</th>\n",
              "    </tr>\n",
              "  </thead>\n",
              "  <tbody>\n",
              "    <tr>\n",
              "      <th>0</th>\n",
              "      <td>2.465394</td>\n",
              "      <td>47.09201</td>\n",
              "      <td>53.211800</td>\n",
              "      <td>46.310760</td>\n",
              "      <td>634.375000</td>\n",
              "      <td>76.45975</td>\n",
              "      <td>13.41146</td>\n",
              "      <td>16.13136</td>\n",
              "      <td>15.56713</td>\n",
              "      <td>15.05353</td>\n",
              "      <td>...</td>\n",
              "      <td>41.92708</td>\n",
              "      <td>39.641200</td>\n",
              "      <td>65.68287</td>\n",
              "      <td>50.92593</td>\n",
              "      <td>38.194440</td>\n",
              "      <td>157.9861</td>\n",
              "      <td>67.70834</td>\n",
              "      <td>243.05560</td>\n",
              "      <td>201.3889</td>\n",
              "      <td>1</td>\n",
              "    </tr>\n",
              "    <tr>\n",
              "      <th>2</th>\n",
              "      <td>2.444734</td>\n",
              "      <td>47.35243</td>\n",
              "      <td>53.211800</td>\n",
              "      <td>46.397570</td>\n",
              "      <td>638.888900</td>\n",
              "      <td>73.54598</td>\n",
              "      <td>13.32465</td>\n",
              "      <td>16.03733</td>\n",
              "      <td>15.61777</td>\n",
              "      <td>15.01013</td>\n",
              "      <td>...</td>\n",
              "      <td>41.66666</td>\n",
              "      <td>39.351852</td>\n",
              "      <td>65.39352</td>\n",
              "      <td>51.21528</td>\n",
              "      <td>38.194443</td>\n",
              "      <td>155.9606</td>\n",
              "      <td>67.12963</td>\n",
              "      <td>241.31940</td>\n",
              "      <td>203.7037</td>\n",
              "      <td>1</td>\n",
              "    </tr>\n",
              "    <tr>\n",
              "      <th>3</th>\n",
              "      <td>2.460474</td>\n",
              "      <td>47.09201</td>\n",
              "      <td>53.168400</td>\n",
              "      <td>46.397568</td>\n",
              "      <td>628.125000</td>\n",
              "      <td>76.98898</td>\n",
              "      <td>13.31742</td>\n",
              "      <td>16.24711</td>\n",
              "      <td>15.69734</td>\n",
              "      <td>15.08247</td>\n",
              "      <td>...</td>\n",
              "      <td>40.88541</td>\n",
              "      <td>39.062500</td>\n",
              "      <td>64.81481</td>\n",
              "      <td>51.21528</td>\n",
              "      <td>38.194440</td>\n",
              "      <td>155.9606</td>\n",
              "      <td>66.84028</td>\n",
              "      <td>240.45140</td>\n",
              "      <td>203.1250</td>\n",
              "      <td>1</td>\n",
              "    </tr>\n",
              "    <tr>\n",
              "      <th>4</th>\n",
              "      <td>2.445718</td>\n",
              "      <td>47.13541</td>\n",
              "      <td>53.211800</td>\n",
              "      <td>46.397568</td>\n",
              "      <td>636.458300</td>\n",
              "      <td>76.58897</td>\n",
              "      <td>13.35359</td>\n",
              "      <td>16.21094</td>\n",
              "      <td>15.69734</td>\n",
              "      <td>15.08247</td>\n",
              "      <td>...</td>\n",
              "      <td>41.40625</td>\n",
              "      <td>38.773150</td>\n",
              "      <td>65.10416</td>\n",
              "      <td>51.79398</td>\n",
              "      <td>38.773150</td>\n",
              "      <td>158.2755</td>\n",
              "      <td>66.55093</td>\n",
              "      <td>242.18750</td>\n",
              "      <td>201.3889</td>\n",
              "      <td>1</td>\n",
              "    </tr>\n",
              "    <tr>\n",
              "      <th>5</th>\n",
              "      <td>2.453588</td>\n",
              "      <td>47.09201</td>\n",
              "      <td>53.168400</td>\n",
              "      <td>46.397568</td>\n",
              "      <td>637.615700</td>\n",
              "      <td>78.18568</td>\n",
              "      <td>13.41146</td>\n",
              "      <td>16.16753</td>\n",
              "      <td>15.89265</td>\n",
              "      <td>15.16204</td>\n",
              "      <td>...</td>\n",
              "      <td>42.70833</td>\n",
              "      <td>38.773150</td>\n",
              "      <td>63.65741</td>\n",
              "      <td>51.79398</td>\n",
              "      <td>38.773150</td>\n",
              "      <td>164.6412</td>\n",
              "      <td>66.55093</td>\n",
              "      <td>241.60880</td>\n",
              "      <td>201.6782</td>\n",
              "      <td>1</td>\n",
              "    </tr>\n",
              "    <tr>\n",
              "      <th>...</th>\n",
              "      <td>...</td>\n",
              "      <td>...</td>\n",
              "      <td>...</td>\n",
              "      <td>...</td>\n",
              "      <td>...</td>\n",
              "      <td>...</td>\n",
              "      <td>...</td>\n",
              "      <td>...</td>\n",
              "      <td>...</td>\n",
              "      <td>...</td>\n",
              "      <td>...</td>\n",
              "      <td>...</td>\n",
              "      <td>...</td>\n",
              "      <td>...</td>\n",
              "      <td>...</td>\n",
              "      <td>...</td>\n",
              "      <td>...</td>\n",
              "      <td>...</td>\n",
              "      <td>...</td>\n",
              "      <td>...</td>\n",
              "      <td>...</td>\n",
              "    </tr>\n",
              "    <tr>\n",
              "      <th>220315</th>\n",
              "      <td>2.407350</td>\n",
              "      <td>47.69965</td>\n",
              "      <td>50.520830</td>\n",
              "      <td>43.142361</td>\n",
              "      <td>634.722229</td>\n",
              "      <td>64.59095</td>\n",
              "      <td>15.11863</td>\n",
              "      <td>16.65220</td>\n",
              "      <td>15.65393</td>\n",
              "      <td>15.16204</td>\n",
              "      <td>...</td>\n",
              "      <td>38.28125</td>\n",
              "      <td>68.287030</td>\n",
              "      <td>52.37268</td>\n",
              "      <td>48.32176</td>\n",
              "      <td>41.087960</td>\n",
              "      <td>212.3843</td>\n",
              "      <td>153.64580</td>\n",
              "      <td>183.04926</td>\n",
              "      <td>231.1921</td>\n",
              "      <td>1</td>\n",
              "    </tr>\n",
              "    <tr>\n",
              "      <th>220316</th>\n",
              "      <td>2.400463</td>\n",
              "      <td>47.69965</td>\n",
              "      <td>50.564240</td>\n",
              "      <td>43.142361</td>\n",
              "      <td>630.902771</td>\n",
              "      <td>65.83363</td>\n",
              "      <td>15.15480</td>\n",
              "      <td>16.70284</td>\n",
              "      <td>15.65393</td>\n",
              "      <td>15.11863</td>\n",
              "      <td>...</td>\n",
              "      <td>38.28125</td>\n",
              "      <td>66.840280</td>\n",
              "      <td>50.63657</td>\n",
              "      <td>48.03241</td>\n",
              "      <td>40.798610</td>\n",
              "      <td>213.8310</td>\n",
              "      <td>156.25000</td>\n",
              "      <td>183.04926</td>\n",
              "      <td>231.1921</td>\n",
              "      <td>1</td>\n",
              "    </tr>\n",
              "    <tr>\n",
              "      <th>220317</th>\n",
              "      <td>2.396528</td>\n",
              "      <td>47.69965</td>\n",
              "      <td>50.520830</td>\n",
              "      <td>43.142361</td>\n",
              "      <td>625.925903</td>\n",
              "      <td>67.29445</td>\n",
              "      <td>15.08970</td>\n",
              "      <td>16.70284</td>\n",
              "      <td>15.69734</td>\n",
              "      <td>15.11863</td>\n",
              "      <td>...</td>\n",
              "      <td>39.06250</td>\n",
              "      <td>65.393520</td>\n",
              "      <td>48.90046</td>\n",
              "      <td>48.03241</td>\n",
              "      <td>40.798610</td>\n",
              "      <td>217.3032</td>\n",
              "      <td>155.38190</td>\n",
              "      <td>183.04926</td>\n",
              "      <td>232.0602</td>\n",
              "      <td>1</td>\n",
              "    </tr>\n",
              "    <tr>\n",
              "      <th>220318</th>\n",
              "      <td>2.406366</td>\n",
              "      <td>47.69965</td>\n",
              "      <td>50.520832</td>\n",
              "      <td>43.142361</td>\n",
              "      <td>635.648100</td>\n",
              "      <td>65.09175</td>\n",
              "      <td>15.11863</td>\n",
              "      <td>16.56539</td>\n",
              "      <td>15.74074</td>\n",
              "      <td>15.11863</td>\n",
              "      <td>...</td>\n",
              "      <td>40.62500</td>\n",
              "      <td>64.236110</td>\n",
              "      <td>47.74306</td>\n",
              "      <td>48.32176</td>\n",
              "      <td>40.509258</td>\n",
              "      <td>222.5116</td>\n",
              "      <td>153.93520</td>\n",
              "      <td>183.04926</td>\n",
              "      <td>234.0856</td>\n",
              "      <td>1</td>\n",
              "    </tr>\n",
              "    <tr>\n",
              "      <th>220319</th>\n",
              "      <td>2.396528</td>\n",
              "      <td>47.69965</td>\n",
              "      <td>50.520832</td>\n",
              "      <td>43.142361</td>\n",
              "      <td>639.814800</td>\n",
              "      <td>65.45634</td>\n",
              "      <td>15.11863</td>\n",
              "      <td>16.65220</td>\n",
              "      <td>15.65393</td>\n",
              "      <td>15.01013</td>\n",
              "      <td>...</td>\n",
              "      <td>41.40625</td>\n",
              "      <td>62.789350</td>\n",
              "      <td>46.29630</td>\n",
              "      <td>48.90046</td>\n",
              "      <td>40.219910</td>\n",
              "      <td>227.4306</td>\n",
              "      <td>150.46300</td>\n",
              "      <td>183.04926</td>\n",
              "      <td>234.0856</td>\n",
              "      <td>1</td>\n",
              "    </tr>\n",
              "  </tbody>\n",
              "</table>\n",
              "<p>217444 rows × 52 columns</p>\n",
              "</div>\n",
              "      <button class=\"colab-df-convert\" onclick=\"convertToInteractive('df-8feca192-0fb0-4149-a03d-8902f32bf16e')\"\n",
              "              title=\"Convert this dataframe to an interactive table.\"\n",
              "              style=\"display:none;\">\n",
              "        \n",
              "  <svg xmlns=\"http://www.w3.org/2000/svg\" height=\"24px\"viewBox=\"0 0 24 24\"\n",
              "       width=\"24px\">\n",
              "    <path d=\"M0 0h24v24H0V0z\" fill=\"none\"/>\n",
              "    <path d=\"M18.56 5.44l.94 2.06.94-2.06 2.06-.94-2.06-.94-.94-2.06-.94 2.06-2.06.94zm-11 1L8.5 8.5l.94-2.06 2.06-.94-2.06-.94L8.5 2.5l-.94 2.06-2.06.94zm10 10l.94 2.06.94-2.06 2.06-.94-2.06-.94-.94-2.06-.94 2.06-2.06.94z\"/><path d=\"M17.41 7.96l-1.37-1.37c-.4-.4-.92-.59-1.43-.59-.52 0-1.04.2-1.43.59L10.3 9.45l-7.72 7.72c-.78.78-.78 2.05 0 2.83L4 21.41c.39.39.9.59 1.41.59.51 0 1.02-.2 1.41-.59l7.78-7.78 2.81-2.81c.8-.78.8-2.07 0-2.86zM5.41 20L4 18.59l7.72-7.72 1.47 1.35L5.41 20z\"/>\n",
              "  </svg>\n",
              "      </button>\n",
              "      \n",
              "  <style>\n",
              "    .colab-df-container {\n",
              "      display:flex;\n",
              "      flex-wrap:wrap;\n",
              "      gap: 12px;\n",
              "    }\n",
              "\n",
              "    .colab-df-convert {\n",
              "      background-color: #E8F0FE;\n",
              "      border: none;\n",
              "      border-radius: 50%;\n",
              "      cursor: pointer;\n",
              "      display: none;\n",
              "      fill: #1967D2;\n",
              "      height: 32px;\n",
              "      padding: 0 0 0 0;\n",
              "      width: 32px;\n",
              "    }\n",
              "\n",
              "    .colab-df-convert:hover {\n",
              "      background-color: #E2EBFA;\n",
              "      box-shadow: 0px 1px 2px rgba(60, 64, 67, 0.3), 0px 1px 3px 1px rgba(60, 64, 67, 0.15);\n",
              "      fill: #174EA6;\n",
              "    }\n",
              "\n",
              "    [theme=dark] .colab-df-convert {\n",
              "      background-color: #3B4455;\n",
              "      fill: #D2E3FC;\n",
              "    }\n",
              "\n",
              "    [theme=dark] .colab-df-convert:hover {\n",
              "      background-color: #434B5C;\n",
              "      box-shadow: 0px 1px 3px 1px rgba(0, 0, 0, 0.15);\n",
              "      filter: drop-shadow(0px 1px 2px rgba(0, 0, 0, 0.3));\n",
              "      fill: #FFFFFF;\n",
              "    }\n",
              "  </style>\n",
              "\n",
              "      <script>\n",
              "        const buttonEl =\n",
              "          document.querySelector('#df-8feca192-0fb0-4149-a03d-8902f32bf16e button.colab-df-convert');\n",
              "        buttonEl.style.display =\n",
              "          google.colab.kernel.accessAllowed ? 'block' : 'none';\n",
              "\n",
              "        async function convertToInteractive(key) {\n",
              "          const element = document.querySelector('#df-8feca192-0fb0-4149-a03d-8902f32bf16e');\n",
              "          const dataTable =\n",
              "            await google.colab.kernel.invokeFunction('convertToInteractive',\n",
              "                                                     [key], {});\n",
              "          if (!dataTable) return;\n",
              "\n",
              "          const docLinkHtml = 'Like what you see? Visit the ' +\n",
              "            '<a target=\"_blank\" href=https://colab.research.google.com/notebooks/data_table.ipynb>data table notebook</a>'\n",
              "            + ' to learn more about interactive tables.';\n",
              "          element.innerHTML = '';\n",
              "          dataTable['output_type'] = 'display_data';\n",
              "          await google.colab.output.renderOutput(dataTable, element);\n",
              "          const docLink = document.createElement('div');\n",
              "          docLink.innerHTML = docLinkHtml;\n",
              "          element.appendChild(docLink);\n",
              "        }\n",
              "      </script>\n",
              "    </div>\n",
              "  </div>\n",
              "  "
            ]
          },
          "metadata": {},
          "execution_count": 112
        }
      ]
    },
    {
      "cell_type": "markdown",
      "source": [
        "##### Так как мы увидели, что некоторые признаки обладают не нормальным распределением, а также мы будем делать 3 модели, некоторые из которых могут быть не завязаны на длине векторов мы воспользуемся MinMaxScaling'ом"
      ],
      "metadata": {
        "id": "pQaDtm7La48-"
      }
    },
    {
      "cell_type": "code",
      "source": [
        "from sklearn.preprocessing import MinMaxScaler"
      ],
      "metadata": {
        "id": "3bqpZf2Var1u"
      },
      "execution_count": null,
      "outputs": []
    },
    {
      "cell_type": "code",
      "source": [
        "y = df['machine_status']\n",
        "X = df.drop('machine_status', axis=1)"
      ],
      "metadata": {
        "id": "j4UqlTNUbgnm"
      },
      "execution_count": null,
      "outputs": []
    },
    {
      "cell_type": "code",
      "source": [
        "scaler = MinMaxScaler()\n",
        "X_scaled = scaler.fit_transform(X)"
      ],
      "metadata": {
        "id": "0T59gQIQbd1s"
      },
      "execution_count": null,
      "outputs": []
    },
    {
      "cell_type": "markdown",
      "source": [
        "## Разбиение данных на обучающую и тестовую выборку"
      ],
      "metadata": {
        "id": "3Z7OvXpNcjxe"
      }
    },
    {
      "cell_type": "code",
      "source": [
        "y.value_counts()"
      ],
      "metadata": {
        "colab": {
          "base_uri": "https://localhost:8080/"
        },
        "id": "bexklgL5eWRe",
        "outputId": "6aa7b9e5-6b99-4180-dd0b-31c539c3596e"
      },
      "execution_count": null,
      "outputs": [
        {
          "output_type": "execute_result",
          "data": {
            "text/plain": [
              "1    205836\n",
              "2     14477\n",
              "0         7\n",
              "Name: machine_status, dtype: int64"
            ]
          },
          "metadata": {},
          "execution_count": 121
        }
      ]
    },
    {
      "cell_type": "markdown",
      "source": [
        "##### В качестве разбиения будем пользоваться стратификацией, ведь целевой признак имеет несбалансированные классы"
      ],
      "metadata": {
        "id": "pKqX6xo1b8Qu"
      }
    },
    {
      "cell_type": "code",
      "source": [
        "from sklearn.model_selection import train_test_split"
      ],
      "metadata": {
        "id": "OgzfQpApcrpI"
      },
      "execution_count": null,
      "outputs": []
    },
    {
      "cell_type": "code",
      "source": [
        "X_train, X_test, y_train, y_test = train_test_split(X_scaled, y, test_size=0.3, stratify=df['machine_status'], random_state=33)"
      ],
      "metadata": {
        "id": "a385ZBNoeu6c"
      },
      "execution_count": null,
      "outputs": []
    },
    {
      "cell_type": "markdown",
      "source": [
        "## Выбор модели"
      ],
      "metadata": {
        "id": "kYdXJDuJcsTf"
      }
    },
    {
      "cell_type": "markdown",
      "source": [
        "##### Наша задача - задача классификации. Так как мы не пользовались нормализцией при масштабировании SVM наверняка будет не таким эффективным, по сравнению с использованием нормализации. Первой моделью используем NaiveBayes"
      ],
      "metadata": {
        "id": "mUCzGO5ic7Jt"
      }
    },
    {
      "cell_type": "code",
      "source": [
        "from sklearn.naive_bayes import GaussianNB"
      ],
      "metadata": {
        "id": "U1UCEcTFc1_J"
      },
      "execution_count": null,
      "outputs": []
    },
    {
      "cell_type": "code",
      "source": [
        "gnb = GaussianNB()\n",
        "gnb.fit(X_train, y_train)"
      ],
      "metadata": {
        "id": "CCrSyIstfCWs"
      },
      "execution_count": null,
      "outputs": []
    },
    {
      "cell_type": "code",
      "source": [
        "gnb.score(X_test, y_test)"
      ],
      "metadata": {
        "colab": {
          "base_uri": "https://localhost:8080/"
        },
        "id": "3Cl5Ub9gfKoI",
        "outputId": "a4453271-d191-46a7-9a01-7050afee72ee"
      },
      "execution_count": null,
      "outputs": [
        {
          "output_type": "execute_result",
          "data": {
            "text/plain": [
              "0.9445806100217865"
            ]
          },
          "metadata": {},
          "execution_count": 135
        }
      ]
    },
    {
      "cell_type": "code",
      "source": [
        "from sklearn.metrics import ConfusionMatrixDisplay, confusion_matrix"
      ],
      "metadata": {
        "id": "n1fQLoD5kyKt"
      },
      "execution_count": null,
      "outputs": []
    },
    {
      "cell_type": "code",
      "source": [
        "y_pred = gnb.predict(X_test)\n",
        "cmp = ConfusionMatrixDisplay(\n",
        "    confusion_matrix(y_test, y_pred),\n",
        "    display_labels=[\"BROKEN\", \"RECOVERING\", \"NORMAL\"],\n",
        ")\n",
        "cmp.plot()\n",
        "plt.show();"
      ],
      "metadata": {
        "colab": {
          "base_uri": "https://localhost:8080/",
          "height": 449
        },
        "id": "4o_gQTaykziS",
        "outputId": "675cc774-a6a3-4ff7-9aaf-50369c7ebffb"
      },
      "execution_count": null,
      "outputs": [
        {
          "output_type": "display_data",
          "data": {
            "text/plain": [
              "<Figure size 640x480 with 2 Axes>"
            ],
            "image/png": "[encoded data removed]"
          },
          "metadata": {}
        }
      ]
    },
    {
      "cell_type": "markdown",
      "source": [
        "##### Мы видим хорошую картину, если не считать, что ни один класс из сломанных не был найден правильно"
      ],
      "metadata": {
        "id": "UYFhPoy8lYq2"
      }
    },
    {
      "cell_type": "markdown",
      "source": [
        "##### Следом мы попробуем ансамбль. Создадим модель случайного леса"
      ],
      "metadata": {
        "id": "F9yB8zJ4ftas"
      }
    },
    {
      "cell_type": "code",
      "source": [
        "from sklearn.ensemble import BaggingClassifier\n",
        "from sklearn.tree import DecisionTreeClassifier"
      ],
      "metadata": {
        "id": "mJNcH4cjgFFM"
      },
      "execution_count": null,
      "outputs": []
    },
    {
      "cell_type": "code",
      "source": [
        "tree = DecisionTreeClassifier()\n",
        "\n",
        "bagging_classifier = BaggingClassifier(base_estimator=tree, n_estimators=10, max_samples=0.5, max_features=0.5)\n",
        "bagging_classifier.fit(X_train, y_train)\n",
        "y_pred = bagging_classifier.predict(X_test)"
      ],
      "metadata": {
        "colab": {
          "base_uri": "https://localhost:8080/"
        },
        "id": "Vh6jfTf2fiP0",
        "outputId": "680b0fdc-169c-4769-8957-2648342fdce1"
      },
      "execution_count": null,
      "outputs": [
        {
          "output_type": "stream",
          "name": "stderr",
          "text": [
            "/usr/local/lib/python3.10/dist-packages/sklearn/ensemble/_base.py:166: FutureWarning: `base_estimator` was renamed to `estimator` in version 1.2 and will be removed in 1.4.\n",
            "  warnings.warn(\n"
          ]
        }
      ]
    },
    {
      "cell_type": "code",
      "source": [
        "bagging_classifier.score(X_test, y_test)"
      ],
      "metadata": {
        "colab": {
          "base_uri": "https://localhost:8080/"
        },
        "id": "XLbQjZtBgNYM",
        "outputId": "90fc74f6-46b8-42ab-831f-b0b431f9d52d"
      },
      "execution_count": null,
      "outputs": [
        {
          "output_type": "execute_result",
          "data": {
            "text/plain": [
              "0.9997579278625031"
            ]
          },
          "metadata": {},
          "execution_count": 154
        }
      ]
    },
    {
      "cell_type": "code",
      "source": [
        "y_pred = bagging_classifier.predict(X_test)\n",
        "cmp = ConfusionMatrixDisplay(\n",
        "    confusion_matrix(y_test, y_pred),\n",
        "    display_labels=[\"BROKEN\", \"RECOVERING\", \"NORMAL\"],\n",
        ")\n",
        "cmp.plot()\n",
        "plt.show();"
      ],
      "metadata": {
        "colab": {
          "base_uri": "https://localhost:8080/",
          "height": 449
        },
        "id": "1yi2McRLljOC",
        "outputId": "81539996-1a2f-4788-855f-baf61ed202cb"
      },
      "execution_count": null,
      "outputs": [
        {
          "output_type": "display_data",
          "data": {
            "text/plain": [
              "<Figure size 640x480 with 2 Axes>"
            ],
            "image/png": "[encoded data removed]"
          },
          "metadata": {}
        }
      ]
    },
    {
      "cell_type": "markdown",
      "source": [
        "##### Ситуация лучше чем у Байеса, но все еще не определен ни один сломанный насос"
      ],
      "metadata": {
        "id": "jv5SKhhQlohV"
      }
    },
    {
      "cell_type": "markdown",
      "source": [
        "##### Попробуем стекинг. Будем менять логистическую регрессию с Байесом"
      ],
      "metadata": {
        "id": "fJGXAOHais3R"
      }
    },
    {
      "cell_type": "code",
      "source": [
        "from sklearn.ensemble import StackingClassifier\n",
        "from sklearn.linear_model import LogisticRegression\n",
        "from sklearn.svm import SVC\n",
        "from sklearn.naive_bayes import GaussianNB\n",
        "from sklearn.metrics import accuracy_score"
      ],
      "metadata": {
        "id": "vBB6szeDqK4X"
      },
      "execution_count": null,
      "outputs": []
    },
    {
      "cell_type": "code",
      "source": [
        "estimators = [\n",
        "    (\"lr2\", LogisticRegression(max_iter=500)),\n",
        "    (\"nb1\", GaussianNB()),\n",
        "    (\"lr1\", LogisticRegression(max_iter=500)),\n",
        "]\n",
        "\n",
        "model = StackingClassifier(estimators=estimators,\n",
        "                           final_estimator=LogisticRegression(),\n",
        "                           cv=3)\n",
        "\n",
        "model.fit(X_train, y_train)"
      ],
      "metadata": {
        "colab": {
          "base_uri": "https://localhost:8080/",
          "height": 163
        },
        "id": "L5cLdsz7pSDB",
        "outputId": "b536e9cf-efb4-49a3-b3d6-ac8b5db0f642"
      },
      "execution_count": null,
      "outputs": [
        {
          "output_type": "execute_result",
          "data": {
            "text/plain": [
              "StackingClassifier(cv=3,\n",
              "                   estimators=[('lr2', LogisticRegression(max_iter=500)),\n",
              "                               ('nb1', GaussianNB()),\n",
              "                               ('lr1', LogisticRegression(max_iter=500))],\n",
              "                   final_estimator=LogisticRegression())"
            ],
            "text/html": [
              "<style>#sk-container-id-2 {color: black;background-color: white;}#sk-container-id-2 pre{padding: 0;}#sk-container-id-2 div.sk-toggleable {background-color: white;}#sk-container-id-2 label.sk-toggleable__label {cursor: pointer;display: block;width: 100%;margin-bottom: 0;padding: 0.3em;box-sizing: border-box;text-align: center;}#sk-container-id-2 label.sk-toggleable__label-arrow:before {content: \"▸\";float: left;margin-right: 0.25em;color: #696969;}#sk-container-id-2 label.sk-toggleable__label-arrow:hover:before {color: black;}#sk-container-id-2 div.sk-estimator:hover label.sk-toggleable__label-arrow:before {color: black;}#sk-container-id-2 div.sk-toggleable__content {max-height: 0;max-width: 0;overflow: hidden;text-align: left;background-color: #f0f8ff;}#sk-container-id-2 div.sk-toggleable__content pre {margin: 0.2em;color: black;border-radius: 0.25em;background-color: #f0f8ff;}#sk-container-id-2 input.sk-toggleable__control:checked~div.sk-toggleable__content {max-height: 200px;max-width: 100%;overflow: auto;}#sk-container-id-2 input.sk-toggleable__control:checked~label.sk-toggleable__label-arrow:before {content: \"▾\";}#sk-container-id-2 div.sk-estimator input.sk-toggleable__control:checked~label.sk-toggleable__label {background-color: #d4ebff;}#sk-container-id-2 div.sk-label input.sk-toggleable__control:checked~label.sk-toggleable__label {background-color: #d4ebff;}#sk-container-id-2 input.sk-hidden--visually {border: 0;clip: rect(1px 1px 1px 1px);clip: rect(1px, 1px, 1px, 1px);height: 1px;margin: -1px;overflow: hidden;padding: 0;position: absolute;width: 1px;}#sk-container-id-2 div.sk-estimator {font-family: monospace;background-color: #f0f8ff;border: 1px dotted black;border-radius: 0.25em;box-sizing: border-box;margin-bottom: 0.5em;}#sk-container-id-2 div.sk-estimator:hover {background-color: #d4ebff;}#sk-container-id-2 div.sk-parallel-item::after {content: \"\";width: 100%;border-bottom: 1px solid gray;flex-grow: 1;}#sk-container-id-2 div.sk-label:hover label.sk-toggleable__label {background-color: #d4ebff;}#sk-container-id-2 div.sk-serial::before {content: \"\";position: absolute;border-left: 1px solid gray;box-sizing: border-box;top: 0;bottom: 0;left: 50%;z-index: 0;}#sk-container-id-2 div.sk-serial {display: flex;flex-direction: column;align-items: center;background-color: white;padding-right: 0.2em;padding-left: 0.2em;position: relative;}#sk-container-id-2 div.sk-item {position: relative;z-index: 1;}#sk-container-id-2 div.sk-parallel {display: flex;align-items: stretch;justify-content: center;background-color: white;position: relative;}#sk-container-id-2 div.sk-item::before, #sk-container-id-2 div.sk-parallel-item::before {content: \"\";position: absolute;border-left: 1px solid gray;box-sizing: border-box;top: 0;bottom: 0;left: 50%;z-index: -1;}#sk-container-id-2 div.sk-parallel-item {display: flex;flex-direction: column;z-index: 1;position: relative;background-color: white;}#sk-container-id-2 div.sk-parallel-item:first-child::after {align-self: flex-end;width: 50%;}#sk-container-id-2 div.sk-parallel-item:last-child::after {align-self: flex-start;width: 50%;}#sk-container-id-2 div.sk-parallel-item:only-child::after {width: 0;}#sk-container-id-2 div.sk-dashed-wrapped {border: 1px dashed gray;margin: 0 0.4em 0.5em 0.4em;box-sizing: border-box;padding-bottom: 0.4em;background-color: white;}#sk-container-id-2 div.sk-label label {font-family: monospace;font-weight: bold;display: inline-block;line-height: 1.2em;}#sk-container-id-2 div.sk-label-container {text-align: center;}#sk-container-id-2 div.sk-container {/* jupyter's `normalize.less` sets `[hidden] { display: none; }` but bootstrap.min.css set `[hidden] { display: none !important; }` so we also need the `!important` here to be able to override the default hidden behavior on the sphinx rendered scikit-learn.org. See: https://github.com/scikit-learn/scikit-learn/issues/21755 */display: inline-block !important;position: relative;}#sk-container-id-2 div.sk-text-repr-fallback {display: none;}</style><div id=\"sk-container-id-2\" class=\"sk-top-container\"><div class=\"sk-text-repr-fallback\"><pre>StackingClassifier(cv=3,\n",
              "                   estimators=[(&#x27;lr2&#x27;, LogisticRegression(max_iter=500)),\n",
              "                               (&#x27;nb1&#x27;, GaussianNB()),\n",
              "                               (&#x27;lr1&#x27;, LogisticRegression(max_iter=500))],\n",
              "                   final_estimator=LogisticRegression())</pre><b>In a Jupyter environment, please rerun this cell to show the HTML representation or trust the notebook. <br />On GitHub, the HTML representation is unable to render, please try loading this page with nbviewer.org.</b></div><div class=\"sk-container\" hidden><div class=\"sk-item sk-dashed-wrapped\"><div class=\"sk-label-container\"><div class=\"sk-label sk-toggleable\"><input class=\"sk-toggleable__control sk-hidden--visually\" id=\"sk-estimator-id-6\" type=\"checkbox\" ><label for=\"sk-estimator-id-6\" class=\"sk-toggleable__label sk-toggleable__label-arrow\">StackingClassifier</label><div class=\"sk-toggleable__content\"><pre>StackingClassifier(cv=3,\n",
              "                   estimators=[(&#x27;lr2&#x27;, LogisticRegression(max_iter=500)),\n",
              "                               (&#x27;nb1&#x27;, GaussianNB()),\n",
              "                               (&#x27;lr1&#x27;, LogisticRegression(max_iter=500))],\n",
              "                   final_estimator=LogisticRegression())</pre></div></div></div><div class=\"sk-serial\"><div class=\"sk-item\"><div class=\"sk-parallel\"><div class=\"sk-parallel-item\"><div class=\"sk-item\"><div class=\"sk-label-container\"><div class=\"sk-label sk-toggleable\"><label>lr2</label></div></div><div class=\"sk-serial\"><div class=\"sk-item\"><div class=\"sk-estimator sk-toggleable\"><input class=\"sk-toggleable__control sk-hidden--visually\" id=\"sk-estimator-id-7\" type=\"checkbox\" ><label for=\"sk-estimator-id-7\" class=\"sk-toggleable__label sk-toggleable__label-arrow\">LogisticRegression</label><div class=\"sk-toggleable__content\"><pre>LogisticRegression(max_iter=500)</pre></div></div></div></div></div></div><div class=\"sk-parallel-item\"><div class=\"sk-item\"><div class=\"sk-label-container\"><div class=\"sk-label sk-toggleable\"><label>nb1</label></div></div><div class=\"sk-serial\"><div class=\"sk-item\"><div class=\"sk-estimator sk-toggleable\"><input class=\"sk-toggleable__control sk-hidden--visually\" id=\"sk-estimator-id-8\" type=\"checkbox\" ><label for=\"sk-estimator-id-8\" class=\"sk-toggleable__label sk-toggleable__label-arrow\">GaussianNB</label><div class=\"sk-toggleable__content\"><pre>GaussianNB()</pre></div></div></div></div></div></div><div class=\"sk-parallel-item\"><div class=\"sk-item\"><div class=\"sk-label-container\"><div class=\"sk-label sk-toggleable\"><label>lr1</label></div></div><div class=\"sk-serial\"><div class=\"sk-item\"><div class=\"sk-estimator sk-toggleable\"><input class=\"sk-toggleable__control sk-hidden--visually\" id=\"sk-estimator-id-9\" type=\"checkbox\" ><label for=\"sk-estimator-id-9\" class=\"sk-toggleable__label sk-toggleable__label-arrow\">LogisticRegression</label><div class=\"sk-toggleable__content\"><pre>LogisticRegression(max_iter=500)</pre></div></div></div></div></div></div></div></div><div class=\"sk-item\"><div class=\"sk-parallel\"><div class=\"sk-parallel-item\"><div class=\"sk-item\"><div class=\"sk-label-container\"><div class=\"sk-label sk-toggleable\"><label>final_estimator</label></div></div><div class=\"sk-serial\"><div class=\"sk-item\"><div class=\"sk-estimator sk-toggleable\"><input class=\"sk-toggleable__control sk-hidden--visually\" id=\"sk-estimator-id-10\" type=\"checkbox\" ><label for=\"sk-estimator-id-10\" class=\"sk-toggleable__label sk-toggleable__label-arrow\">LogisticRegression</label><div class=\"sk-toggleable__content\"><pre>LogisticRegression()</pre></div></div></div></div></div></div></div></div></div></div></div></div>"
            ]
          },
          "metadata": {},
          "execution_count": 229
        }
      ]
    },
    {
      "cell_type": "code",
      "source": [
        "model.score(X_test, y_test)"
      ],
      "metadata": {
        "colab": {
          "base_uri": "https://localhost:8080/"
        },
        "id": "JQ7tfQWurskf",
        "outputId": "2bbdbc27-eebe-4635-94d8-bddee6b04fb8"
      },
      "execution_count": null,
      "outputs": [
        {
          "output_type": "execute_result",
          "data": {
            "text/plain": [
              "0.9970194868070685"
            ]
          },
          "metadata": {},
          "execution_count": 231
        }
      ]
    },
    {
      "cell_type": "code",
      "source": [
        "y_pred = model.predict(X_test)\n",
        "cmp = ConfusionMatrixDisplay(\n",
        "    confusion_matrix(y_test, y_pred),\n",
        "    display_labels=[\"BROKEN\", \"RECOVERING\", \"NORMAL\"],\n",
        ")\n",
        "cmp.plot()\n",
        "plt.show();"
      ],
      "metadata": {
        "colab": {
          "base_uri": "https://localhost:8080/",
          "height": 449
        },
        "id": "gAlm9vLapVNA",
        "outputId": "acd4ba3a-0d4b-4cde-d824-e53157dfec32"
      },
      "execution_count": null,
      "outputs": [
        {
          "output_type": "display_data",
          "data": {
            "text/plain": [
              "<Figure size 640x480 with 2 Axes>"
            ],
            "image/png": "[encoded data removed]"
          },
          "metadata": {}
        }
      ]
    },
    {
      "cell_type": "markdown",
      "source": [
        "##### Лучше всего себя показал случайный лес"
      ],
      "metadata": {
        "id": "PMccjh_Zr2hP"
      }
    },
    {
      "cell_type": "markdown",
      "source": [
        "##### Проблема каждой из этих моделей в том, что никто из них не определил сломанные насосы. Стратификация не помогла"
      ],
      "metadata": {
        "id": "UutW8PZbr-JG"
      }
    },
    {
      "cell_type": "markdown",
      "source": [
        "# Модуль C"
      ],
      "metadata": {
        "id": "CKmpJgxD5wPg"
      }
    },
    {
      "cell_type": "code",
      "source": [
        "!pip install -q streamlit"
      ],
      "metadata": {
        "id": "pvFuQjC25ycr"
      },
      "execution_count": null,
      "outputs": []
    },
    {
      "cell_type": "code",
      "source": [
        "from google.colab import drive\n",
        "\n",
        "drive.mount('/content/drive')"
      ],
      "metadata": {
        "colab": {
          "base_uri": "https://localhost:8080/"
        },
        "id": "PLrNeVNm6IzK",
        "outputId": "7a9891f7-8768-4b57-f64c-563bd025a2b6"
      },
      "execution_count": null,
      "outputs": [
        {
          "output_type": "stream",
          "name": "stdout",
          "text": [
            "Mounted at /content/drive\n"
          ]
        }
      ]
    },
    {
      "cell_type": "code",
      "source": [
        "!pip install -q joblib"
      ],
      "metadata": {
        "id": "-3CB4gfN6et4"
      },
      "execution_count": null,
      "outputs": []
    },
    {
      "cell_type": "code",
      "source": [
        "import pickle"
      ],
      "metadata": {
        "id": "ga4i2FDM6oki"
      },
      "execution_count": null,
      "outputs": []
    },
    {
      "cell_type": "code",
      "source": [
        "pickle.dump(gnb, open('/content/drive/MyDrive/NaiveBayes.sav', 'wb'))"
      ],
      "metadata": {
        "id": "vLWx_aHf6uHg"
      },
      "execution_count": null,
      "outputs": []
    },
    {
      "cell_type": "code",
      "source": [
        "pickle.dump(bagging_classifier, open('/content/drive/MyDrive/Bagging.sav', 'wb'))"
      ],
      "metadata": {
        "id": "4CwwGPjx7Tgw"
      },
      "execution_count": null,
      "outputs": []
    },
    {
      "cell_type": "code",
      "source": [
        "pickle.dump(model, open('/content/drive/MyDrive/Stacking.sav', 'wb'))"
      ],
      "metadata": {
        "id": "LfdlKpcN7ZV5"
      },
      "execution_count": null,
      "outputs": []
    },
    {
      "cell_type": "code",
      "source": [
        "nb_path = \"https://drive.google.com/file/d/1IMSGKGPAm-i1Txvn5dEPT1mcDIoESTrE/view?usp=drive_link\"\n",
        "bg_path = \"https://drive.google.com/file/d/1pjIz6Sq-UzhRPjEO5kIcLWBIAnn2MFqi/view?usp=drive_link\"\n",
        "st_path = \"https://drive.google.com/file/d/1xfpAwj_nc88z2BhoD3i8MZFSXUVzYp2E/view?usp=drive_link\""
      ],
      "metadata": {
        "id": "MAcYJzQT73_w"
      },
      "execution_count": null,
      "outputs": []
    },
    {
      "cell_type": "code",
      "source": [
        "import os\n",
        "\n",
        "\n",
        "id_slice = slice(32, 65)\n",
        "\n",
        "nb_file_id = nb_path[id_slice]\n",
        "bg_file_id = bg_path[id_slice]\n",
        "st_file_id = st_path[id_slice]\n",
        "\n",
        "os.system(f\"wget -q -O nb.sav https://drive.google.com/uc?id={nb_file_id}\")\n",
        "os.system(f\"wget -q -O bg.sav https://drive.google.com/uc?id={bg_file_id}\")\n",
        "os.system(f\"wget -q -O st.sav https://drive.google.com/uc?id={st_file_id}\")"
      ],
      "metadata": {
        "colab": {
          "base_uri": "https://localhost:8080/"
        },
        "id": "nMJXBfs87jCg",
        "outputId": "174ca733-4977-4115-ff81-70a37ddd6947"
      },
      "execution_count": null,
      "outputs": [
        {
          "output_type": "execute_result",
          "data": {
            "text/plain": [
              "0"
            ]
          },
          "metadata": {},
          "execution_count": 375
        }
      ]
    },
    {
      "cell_type": "code",
      "source": [
        "%%writefile description.py\n",
        "import streamlit as st\n",
        "\n",
        "st.set_page_config(\n",
        "    page_title=\"Описание датасета\",\n",
        ")\n",
        "\n",
        "st.sidebar.write(\"Выберите страницу сверху\")\n",
        "\n",
        "st.markdown(\n",
        "    \"\"\"\n",
        "    # Датасет — контроль состояния водяной помпы\n",
        "    1. timestamp —- время фиксации данных (дата и время)\n",
        "    2. sensor_00 - sensor_51 — Зафиксированные сенсорами результаты (вещественное число)\n",
        "    3. machine_status — состояние водяной помпы (один из трех классов: BROKEN, RECOVERING или NORMAL)\n",
        "    \"\"\"\n",
        ")"
      ],
      "metadata": {
        "colab": {
          "base_uri": "https://localhost:8080/"
        },
        "id": "9l3EBIt18-JC",
        "outputId": "26988daf-fff1-47d1-8007-fbcfa8820aa7"
      },
      "execution_count": null,
      "outputs": [
        {
          "output_type": "stream",
          "name": "stdout",
          "text": [
            "Overwriting description.py\n"
          ]
        }
      ]
    },
    {
      "cell_type": "code",
      "source": [
        "%%writefile pages/models.py\n",
        "import streamlit as st\n",
        "\n",
        "st.set_page_config(\n",
        "    page_title=\"Описание моделей\",\n",
        ")\n",
        "\n",
        "st.sidebar.write(\"Выберите страницу сверху\")\n",
        "\n",
        "st.markdown(\n",
        "    \"\"\"\n",
        "    # Модели\n",
        "    Были выбранны данные модели:\n",
        "    1. NaiveBayes (accuracy - 0.944)\n",
        "    2. Random Forest (accuracy - 0.999)\n",
        "    3. Stacking LogisticRegression -> NaiveBayes -> LogisticRegression (accuracy - 0.995)\n",
        "    \"\"\"\n",
        ")"
      ],
      "metadata": {
        "colab": {
          "base_uri": "https://localhost:8080/"
        },
        "id": "tNy5n9dB_MJk",
        "outputId": "6a8ede1e-77a9-4a09-b1fc-551049c11dab"
      },
      "execution_count": null,
      "outputs": [
        {
          "output_type": "stream",
          "name": "stdout",
          "text": [
            "Overwriting pages/models.py\n"
          ]
        }
      ]
    },
    {
      "cell_type": "code",
      "source": [
        "%%writefile pages/predict.py\n",
        "import streamlit as st\n",
        "import pandas as pd\n",
        "from sklearn.preprocessing import MinMaxScaler\n",
        "import joblib as jb\n",
        "import pickle\n",
        "\n",
        "st.set_page_config(\n",
        "    page_title=\"Получение предсказаний\",\n",
        ")\n",
        "\n",
        "get_model = {\n",
        "        'Naive Bayes': '/content/nb.sav',\n",
        "        'Random Forest': '/content/bg.sav',\n",
        "        'Stacking': '/content/st.sav'\n",
        "        }\n",
        "\n",
        "optioni = st.sidebar.selectbox('Выберите тип загрузки', ('Задание параметров', 'CSV'))\n",
        "\n",
        "optionm = st.selectbox(\"Выберите модель\",\n",
        "                      ('Naive Bayes', 'Random Forest', 'Stacking')\n",
        "                      )\n",
        "model = None\n",
        "\n",
        "try:\n",
        "    model = open(get_model[f'{option}'], 'rb')\n",
        "    st.sidebar.success(f'Модель \\\"{optionm}\\\" успешно загружена')\n",
        "except:\n",
        "    st.sidebar.error(f'Модели нет или она не успела загрузиться')\n",
        "\n",
        "\n",
        "if optioni == 'Задание параметров':\n",
        "  df = pd.DataFrame({'sensore_00': 0}, index=[0])\n",
        "  cfg = dict()\n",
        "  for i in range(1, 52):\n",
        "    cfg[f'sensor_{str(i).zfill(2)}'] = st.column_config.NumberColumn()\n",
        "    df[f'sensor_{str(i).zfill(2)}'] = 0\n",
        "  ds = st.data_editor(df, column_config=cfg, hide_index=True)\n",
        "else:\n",
        "  upload = st.file_uploader(\"Выберите CSV для предсказания\", type='csv')\n",
        "  ds = pd.read_csv(upload)\n",
        "\n",
        "if ds is not None and model is not None:\n",
        "  scaler = MinMaxScaler()\n",
        "  X = scaler.fit_transform(ds)\n",
        "  jbmodel = pickle.load(model)\n",
        "  y_pred = jbmodel.predict(X)\n",
        "  if y_pred == 2:\n",
        "    st.success('NORMAL')\n",
        "  elif y_pred == 1:\n",
        "    st.warning('RECOVERING')\n",
        "  else:\n",
        "    st.error('BROKEN')\n",
        "  st.table(datatab)\n"
      ],
      "metadata": {
        "colab": {
          "base_uri": "https://localhost:8080/"
        },
        "id": "fgKw46zqAEz-",
        "outputId": "994ce2a8-e2b6-4c4a-e800-dc940011a5f8"
      },
      "execution_count": null,
      "outputs": [
        {
          "output_type": "stream",
          "name": "stdout",
          "text": [
            "Overwriting pages/predict.py\n"
          ]
        }
      ]
    },
    {
      "cell_type": "code",
      "source": [
        "!npm install localtunnel"
      ],
      "metadata": {
        "colab": {
          "base_uri": "https://localhost:8080/"
        },
        "id": "iUr9rYCq-SjG",
        "outputId": "3db97700-f217-47dc-863e-433443cef21d"
      },
      "execution_count": null,
      "outputs": [
        {
          "output_type": "stream",
          "name": "stdout",
          "text": [
            "\u001b[K\u001b[?25h\u001b[37;40mnpm\u001b[0m \u001b[0m\u001b[30;43mWARN\u001b[0m \u001b[0m\u001b[35msaveError\u001b[0m ENOENT: no such file or directory, open '/content/package.json'\n",
            "\u001b[0m\u001b[37;40mnpm\u001b[0m \u001b[0m\u001b[34;40mnotice\u001b[0m\u001b[35m\u001b[0m created a lockfile as package-lock.json. You should commit this file.\n",
            "\u001b[0m\u001b[37;40mnpm\u001b[0m \u001b[0m\u001b[30;43mWARN\u001b[0m \u001b[0m\u001b[35menoent\u001b[0m ENOENT: no such file or directory, open '/content/package.json'\n",
            "\u001b[0m\u001b[37;40mnpm\u001b[0m \u001b[0m\u001b[30;43mWARN\u001b[0m\u001b[35m\u001b[0m content No description\n",
            "\u001b[0m\u001b[37;40mnpm\u001b[0m \u001b[0m\u001b[30;43mWARN\u001b[0m\u001b[35m\u001b[0m content No repository field.\n",
            "\u001b[0m\u001b[37;40mnpm\u001b[0m \u001b[0m\u001b[30;43mWARN\u001b[0m\u001b[35m\u001b[0m content No README data\n",
            "\u001b[0m\u001b[37;40mnpm\u001b[0m \u001b[0m\u001b[30;43mWARN\u001b[0m\u001b[35m\u001b[0m content No license field.\n",
            "\u001b[0m\n",
            "+ localtunnel@2.0.2\n",
            "added 22 packages from 22 contributors and audited 22 packages in 2.101s\n",
            "\n",
            "3 packages are looking for funding\n",
            "  run `npm fund` for details\n",
            "\n",
            "found \u001b[92m0\u001b[0m vulnerabilities\n",
            "\n",
            "\u001b[K\u001b[?25h"
          ]
        }
      ]
    },
    {
      "cell_type": "code",
      "source": [
        "!streamlit run /content/description.py &>/content/logs.txt &"
      ],
      "metadata": {
        "id": "dNoXVM4o-VdO"
      },
      "execution_count": null,
      "outputs": []
    },
    {
      "cell_type": "code",
      "source": [
        "!npx localtunnel --port 8501"
      ],
      "metadata": {
        "colab": {
          "base_uri": "https://localhost:8080/"
        },
        "id": "A2rXD9p--YZ2",
        "outputId": "3ec369db-ef26-42a6-d4a4-297e740530f9"
      },
      "execution_count": null,
      "outputs": [
        {
          "output_type": "stream",
          "name": "stdout",
          "text": [
            "\u001b[K\u001b[?25hnpx: installed 22 in 2.681s\n",
            "your url is: https://proud-chicken-throw.loca.lt\n",
            "^C\n"
          ]
        }
      ]
    },
    {
      "cell_type": "code",
      "source": [
        "!curl ipecho.net/plain"
      ],
      "metadata": {
        "colab": {
          "base_uri": "https://localhost:8080/"
        },
        "id": "G1dUIeFn-aqv",
        "outputId": "7f51b306-4641-4f35-950a-f5f034a0a980"
      },
      "execution_count": null,
      "outputs": [
        {
          "output_type": "stream",
          "name": "stdout",
          "text": [
            "34.73.56.14"
          ]
        }
      ]
    }
  ]
}